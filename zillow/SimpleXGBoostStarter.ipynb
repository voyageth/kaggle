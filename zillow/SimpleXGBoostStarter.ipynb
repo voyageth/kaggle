{
 "cells": [
  {
   "cell_type": "markdown",
   "metadata": {},
   "source": [
    "Code from https://www.kaggle.com/anokas/simple-xgboost-starter-0-0655/code"
   ]
  },
  {
   "cell_type": "code",
   "execution_count": 5,
   "metadata": {},
   "outputs": [
    {
     "name": "stdout",
     "output_type": "stream",
     "text": [
      "Loading data ...\n"
     ]
    },
    {
     "name": "stderr",
     "output_type": "stream",
     "text": [
      "/home/voyageth/develop/anaconda3/envs/kaggle/lib/python3.6/site-packages/IPython/core/interactiveshell.py:2698: DtypeWarning: Columns (22,32,34,49,55) have mixed types. Specify dtype option on import or set low_memory=False.\n",
      "  interactivity=interactivity, compiler=compiler, result=result)\n"
     ]
    },
    {
     "name": "stdout",
     "output_type": "stream",
     "text": [
      "Binding to float32\n",
      "Creating training set ...\n",
      "(90275, 55) (90275,)\n",
      "Building DMatrix...\n",
      "Training ...\n",
      "[0]\ttrain-mae:0.488065\tvalid-mae:0.48112\n",
      "Multiple eval metrics have been passed: 'valid-mae' will be used for early stopping.\n",
      "\n",
      "Will train until valid-mae hasn't improved in 100 rounds.\n",
      "[10]\ttrain-mae:0.402221\tvalid-mae:0.395444\n",
      "[20]\ttrain-mae:0.33268\tvalid-mae:0.326099\n",
      "[30]\ttrain-mae:0.276518\tvalid-mae:0.270132\n",
      "[40]\ttrain-mae:0.231316\tvalid-mae:0.225213\n",
      "[50]\ttrain-mae:0.195059\tvalid-mae:0.189317\n",
      "[60]\ttrain-mae:0.166121\tvalid-mae:0.16072\n",
      "[70]\ttrain-mae:0.143116\tvalid-mae:0.138042\n",
      "[80]\ttrain-mae:0.124973\tvalid-mae:0.120214\n",
      "[90]\ttrain-mae:0.11079\tvalid-mae:0.106351\n",
      "[100]\ttrain-mae:0.099822\tvalid-mae:0.095702\n",
      "[110]\ttrain-mae:0.091454\tvalid-mae:0.087592\n",
      "[120]\ttrain-mae:0.085149\tvalid-mae:0.08158\n",
      "[130]\ttrain-mae:0.080457\tvalid-mae:0.077192\n",
      "[140]\ttrain-mae:0.077015\tvalid-mae:0.074063\n",
      "[150]\ttrain-mae:0.07451\tvalid-mae:0.071827\n",
      "[160]\ttrain-mae:0.072688\tvalid-mae:0.070245\n",
      "[170]\ttrain-mae:0.071374\tvalid-mae:0.069128\n",
      "[180]\ttrain-mae:0.070415\tvalid-mae:0.068366\n",
      "[190]\ttrain-mae:0.069715\tvalid-mae:0.067854\n",
      "[200]\ttrain-mae:0.069209\tvalid-mae:0.067512\n",
      "[210]\ttrain-mae:0.068828\tvalid-mae:0.06727\n",
      "[220]\ttrain-mae:0.068547\tvalid-mae:0.067113\n",
      "[230]\ttrain-mae:0.068334\tvalid-mae:0.067006\n",
      "[240]\ttrain-mae:0.068171\tvalid-mae:0.066937\n",
      "[250]\ttrain-mae:0.068039\tvalid-mae:0.066892\n",
      "[260]\ttrain-mae:0.067937\tvalid-mae:0.066866\n",
      "[270]\ttrain-mae:0.067856\tvalid-mae:0.066848\n",
      "[280]\ttrain-mae:0.067789\tvalid-mae:0.06684\n",
      "[290]\ttrain-mae:0.067734\tvalid-mae:0.066839\n",
      "[300]\ttrain-mae:0.067686\tvalid-mae:0.066841\n",
      "[310]\ttrain-mae:0.067651\tvalid-mae:0.066844\n",
      "[320]\ttrain-mae:0.067618\tvalid-mae:0.066859\n",
      "[330]\ttrain-mae:0.06759\tvalid-mae:0.06686\n",
      "[340]\ttrain-mae:0.067568\tvalid-mae:0.066872\n",
      "[350]\ttrain-mae:0.067543\tvalid-mae:0.066882\n",
      "[360]\ttrain-mae:0.067523\tvalid-mae:0.066877\n",
      "[370]\ttrain-mae:0.067504\tvalid-mae:0.066888\n",
      "[380]\ttrain-mae:0.067483\tvalid-mae:0.066905\n",
      "Stopping. Best iteration:\n",
      "[288]\ttrain-mae:0.067745\tvalid-mae:0.066835\n",
      "\n",
      "Building test set ...\n"
     ]
    },
    {
     "name": "stderr",
     "output_type": "stream",
     "text": [
      "/home/voyageth/develop/anaconda3/envs/kaggle/lib/python3.6/site-packages/ipykernel_launcher.py:66: SettingWithCopyWarning: \n",
      "A value is trying to be set on a copy of a slice from a DataFrame.\n",
      "Try using .loc[row_indexer,col_indexer] = value instead\n",
      "\n",
      "See the caveats in the documentation: http://pandas.pydata.org/pandas-docs/stable/indexing.html#indexing-view-versus-copy\n"
     ]
    },
    {
     "name": "stdout",
     "output_type": "stream",
     "text": [
      "Predicting on test ...\n",
      "Writing csv ...\n"
     ]
    }
   ],
   "source": [
    "import numpy as np\n",
    "import pandas as pd\n",
    "import xgboost as xgb\n",
    "import gc\n",
    "\n",
    "print('Loading data ...')\n",
    "\n",
    "train = pd.read_csv('input/train_2016_v2.csv')\n",
    "prop = pd.read_csv('input/properties_2016.csv')\n",
    "sample = pd.read_csv('input/sample_submission.csv')\n",
    "\n",
    "print('Binding to float32')\n",
    "\n",
    "for c, dtype in zip(prop.columns, prop.dtypes):\n",
    "    if dtype == np.float64:\n",
    "        prop[c] = prop[c].astype(np.float32)\n",
    "\n",
    "print('Creating training set ...')\n",
    "\n",
    "df_train = train.merge(prop, how='left', on='parcelid')\n",
    "\n",
    "x_train = df_train.drop(['parcelid', 'logerror', 'transactiondate', 'propertyzoningdesc', 'propertycountylandusecode'], axis=1)\n",
    "y_train = df_train['logerror'].values\n",
    "print(x_train.shape, y_train.shape)\n",
    "\n",
    "train_columns = x_train.columns\n",
    "\n",
    "for c in x_train.dtypes[x_train.dtypes == object].index.values:\n",
    "    x_train[c] = (x_train[c] == True)\n",
    "\n",
    "del df_train; gc.collect()\n",
    "\n",
    "split = 80000\n",
    "x_train, y_train, x_valid, y_valid = x_train[:split], y_train[:split], x_train[split:], y_train[split:]\n",
    "\n",
    "print('Building DMatrix...')\n",
    "\n",
    "d_train = xgb.DMatrix(x_train, label=y_train)\n",
    "d_valid = xgb.DMatrix(x_valid, label=y_valid)\n",
    "\n",
    "del x_train, x_valid; gc.collect()\n",
    "\n",
    "print('Training ...')\n",
    "\n",
    "params = {}\n",
    "params['eta'] = 0.02\n",
    "params['objective'] = 'reg:linear'\n",
    "params['eval_metric'] = 'mae'\n",
    "params['max_depth'] = 4\n",
    "params['silent'] = 1\n",
    "\n",
    "watchlist = [(d_train, 'train'), (d_valid, 'valid')]\n",
    "clf = xgb.train(params, d_train, 10000, watchlist, early_stopping_rounds=100, verbose_eval=10)\n",
    "\n",
    "del d_train, d_valid\n",
    "\n",
    "print('Building test set ...')\n",
    "\n",
    "sample['parcelid'] = sample['ParcelId']\n",
    "df_test = sample.merge(prop, on='parcelid', how='left')\n",
    "\n",
    "del prop; gc.collect()\n",
    "\n",
    "x_test = df_test[train_columns]\n",
    "for c in x_test.dtypes[x_test.dtypes == object].index.values:\n",
    "    x_test[c] = (x_test[c] == True)\n",
    "\n",
    "del df_test, sample; gc.collect()\n",
    "\n",
    "d_test = xgb.DMatrix(x_test)\n",
    "\n",
    "del x_test; gc.collect()\n",
    "\n",
    "print('Predicting on test ...')\n",
    "\n",
    "p_test = clf.predict(d_test)\n",
    "\n",
    "del d_test; gc.collect()\n",
    "\n",
    "sub = pd.read_csv('input/sample_submission.csv')\n",
    "for c in sub.columns[sub.columns != 'ParcelId']:\n",
    "    sub[c] = p_test\n",
    "\n",
    "print('Writing csv ...')\n",
    "sub.to_csv('output/xgb_starter.csv', index=False, float_format='%.4f') # Thanks to @inversion"
   ]
  },
  {
   "cell_type": "code",
   "execution_count": null,
   "metadata": {
    "collapsed": true
   },
   "outputs": [],
   "source": []
  }
 ],
 "metadata": {
  "kernelspec": {
   "display_name": "Python 3",
   "language": "python",
   "name": "python3"
  },
  "language_info": {
   "codemirror_mode": {
    "name": "ipython",
    "version": 3
   },
   "file_extension": ".py",
   "mimetype": "text/x-python",
   "name": "python",
   "nbconvert_exporter": "python",
   "pygments_lexer": "ipython3",
   "version": "3.6.2"
  }
 },
 "nbformat": 4,
 "nbformat_minor": 2
}

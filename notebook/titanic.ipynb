{
 "cells": [
  {
   "cell_type": "markdown",
   "metadata": {},
   "source": [
    "# This code based on these codes.\n",
    "https://www.kaggle.com/francksylla/titanic/titanic-machine-learning-from-disaster/code\n"
   ]
  },
  {
   "cell_type": "code",
   "execution_count": 707,
   "metadata": {
    "collapsed": false
   },
   "outputs": [
    {
     "data": {
      "text/html": [
       "<div>\n",
       "<table border=\"1\" class=\"dataframe\">\n",
       "  <thead>\n",
       "    <tr style=\"text-align: right;\">\n",
       "      <th></th>\n",
       "      <th>Age</th>\n",
       "      <th>Cabin</th>\n",
       "      <th>Embarked</th>\n",
       "      <th>Fare</th>\n",
       "      <th>Name</th>\n",
       "      <th>Parch</th>\n",
       "      <th>PassengerId</th>\n",
       "      <th>Pclass</th>\n",
       "      <th>Sex</th>\n",
       "      <th>SibSp</th>\n",
       "      <th>Survived</th>\n",
       "      <th>Ticket</th>\n",
       "    </tr>\n",
       "  </thead>\n",
       "  <tbody>\n",
       "    <tr>\n",
       "      <th>0</th>\n",
       "      <td>22.0</td>\n",
       "      <td>NaN</td>\n",
       "      <td>S</td>\n",
       "      <td>7.2500</td>\n",
       "      <td>Braund, Mr. Owen Harris</td>\n",
       "      <td>0</td>\n",
       "      <td>1</td>\n",
       "      <td>3</td>\n",
       "      <td>male</td>\n",
       "      <td>1</td>\n",
       "      <td>0.0</td>\n",
       "      <td>A/5 21171</td>\n",
       "    </tr>\n",
       "    <tr>\n",
       "      <th>1</th>\n",
       "      <td>38.0</td>\n",
       "      <td>C85</td>\n",
       "      <td>C</td>\n",
       "      <td>71.2833</td>\n",
       "      <td>Cumings, Mrs. John Bradley (Florence Briggs Th...</td>\n",
       "      <td>0</td>\n",
       "      <td>2</td>\n",
       "      <td>1</td>\n",
       "      <td>female</td>\n",
       "      <td>1</td>\n",
       "      <td>1.0</td>\n",
       "      <td>PC 17599</td>\n",
       "    </tr>\n",
       "    <tr>\n",
       "      <th>2</th>\n",
       "      <td>26.0</td>\n",
       "      <td>NaN</td>\n",
       "      <td>S</td>\n",
       "      <td>7.9250</td>\n",
       "      <td>Heikkinen, Miss. Laina</td>\n",
       "      <td>0</td>\n",
       "      <td>3</td>\n",
       "      <td>3</td>\n",
       "      <td>female</td>\n",
       "      <td>0</td>\n",
       "      <td>1.0</td>\n",
       "      <td>STON/O2. 3101282</td>\n",
       "    </tr>\n",
       "    <tr>\n",
       "      <th>3</th>\n",
       "      <td>35.0</td>\n",
       "      <td>C123</td>\n",
       "      <td>S</td>\n",
       "      <td>53.1000</td>\n",
       "      <td>Futrelle, Mrs. Jacques Heath (Lily May Peel)</td>\n",
       "      <td>0</td>\n",
       "      <td>4</td>\n",
       "      <td>1</td>\n",
       "      <td>female</td>\n",
       "      <td>1</td>\n",
       "      <td>1.0</td>\n",
       "      <td>113803</td>\n",
       "    </tr>\n",
       "    <tr>\n",
       "      <th>4</th>\n",
       "      <td>35.0</td>\n",
       "      <td>NaN</td>\n",
       "      <td>S</td>\n",
       "      <td>8.0500</td>\n",
       "      <td>Allen, Mr. William Henry</td>\n",
       "      <td>0</td>\n",
       "      <td>5</td>\n",
       "      <td>3</td>\n",
       "      <td>male</td>\n",
       "      <td>0</td>\n",
       "      <td>0.0</td>\n",
       "      <td>373450</td>\n",
       "    </tr>\n",
       "  </tbody>\n",
       "</table>\n",
       "</div>"
      ],
      "text/plain": [
       "    Age Cabin Embarked     Fare  \\\n",
       "0  22.0   NaN        S   7.2500   \n",
       "1  38.0   C85        C  71.2833   \n",
       "2  26.0   NaN        S   7.9250   \n",
       "3  35.0  C123        S  53.1000   \n",
       "4  35.0   NaN        S   8.0500   \n",
       "\n",
       "                                                Name  Parch  PassengerId  \\\n",
       "0                            Braund, Mr. Owen Harris      0            1   \n",
       "1  Cumings, Mrs. John Bradley (Florence Briggs Th...      0            2   \n",
       "2                             Heikkinen, Miss. Laina      0            3   \n",
       "3       Futrelle, Mrs. Jacques Heath (Lily May Peel)      0            4   \n",
       "4                           Allen, Mr. William Henry      0            5   \n",
       "\n",
       "   Pclass     Sex  SibSp  Survived            Ticket  \n",
       "0       3    male      1       0.0         A/5 21171  \n",
       "1       1  female      1       1.0          PC 17599  \n",
       "2       3  female      0       1.0  STON/O2. 3101282  \n",
       "3       1  female      1       1.0            113803  \n",
       "4       3    male      0       0.0            373450  "
      ]
     },
     "execution_count": 707,
     "metadata": {},
     "output_type": "execute_result"
    }
   ],
   "source": [
    "import pandas as pd\n",
    "import numpy as np\n",
    "import matplotlib.pyplot as plt\n",
    "%matplotlib inline\n",
    "\n",
    "train_input = pd.read_csv(\"../input/train.csv\", dtype={\"Age\": np.float64})\n",
    "test_input = pd.read_csv(\"../input/test.csv\", dtype={\"Age\": np.float64})\n",
    "\n",
    "df = pd.concat([train_input, test_input], ignore_index=True)\n",
    "df.head()"
   ]
  },
  {
   "cell_type": "code",
   "execution_count": 708,
   "metadata": {
    "collapsed": false
   },
   "outputs": [
    {
     "name": "stdout",
     "output_type": "stream",
     "text": [
      "[[<matplotlib.axes._subplots.AxesSubplot object at 0x2083AA70>\n",
      "  <matplotlib.axes._subplots.AxesSubplot object at 0x22D64EF0>\n",
      "  <matplotlib.axes._subplots.AxesSubplot object at 0x195A31B0>]\n",
      " [<matplotlib.axes._subplots.AxesSubplot object at 0x195C92B0>\n",
      "  <matplotlib.axes._subplots.AxesSubplot object at 0x223BEBD0>\n",
      "  <matplotlib.axes._subplots.AxesSubplot object at 0x222328D0>]\n",
      " [<matplotlib.axes._subplots.AxesSubplot object at 0x2229E590>\n",
      "  <matplotlib.axes._subplots.AxesSubplot object at 0x21F4C050>\n",
      "  <matplotlib.axes._subplots.AxesSubplot object at 0x21DD90D0>]]\n"
     ]
    },
    {
     "data": {
      "image/png": "[encoded data removed]",
      "text/plain": [
       "<matplotlib.figure.Figure at 0x241745f0>"
      ]
     },
     "metadata": {},
     "output_type": "display_data"
    }
   ],
   "source": [
    "print(df.hist())"
   ]
  },
  {
   "cell_type": "code",
   "execution_count": 709,
   "metadata": {
    "collapsed": true
   },
   "outputs": [],
   "source": [
    "categorical_columns = ['Sex', 'Embarked']\n",
    "numerical_columns = ['Pclass', 'Age', 'SibSp', 'Parch', 'Fare']\n",
    "text_columns = ['Name', 'Ticket']\n",
    "\n",
    "def category_to_numeric(df, column_name):\n",
    "    for category in df[column_name].unique():\n",
    "        category_column = column_name + '_' + str(category)\n",
    "        if category_column in df.columns:\n",
    "            df = df.drop(category_column, axis=1)\n",
    "        if category_column not in numerical_columns:\n",
    "            numerical_columns.append(category_column)\n",
    "    df= pd.concat([df,pd.get_dummies(df[column_name], prefix=column_name)],axis=1)\n",
    "    return df"
   ]
  },
  {
   "cell_type": "code",
   "execution_count": 710,
   "metadata": {
    "collapsed": false
   },
   "outputs": [
    {
     "name": "stdout",
     "output_type": "stream",
     "text": [
      "[[<matplotlib.axes._subplots.AxesSubplot object at 0x2083EA90>\n",
      "  <matplotlib.axes._subplots.AxesSubplot object at 0x16670850>\n",
      "  <matplotlib.axes._subplots.AxesSubplot object at 0x23F2A6D0>]\n",
      " [<matplotlib.axes._subplots.AxesSubplot object at 0x1ECC0770>\n",
      "  <matplotlib.axes._subplots.AxesSubplot object at 0x1F3641D0>\n",
      "  <matplotlib.axes._subplots.AxesSubplot object at 0x221A7670>]\n",
      " [<matplotlib.axes._subplots.AxesSubplot object at 0x1FDA75D0>\n",
      "  <matplotlib.axes._subplots.AxesSubplot object at 0x20859CD0>\n",
      "  <matplotlib.axes._subplots.AxesSubplot object at 0x175D3FD0>]]\n"
     ]
    },
    {
     "data": {
      "image/png": "[encoded data removed]",
      "text/plain": [
       "<matplotlib.figure.Figure at 0x1fb8b2b0>"
      ]
     },
     "metadata": {},
     "output_type": "display_data"
    }
   ],
   "source": [
    "print(df.hist())"
   ]
  },
  {
   "cell_type": "code",
   "execution_count": 711,
   "metadata": {
    "collapsed": false
   },
   "outputs": [
    {
     "data": {
      "text/plain": [
       "<seaborn.axisgrid.FacetGrid at 0x2083ed10>"
      ]
     },
     "execution_count": 711,
     "metadata": {},
     "output_type": "execute_result"
    },
    {
     "data": {
      "image/png": "[encoded data removed]",
      "text/plain": [
       "<matplotlib.figure.Figure at 0x14097930>"
      ]
     },
     "metadata": {},
     "output_type": "display_data"
    }
   ],
   "source": [
    "# Sex\n",
    "import seaborn as sns\n",
    "sns.set(style=\"whitegrid\")\n",
    "\n",
    "g = sns.factorplot(x=\"Sex\", y=\"Survived\", data=df, size=4, kind=\"bar\", palette=\"muted\")\n",
    "g.despine(left=True)\n",
    "g.set_ylabels(\"survival probability\")"
   ]
  },
  {
   "cell_type": "code",
   "execution_count": 712,
   "metadata": {
    "collapsed": false
   },
   "outputs": [
    {
     "data": {
      "image/png": "[encoded data removed]",
      "text/plain": [
       "<matplotlib.figure.Figure at 0x140b7270>"
      ]
     },
     "metadata": {},
     "output_type": "display_data"
    }
   ],
   "source": [
    "def get_sex_adult(row):\n",
    "    age, sex = row\n",
    "    if age < 18:\n",
    "        return 'child'\n",
    "    elif sex == 'female':\n",
    "        return 'female_adult'\n",
    "    else:\n",
    "        return 'male_adult'\n",
    "\n",
    "df['SexAdult'] = df[['Age', 'Sex']].apply(get_sex_adult, axis=1)\n",
    "g = sns.factorplot(x=\"SexAdult\", y=\"Survived\", data=df, size=8, palette=\"muted\")\n",
    "\n",
    "if 'SexAdult' not in categorical_columns:\n",
    "    categorical_columns.append('SexAdult')"
   ]
  },
  {
   "cell_type": "code",
   "execution_count": 713,
   "metadata": {
    "collapsed": false
   },
   "outputs": [
    {
     "data": {
      "image/png": "[encoded data removed]",
      "text/plain": [
       "<matplotlib.figure.Figure at 0x1f364bb0>"
      ]
     },
     "metadata": {},
     "output_type": "display_data"
    }
   ],
   "source": [
    "# Embarked\n",
    "df['Embarked'] = df['Embarked'].fillna('unknown')\n",
    "g = sns.factorplot(x=\"Embarked\", y=\"Survived\", data=df, size=4, kind=\"bar\", palette=\"muted\")\n",
    "g.despine(left=True)\n",
    "g.set_ylabels(\"survival probability\")\n",
    "\n",
    "if 'Embarked' not in categorical_columns:\n",
    "    categorical_columns.append('Embarked')"
   ]
  },
  {
   "cell_type": "code",
   "execution_count": 714,
   "metadata": {
    "collapsed": false
   },
   "outputs": [
    {
     "data": {
      "image/png": "[encoded data removed]",
      "text/plain": [
       "<matplotlib.figure.Figure at 0x18042490>"
      ]
     },
     "metadata": {},
     "output_type": "display_data"
    },
    {
     "data": {
      "image/png": "[encoded data removed]",
      "text/plain": [
       "<matplotlib.figure.Figure at 0x1fcc93f0>"
      ]
     },
     "metadata": {},
     "output_type": "display_data"
    }
   ],
   "source": [
    "df_ticket = pd.DataFrame(df['Ticket'].value_counts())\n",
    "df_ticket.rename(columns={'Ticket':'TicketMembers'}, inplace=True)\n",
    "\n",
    "df_ticket['Ticket_perishing_women'] = df.Ticket[(df.SexAdult == 'female_adult')\n",
    "                                               & (df.Survived == 0.0)\n",
    "                                               & ((df.Parch > 0) | (df.SibSp > 0))].value_counts()\n",
    "df_ticket['Ticket_perishing_women'] = df_ticket['Ticket_perishing_women'].fillna(0)\n",
    "df_ticket['TicketGroup_include_perishing_women'] = df_ticket['Ticket_perishing_women'] > 0\n",
    "df_ticket['TicketGroup_include_perishing_women'] = df_ticket['TicketGroup_include_perishing_women'].astype(int)\n",
    "\n",
    "df_ticket['Ticket_surviving_men'] = df.Ticket[(df.SexAdult == 'male_adult')\n",
    "                                              & (df.Survived == 1.0)\n",
    "                                              & ((df.Parch > 0) | (df.SibSp > 0))].value_counts()\n",
    "df_ticket['Ticket_surviving_men'] = df_ticket['Ticket_surviving_men'].fillna(0)\n",
    "df_ticket['TicketGroup_include_surviving_men'] = df_ticket['Ticket_surviving_men'] > 0\n",
    "df_ticket['TicketGroup_include_surviving_men'] = df_ticket['TicketGroup_include_surviving_men'].astype(int)\n",
    "\n",
    "df_ticket[\"TicketId\"] = pd.Categorical.from_array(df_ticket.index).codes\n",
    "df_ticket.loc[df_ticket[df_ticket['TicketMembers'] < 3].index, \"TicketId\"] = -1\n",
    "df_ticket[\"TicketMembers_Simple\"] = pd.cut(df_ticket['TicketMembers'], bins=[0,1,4,20], labels=[0,1,2])\n",
    "if 'TicketGroup_include_perishing_women' not in df.columns:\n",
    "    df = pd.merge(df, df_ticket, left_on=\"Ticket\", right_index=True, how='left', sort=False)\n",
    "\n",
    "if 'Ticket_perishing_women' not in numerical_columns:\n",
    "    numerical_columns.append('Ticket_perishing_women')\n",
    "if 'TicketGroup_include_perishing_women' not in numerical_columns:\n",
    "    numerical_columns.append('TicketGroup_include_perishing_women')\n",
    "if 'Ticket_surviving_men' not in numerical_columns:\n",
    "    numerical_columns.append('Ticket_surviving_men')\n",
    "if 'TicketGroup_include_surviving_men' not in numerical_columns:\n",
    "    numerical_columns.append('TicketGroup_include_surviving_men')\n",
    "if 'TicketId' not in numerical_columns:\n",
    "    numerical_columns.append('TicketId')\n",
    "if 'TicketMembers' not in numerical_columns:\n",
    "    numerical_columns.append('TicketMembers')\n",
    "    \n",
    "g = sns.factorplot(x=\"TicketGroup_include_perishing_women\", y=\"Survived\", data=df, size=4, palette=\"muted\")\n",
    "g = sns.factorplot(x=\"Ticket_surviving_men\", y=\"Survived\", data=df, size=4, palette=\"muted\")"
   ]
  },
  {
   "cell_type": "code",
   "execution_count": 715,
   "metadata": {
    "collapsed": false
   },
   "outputs": [
    {
     "data": {
      "image/png": "[encoded data removed]",
      "text/plain": [
       "<matplotlib.figure.Figure at 0x22de2b30>"
      ]
     },
     "metadata": {},
     "output_type": "display_data"
    },
    {
     "data": {
      "image/png": "[encoded data removed]",
      "text/plain": [
       "<matplotlib.figure.Figure at 0x22541050>"
      ]
     },
     "metadata": {},
     "output_type": "display_data"
    }
   ],
   "source": [
    "# surname\n",
    "df['surname'] = df['Name'].apply(lambda x: x.split(',')[0].lower())\n",
    "df_surname = pd.DataFrame(df['surname'].value_counts())\n",
    "df_surname.rename(columns={'surname':'SurnameMembers'}, inplace=True)\n",
    "\n",
    "df_surname['Surname_perishing_women'] = df.surname[(df.SexAdult == 'female_adult')\n",
    "                                               & (df.Survived == 0.0)\n",
    "                                               & ((df.Parch > 0) | (df.SibSp > 0))].value_counts()\n",
    "df_surname['Surname_perishing_women'] = df_surname['Surname_perishing_women'].fillna(0)\n",
    "df_surname['SurnameGroup_include_perishing_women'] = df_surname['Surname_perishing_women'] > 0\n",
    "df_surname['SurnameGroup_include_perishing_women'] = df_surname['SurnameGroup_include_perishing_women'].astype(int)\n",
    "\n",
    "df_surname['Surname_surviving_men'] = df.surname[(df.SexAdult == 'male_adult')\n",
    "                                              & (df.Survived == 1.0)\n",
    "                                              & ((df.Parch > 0) | (df.SibSp > 0))].value_counts()\n",
    "df_surname['Surname_surviving_men'] = df_surname['Surname_surviving_men'].fillna(0)\n",
    "df_surname['SurnameGroup_include_surviving_men'] = df_surname['Surname_surviving_men'] > 0\n",
    "df_surname['SurnameGroup_include_surviving_men'] = df_surname['SurnameGroup_include_surviving_men'].astype(int)\n",
    "\n",
    "df_surname[\"SurnameId\"] = pd.Categorical.from_array(df_surname.index).codes\n",
    "df_surname.loc[df_surname[df_surname['SurnameMembers'] < 3].index, \"SurnameId\"] = -1\n",
    "df_surname[\"SurnameMembers_Simple\"] = pd.cut(df_surname['SurnameMembers'], bins=[0,1,4,20], labels=[0,1,2])\n",
    "if 'SurnameGroup_include_perishing_women' not in df.columns:\n",
    "    df = pd.merge(df, df_surname, left_on=\"surname\", right_index=True, how='left', sort=False)\n",
    "\n",
    "\n",
    "if 'Surname_perishing_women' not in numerical_columns:\n",
    "    numerical_columns.append('Surname_perishing_women')\n",
    "if 'SurnameGroup_include_perishing_women' not in numerical_columns:\n",
    "    numerical_columns.append('SurnameGroup_include_perishing_women')\n",
    "if 'Surname_surviving_men' not in numerical_columns:\n",
    "    numerical_columns.append('Surname_surviving_men')\n",
    "if 'SurnameGroup_include_surviving_men' not in numerical_columns:\n",
    "    numerical_columns.append('SurnameGroup_include_surviving_men')\n",
    "if 'SurnameId' not in numerical_columns:\n",
    "    numerical_columns.append('SurnameId')\n",
    "if 'SurnameMembers' not in numerical_columns:\n",
    "    numerical_columns.append('SurnameMembers')\n",
    "    \n",
    "g = sns.factorplot(x=\"SurnameGroup_include_perishing_women\", y=\"Survived\", data=df, size=4, palette=\"muted\")\n",
    "g = sns.factorplot(x=\"SurnameGroup_include_surviving_men\", y=\"Survived\", data=df, size=4, palette=\"muted\")"
   ]
  },
  {
   "cell_type": "code",
   "execution_count": 716,
   "metadata": {
    "collapsed": false
   },
   "outputs": [
    {
     "name": "stdout",
     "output_type": "stream",
     "text": [
      "['Mr' 'Mrs' 'Miss' 'Master' 'Don' 'Rev' 'Dr' 'Mme' 'Major' 'Lady' 'Sir'\n",
      " 'Mlle' 'Col' 'Capt' 'Countess' 'Jonkheer' 'Dona']\n"
     ]
    }
   ],
   "source": [
    "# title\n",
    "import re\n",
    "df['Name_title'] = df['Name'].apply(lambda x: re.search(' ([A-Za-z]+)\\.', x).group(1))\n",
    "df.loc[df[df['Name_title'] == 'Ms'].index, 'Name_title'] = 'Miss'\n",
    "print(df['Name_title'].unique())\n",
    "if 'Name_title' not in categorical_columns:\n",
    "    categorical_columns.append('Name_title')"
   ]
  },
  {
   "cell_type": "code",
   "execution_count": 717,
   "metadata": {
    "collapsed": false
   },
   "outputs": [
    {
     "name": "stdout",
     "output_type": "stream",
     "text": [
      "[[<matplotlib.axes._subplots.AxesSubplot object at 0x22363990>\n",
      "  <matplotlib.axes._subplots.AxesSubplot object at 0x195A7130>]\n",
      " [<matplotlib.axes._subplots.AxesSubplot object at 0x17228330>\n",
      "  <matplotlib.axes._subplots.AxesSubplot object at 0x23D27BB0>]]\n"
     ]
    },
    {
     "data": {
      "image/png": "[encoded data removed]",
      "text/plain": [
       "<matplotlib.figure.Figure at 0x21b198d0>"
      ]
     },
     "metadata": {},
     "output_type": "display_data"
    }
   ],
   "source": [
    "# FamilySize\n",
    "df['FamilySize'] = df['SibSp'] + df['Parch']\n",
    "if 'FamilySize' not in numerical_columns:\n",
    "    numerical_columns.append('FamilySize')\n",
    "print(df[['SibSp', 'Parch', 'FamilySize']].hist())"
   ]
  },
  {
   "cell_type": "code",
   "execution_count": 718,
   "metadata": {
    "collapsed": false
   },
   "outputs": [
    {
     "data": {
      "text/plain": [
       "<seaborn.axisgrid.FacetGrid at 0x1f551890>"
      ]
     },
     "execution_count": 718,
     "metadata": {},
     "output_type": "execute_result"
    },
    {
     "data": {
      "image/png": "[encoded data removed]",
      "text/plain": [
       "<matplotlib.figure.Figure at 0x1ef5e2b0>"
      ]
     },
     "metadata": {},
     "output_type": "display_data"
    }
   ],
   "source": [
    "# Name Length?\n",
    "df['NameLength'] = df[\"Name\"].apply(lambda x: len(x))\n",
    "if 'NameLength' not in numerical_columns:\n",
    "    numerical_columns.append('NameLength')\n",
    "g = sns.factorplot(x=\"NameLength\", y=\"Survived\", data=df, size=4, kind=\"bar\", palette=\"muted\")\n",
    "g.despine(left=True)\n",
    "g.set_ylabels(\"survival probability\")"
   ]
  },
  {
   "cell_type": "code",
   "execution_count": 719,
   "metadata": {
    "collapsed": false
   },
   "outputs": [
    {
     "data": {
      "image/png": "[encoded data removed]",
      "text/plain": [
       "<matplotlib.figure.Figure at 0x21b19030>"
      ]
     },
     "metadata": {},
     "output_type": "display_data"
    }
   ],
   "source": [
    "g = sns.factorplot(x=\"Pclass\", y=\"Survived\", data=df, size=4, kind=\"bar\", palette=\"muted\")"
   ]
  },
  {
   "cell_type": "code",
   "execution_count": 720,
   "metadata": {
    "collapsed": false
   },
   "outputs": [
    {
     "name": "stdout",
     "output_type": "stream",
     "text": [
      "[nan 'C85' 'C123' 'E46' 'G6' 'C103' 'D56' 'A6' 'C23 C25 C27' 'B78' 'D33'\n",
      " 'B30' 'C52' 'B28' 'C83' 'F33' 'F G73' 'E31' 'A5' 'D10 D12' 'D26' 'C110'\n",
      " 'B58 B60' 'E101' 'F E69' 'D47' 'B86' 'F2' 'C2' 'E33' 'B19' 'A7' 'C49' 'F4'\n",
      " 'A32' 'B4' 'B80' 'A31' 'D36' 'D15' 'C93' 'C78' 'D35' 'C87' 'B77' 'E67'\n",
      " 'B94' 'C125' 'C99' 'C118' 'D7' 'A19' 'B49' 'D' 'C22 C26' 'C106' 'C65'\n",
      " 'E36' 'C54' 'B57 B59 B63 B66' 'C7' 'E34' 'C32' 'B18' 'C124' 'C91' 'E40'\n",
      " 'T' 'C128' 'D37' 'B35' 'E50' 'C82' 'B96 B98' 'E10' 'E44' 'A34' 'C104'\n",
      " 'C111' 'C92' 'E38' 'D21' 'E12' 'E63' 'A14' 'B37' 'C30' 'D20' 'B79' 'E25'\n",
      " 'D46' 'B73' 'C95' 'B38' 'B39' 'B22' 'C86' 'C70' 'A16' 'C101' 'C68' 'A10'\n",
      " 'E68' 'B41' 'A20' 'D19' 'D50' 'D9' 'A23' 'B50' 'A26' 'D48' 'E58' 'C126'\n",
      " 'B71' 'B51 B53 B55' 'D49' 'B5' 'B20' 'F G63' 'C62 C64' 'E24' 'C90' 'C45'\n",
      " 'E8' 'B101' 'D45' 'C46' 'D30' 'E121' 'D11' 'E77' 'F38' 'B3' 'D6' 'B82 B84'\n",
      " 'D17' 'A36' 'B102' 'B69' 'E49' 'C47' 'D28' 'E17' 'A24' 'C50' 'B42' 'C148'\n",
      " 'B45' 'B36' 'A21' 'D34' 'A9' 'C31' 'B61' 'C53' 'D43' 'C130' 'C132'\n",
      " 'C55 C57' 'C116' 'F' 'A29' 'C6' 'C28' 'C51' 'C97' 'D22' 'B10' 'E45' 'E52'\n",
      " 'A11' 'B11' 'C80' 'C89' 'F E46' 'B26' 'F E57' 'A18' 'E60' 'E39 E41'\n",
      " 'B52 B54 B56' 'C39' 'B24' 'D40' 'D38' 'C105']\n"
     ]
    },
    {
     "data": {
      "image/png": "[encoded data removed]",
      "text/plain": [
       "<matplotlib.figure.Figure at 0x23e9c430>"
      ]
     },
     "metadata": {},
     "output_type": "display_data"
    }
   ],
   "source": [
    "# cabin\n",
    "print(df['Cabin'].unique())\n",
    "\n",
    "# https://www.kaggle.com/c/titanic/prospector#1326\n",
    "def get_cabin_location(cabin):\n",
    "    # The cabin info consists of a letter (corresponding to a deck) \n",
    "    # and a cabin number, which is odd for cabins on the starboard side and even for the port.\n",
    "    cabin_search_result = re.search('\\d+', cabin)\n",
    "    if cabin_search_result:\n",
    "        type_code = np.int64(cabin_search_result.group(0))\n",
    "        if type_code % 2 == 0:\n",
    "            return 'port'\n",
    "        else:\n",
    "            return 'starboard'\n",
    "    return 'unknown'\n",
    "\n",
    "def get_cabin_deck(cabin):\n",
    "    # The cabin info consists of a letter (corresponding to a deck) \n",
    "    # and a cabin number, which is odd for cabins on the starboard side and even for the port.\n",
    "    cabin_search_result = re.search('[A-z]+', cabin)\n",
    "    if cabin_search_result:\n",
    "        return cabin_search_result.group(0)\n",
    "    return 'unknown'\n",
    "\n",
    "def get_cabin_count(cabin):\n",
    "    cabin_search_result = re.findall('([A-z]\\d+)', cabin)\n",
    "    if cabin_search_result:\n",
    "        return len(cabin_search_result)\n",
    "    return 0\n",
    "\n",
    "df['CabinLocation'] = df['Cabin'].fillna(' ').apply(get_cabin_location)\n",
    "df['CabinDeck'] = df['Cabin'].fillna(' ').apply(get_cabin_deck)\n",
    "df['CabinCount'] = df['Cabin'].fillna(' ').apply(get_cabin_count)\n",
    "\n",
    "g = sns.factorplot(x=\"CabinCount\", y=\"Survived\", data=df, size=4, kind=\"bar\", palette=\"muted\")\n",
    "\n",
    "if 'CabinLocation' not in categorical_columns:\n",
    "    categorical_columns.append('CabinLocation')\n",
    "if 'CabinDeck' not in categorical_columns:\n",
    "    categorical_columns.append('CabinDeck')\n",
    "if 'CabinCount' not in numerical_columns:\n",
    "    numerical_columns.append('CabinCount')"
   ]
  },
  {
   "cell_type": "code",
   "execution_count": 721,
   "metadata": {
    "collapsed": false,
    "scrolled": false
   },
   "outputs": [
    {
     "name": "stdout",
     "output_type": "stream",
     "text": [
      "count    1309.000000\n",
      "mean       33.295479\n",
      "std        51.738879\n",
      "min         0.000000\n",
      "25%         7.895800\n",
      "50%        14.454200\n",
      "75%        31.275000\n",
      "max       512.329200\n",
      "Name: Fare, dtype: float64\n",
      "Axes(0.125,0.125;0.775x0.775)\n"
     ]
    },
    {
     "data": {
      "image/png": "[encoded data removed]",
      "text/plain": [
       "<matplotlib.figure.Figure at 0x1fb8baf0>"
      ]
     },
     "metadata": {},
     "output_type": "display_data"
    }
   ],
   "source": [
    "# Fare\n",
    "df['Fare'] = df['Fare'].fillna(df['Fare'].mean())\n",
    "print(df['Fare'].describe())\n",
    "print(df['Fare'].hist())"
   ]
  },
  {
   "cell_type": "code",
   "execution_count": 722,
   "metadata": {
    "collapsed": false
   },
   "outputs": [
    {
     "name": "stdout",
     "output_type": "stream",
     "text": [
      "   Pclass     Fare  TicketMembers\n",
      "0       3   7.2500              1\n",
      "1       1  71.2833              2\n",
      "2       3   7.9250              1\n",
      "3       1  53.1000              2\n",
      "4       3   8.0500              1\n",
      "Axes(0.125,0.125;0.775x0.775)\n"
     ]
    },
    {
     "data": {
      "image/png": "[encoded data removed]",
      "text/plain": [
       "<matplotlib.figure.Figure at 0x224a8050>"
      ]
     },
     "metadata": {},
     "output_type": "display_data"
    }
   ],
   "source": [
    "df['TicketMembers'] = df['TicketMembers'].fillna(0)\n",
    "print(df.head()[['Pclass','Fare', 'TicketMembers']])\n",
    "df['Fare_per_ticket_member'] = df['Fare'] / (df['TicketMembers'])\n",
    "print(df['Fare_per_ticket_member'].hist())"
   ]
  },
  {
   "cell_type": "code",
   "execution_count": 723,
   "metadata": {
    "collapsed": false
   },
   "outputs": [
    {
     "data": {
      "text/plain": [
       "<matplotlib.axes._subplots.AxesSubplot at 0x1ef3bc30>"
      ]
     },
     "execution_count": 723,
     "metadata": {},
     "output_type": "execute_result"
    },
    {
     "data": {
      "image/png": "[encoded data removed]",
      "text/plain": [
       "<matplotlib.figure.Figure at 0x1ecaba70>"
      ]
     },
     "metadata": {},
     "output_type": "display_data"
    }
   ],
   "source": [
    "# convert to normally distributed\n",
    "from math import log\n",
    "df['Fare_per_ticket_member'].apply(lambda x: log(x + 0.01)).hist()"
   ]
  },
  {
   "cell_type": "code",
   "execution_count": 724,
   "metadata": {
    "collapsed": false
   },
   "outputs": [],
   "source": [
    "from math import log\n",
    "\n",
    "class_fare = pd.DataFrame(columns=['count','mean','std','min','25%','50%','75%','max'])\n",
    "class_fare.loc[1,:] = df[df['Pclass'] == 1]['Fare'].describe()\n",
    "class_fare.loc[2,:] = df[df['Pclass'] == 2]['Fare'].describe()\n",
    "class_fare.loc[3,:] = df[df['Pclass'] == 3]['Fare'].describe()\n",
    "\n",
    "very_small_val = 0.01\n",
    "df['Fare_standard_score_with_Pclass'] = df.apply(lambda row: (log(row['Fare'] + very_small_val) - log(class_fare.loc[row['Pclass'], 'mean'] + very_small_val)) / log(class_fare.loc[row['Pclass'], 'std'] + very_small_val), axis=1)\n",
    "if 'Fare_standard_score_with_Pclass' not in numerical_columns:\n",
    "    numerical_columns.append('Fare_standard_score_with_Pclass')"
   ]
  },
  {
   "cell_type": "code",
   "execution_count": 725,
   "metadata": {
    "collapsed": false
   },
   "outputs": [
    {
     "data": {
      "text/plain": [
       "<matplotlib.axes._subplots.AxesSubplot at 0x20842270>"
      ]
     },
     "execution_count": 725,
     "metadata": {},
     "output_type": "execute_result"
    },
    {
     "data": {
      "image/png": "[encoded data removed]",
      "text/plain": [
       "<matplotlib.figure.Figure at 0x1ef16910>"
      ]
     },
     "metadata": {},
     "output_type": "display_data"
    }
   ],
   "source": [
    "df[(df['Fare_standard_score_with_Pclass'] >= -0.5) & (df['Fare_standard_score_with_Pclass'] <= 0.5)]['Fare_standard_score_with_Pclass'].hist()"
   ]
  },
  {
   "cell_type": "code",
   "execution_count": 726,
   "metadata": {
    "collapsed": false
   },
   "outputs": [],
   "source": [
    "from math import log\n",
    "\n",
    "class_fare = pd.DataFrame(columns=['count','mean','std','min','25%','50%','75%','max'])\n",
    "class_fare.loc[1,:] = df[df['Pclass'] == 1]['Fare_per_ticket_member'].describe()\n",
    "class_fare.loc[2,:] = df[df['Pclass'] == 2]['Fare_per_ticket_member'].describe()\n",
    "class_fare.loc[3,:] = df[df['Pclass'] == 3]['Fare_per_ticket_member'].describe()\n",
    "\n",
    "very_small_val = 0.01\n",
    "df['Fare_per_ticket_member_standard_score_with_Pclass'] = df.apply(lambda row: (log(row['Fare_per_ticket_member'] + very_small_val) - log(class_fare.loc[row['Pclass'], 'mean'] + very_small_val)) / log(class_fare.loc[row['Pclass'], 'std'] + very_small_val), axis=1)\n",
    "if 'Fare_per_ticket_member_standard_score_with_Pclass' not in numerical_columns:\n",
    "    numerical_columns.append('Fare_per_ticket_member_standard_score_with_Pclass')"
   ]
  },
  {
   "cell_type": "code",
   "execution_count": 727,
   "metadata": {
    "collapsed": false
   },
   "outputs": [
    {
     "data": {
      "text/plain": [
       "<matplotlib.axes._subplots.AxesSubplot at 0x20415f70>"
      ]
     },
     "execution_count": 727,
     "metadata": {},
     "output_type": "execute_result"
    },
    {
     "data": {
      "image/png": "[encoded data removed]",
      "text/plain": [
       "<matplotlib.figure.Figure at 0x183ad650>"
      ]
     },
     "metadata": {},
     "output_type": "display_data"
    }
   ],
   "source": [
    "df[(df['Fare_per_ticket_member_standard_score_with_Pclass'] >= -0.5) & (df['Fare_per_ticket_member_standard_score_with_Pclass'] <= 0.5)]['Fare_per_ticket_member_standard_score_with_Pclass'].hist()"
   ]
  },
  {
   "cell_type": "code",
   "execution_count": 728,
   "metadata": {
    "collapsed": false
   },
   "outputs": [
    {
     "data": {
      "image/png": "[encoded data removed]",
      "text/plain": [
       "<matplotlib.figure.Figure at 0x1946a3d0>"
      ]
     },
     "metadata": {},
     "output_type": "display_data"
    }
   ],
   "source": [
    "# https://www.kaggle.com/c/titanic/forums/t/11127/do-ticket-numbers-mean-anything\n",
    "#print(df[\"Ticket\"])\n",
    "#print(df[\"Ticket\"].value_counts())\n",
    "\n",
    "def get_ticket_prefix(cabin):\n",
    "    # The cabin info consists of a letter (corresponding to a deck) \n",
    "    # and a cabin number, which is odd for cabins on the starboard side and even for the port.\n",
    "    cabin_search_result = re.search('[^\\d]+', cabin)\n",
    "    if cabin_search_result:\n",
    "        return cabin_search_result.group(0).replace('/', '').replace('.', '').strip()\n",
    "    return 'unknown'\n",
    "\n",
    "df['TicketPrefix'] = df['Ticket'].apply(get_ticket_prefix)\n",
    "g = sns.factorplot(x=\"TicketPrefix\", y=\"Survived\", data=df, size=8, palette=\"muted\")\n",
    "\n",
    "if 'TicketPrefix' not in categorical_columns:\n",
    "    categorical_columns.append('TicketPrefix')"
   ]
  },
  {
   "cell_type": "code",
   "execution_count": 729,
   "metadata": {
    "collapsed": true
   },
   "outputs": [],
   "source": [
    "for col in categorical_columns:\n",
    "    df = category_to_numeric(df, col)"
   ]
  },
  {
   "cell_type": "code",
   "execution_count": 741,
   "metadata": {
    "collapsed": false
   },
   "outputs": [],
   "source": [
    "# age prediction\n",
    "from sklearn.ensemble import ExtraTreesRegressor\n",
    "\n",
    "age_prediction_features = ['Fare', 'Fare_standard_score_with_Pclass',\n",
    "                           #'Fare_per_ticket_member', 'Fare_per_ticket_member_standard_score_with_Pclass',\n",
    "                           'Parch', 'Pclass', 'SibSp', 'Sex_female', 'Sex_male', 'FamilySize',\n",
    "                           'NameLength', 'TicketMembers', 'TicketId', \n",
    "                           'Embarked_S', 'Embarked_C', 'Embarked_Q', 'Embarked_unknown', \n",
    "                           'Name_title_Mr', 'Name_title_Mrs', 'Name_title_Miss', 'Name_title_Master', \n",
    "                           'Name_title_Don', 'Name_title_Rev', 'Name_title_Dr', 'Name_title_Mme', \n",
    "                           'Name_title_Major', 'Name_title_Lady', 'Name_title_Sir', 'Name_title_Mlle', 'Name_title_Col', \n",
    "                           'Name_title_Capt', 'Name_title_Countess', 'Name_title_Jonkheer', \n",
    "                           'CabinLocation_unknown', 'CabinLocation_starboard', 'CabinLocation_port', 'CabinDeck_unknown', \n",
    "                           'CabinDeck_C', 'CabinDeck_E', 'CabinDeck_G', 'CabinDeck_D', 'CabinDeck_A', 'CabinDeck_B', 'CabinDeck_F', 'CabinDeck_T']\n",
    "age_prediction_tree_regressor = ExtraTreesRegressor(n_estimators=200)\n",
    "age_X_train = df[age_prediction_features][df['Age'].notnull()]\n",
    "age_Y_train = df['Age'][df['Age'].notnull()]\n",
    "age_prediction_tree_regressor.fit(age_X_train, np.ravel(age_Y_train))\n",
    "\n",
    "# TODO fill only isnull values\n",
    "\n",
    "df['Age_pred'] = age_prediction_tree_regressor.predict(df[age_prediction_features])\n",
    "if 'Age_pred' not in numerical_columns:\n",
    "    numerical_columns.append('Age_pred')\n",
    "\n",
    "# TODO add ageGroup"
   ]
  },
  {
   "cell_type": "code",
   "execution_count": 746,
   "metadata": {
    "collapsed": false
   },
   "outputs": [
    {
     "name": "stdout",
     "output_type": "stream",
     "text": [
      "('died', Empty DataFrame\n",
      "Columns: [Age, Cabin, Embarked, Fare, Name, Parch, PassengerId, Pclass, Sex, SibSp, Survived, Ticket, SexAdult, TicketMembers, Ticket_perishing_women, TicketGroup_include_perishing_women, Ticket_surviving_men, TicketGroup_include_surviving_men, TicketId, TicketMembers_Simple, surname, SurnameMembers, Surname_perishing_women, SurnameGroup_include_perishing_women, Surname_surviving_men, SurnameGroup_include_surviving_men, SurnameId, SurnameMembers_Simple, Name_title, FamilySize, NameLength, CabinLocation, CabinDeck, CabinCount, Fare_per_ticket_member, Fare_standard_score_with_Pclass, Fare_per_ticket_member_standard_score_with_Pclass, TicketPrefix, Sex_female, Sex_male, Embarked_C, Embarked_Q, Embarked_S, Embarked_unknown, SexAdult_child, SexAdult_female_adult, SexAdult_male_adult, Name_title_Capt, Name_title_Col, Name_title_Countess, Name_title_Don, Name_title_Dona, Name_title_Dr, Name_title_Jonkheer, Name_title_Lady, Name_title_Major, Name_title_Master, Name_title_Miss, Name_title_Mlle, Name_title_Mme, Name_title_Mr, Name_title_Mrs, Name_title_Rev, Name_title_Sir, CabinLocation_port, CabinLocation_starboard, CabinLocation_unknown, CabinDeck_A, CabinDeck_B, CabinDeck_C, CabinDeck_D, CabinDeck_E, CabinDeck_F, CabinDeck_G, CabinDeck_T, CabinDeck_unknown, TicketPrefix_A, TicketPrefix_AQ, TicketPrefix_AS, TicketPrefix_C, TicketPrefix_CA, TicketPrefix_CASOTON, TicketPrefix_FC, TicketPrefix_FCC, TicketPrefix_Fa, TicketPrefix_LINE, TicketPrefix_LP, TicketPrefix_PC, TicketPrefix_PP, TicketPrefix_PPP, TicketPrefix_SC, TicketPrefix_SCA, TicketPrefix_SCAH, TicketPrefix_SCAH Basle, TicketPrefix_SCOW, TicketPrefix_SCPARIS, TicketPrefix_SCParis, TicketPrefix_SOC, TicketPrefix_SOP, TicketPrefix_SOPP, ...]\n",
      "Index: []\n",
      "\n",
      "[0 rows x 111 columns])\n",
      "('survived',       Age Cabin Embarked   Fare  \\\n",
      "187  45.0   NaN        S  26.55   \n",
      "447  34.0   NaN        S  26.55   \n",
      "507   NaN   NaN        S  26.55   \n",
      "604  35.0   NaN        C  26.55   \n",
      "\n",
      "                                              Name  Parch  PassengerId  \\\n",
      "187  Romaine, Mr. Charles Hallace (\"Mr C Rolmane\")      0          188   \n",
      "447                    Seward, Mr. Frederic Kimber      0          448   \n",
      "507  Bradley, Mr. George (\"George Arthur Brayton\")      0          508   \n",
      "604                Homer, Mr. Harry (\"Mr E Haven\")      0          605   \n",
      "\n",
      "     Pclass   Sex  SibSp  Survived  Ticket    SexAdult  TicketMembers  \\\n",
      "187       1  male      0       1.0  111428  male_adult              1   \n",
      "447       1  male      0       1.0  113794  male_adult              1   \n",
      "507       1  male      0       1.0  111427  male_adult              1   \n",
      "604       1  male      0       1.0  111426  male_adult              1   \n",
      "\n",
      "     Ticket_perishing_women  TicketGroup_include_perishing_women  \\\n",
      "187                     0.0                                    0   \n",
      "447                     0.0                                    0   \n",
      "507                     0.0                                    0   \n",
      "604                     0.0                                    0   \n",
      "\n",
      "     Ticket_surviving_men  TicketGroup_include_surviving_men  TicketId  \\\n",
      "187                   0.0                                  0        -1   \n",
      "447                   0.0                                  0        -1   \n",
      "507                   0.0                                  0        -1   \n",
      "604                   0.0                                  0        -1   \n",
      "\n",
      "     TicketMembers_Simple  surname  SurnameMembers  Surname_perishing_women  \\\n",
      "187                     0  romaine               1                      0.0   \n",
      "447                     0   seward               1                      0.0   \n",
      "507                     0  bradley               2                      0.0   \n",
      "604                     0    homer               1                      0.0   \n",
      "\n",
      "     SurnameGroup_include_perishing_women  Surname_surviving_men  \\\n",
      "187                                     0                    0.0   \n",
      "447                                     0                    0.0   \n",
      "507                                     0                    0.0   \n",
      "604                                     0                    0.0   \n",
      "\n",
      "     SurnameGroup_include_surviving_men  SurnameId  SurnameMembers_Simple  \\\n",
      "187                                   0         -1                      0   \n",
      "447                                   0         -1                      0   \n",
      "507                                   0         -1                      1   \n",
      "604                                   0         -1                      0   \n",
      "\n",
      "    Name_title  FamilySize  NameLength CabinLocation CabinDeck  CabinCount  \\\n",
      "187         Mr           0          45       unknown   unknown           0   \n",
      "447         Mr           0          27       unknown   unknown           0   \n",
      "507         Mr           0          45       unknown   unknown           0   \n",
      "604         Mr           0          31       unknown   unknown           0   \n",
      "\n",
      "     Fare_per_ticket_member  Fare_standard_score_with_Pclass  \\\n",
      "187                   26.55                        -0.271769   \n",
      "447                   26.55                        -0.271769   \n",
      "507                   26.55                        -0.271769   \n",
      "604                   26.55                        -0.271769   \n",
      "\n",
      "     Fare_per_ticket_member_standard_score_with_Pclass TicketPrefix  \\\n",
      "187                                          -0.089502      unknown   \n",
      "447                                          -0.089502      unknown   \n",
      "507                                          -0.089502      unknown   \n",
      "604                                          -0.089502      unknown   \n",
      "\n",
      "     Sex_female  Sex_male  Embarked_C  Embarked_Q  Embarked_S  \\\n",
      "187         0.0       1.0         0.0         0.0         1.0   \n",
      "447         0.0       1.0         0.0         0.0         1.0   \n",
      "507         0.0       1.0         0.0         0.0         1.0   \n",
      "604         0.0       1.0         1.0         0.0         0.0   \n",
      "\n",
      "     Embarked_unknown  SexAdult_child  SexAdult_female_adult  \\\n",
      "187               0.0             0.0                    0.0   \n",
      "447               0.0             0.0                    0.0   \n",
      "507               0.0             0.0                    0.0   \n",
      "604               0.0             0.0                    0.0   \n",
      "\n",
      "     SexAdult_male_adult  Name_title_Capt  Name_title_Col  \\\n",
      "187                  1.0              0.0             0.0   \n",
      "447                  1.0              0.0             0.0   \n",
      "507                  1.0              0.0             0.0   \n",
      "604                  1.0              0.0             0.0   \n",
      "\n",
      "     Name_title_Countess              ...                Name_title_Mrs  \\\n",
      "187                  0.0              ...                           0.0   \n",
      "447                  0.0              ...                           0.0   \n",
      "507                  0.0              ...                           0.0   \n",
      "604                  0.0              ...                           0.0   \n",
      "\n",
      "     Name_title_Rev  Name_title_Sir  CabinLocation_port  \\\n",
      "187             0.0             0.0                 0.0   \n",
      "447             0.0             0.0                 0.0   \n",
      "507             0.0             0.0                 0.0   \n",
      "604             0.0             0.0                 0.0   \n",
      "\n",
      "     CabinLocation_starboard  CabinLocation_unknown  CabinDeck_A  CabinDeck_B  \\\n",
      "187                      0.0                    1.0          0.0          0.0   \n",
      "447                      0.0                    1.0          0.0          0.0   \n",
      "507                      0.0                    1.0          0.0          0.0   \n",
      "604                      0.0                    1.0          0.0          0.0   \n",
      "\n",
      "     CabinDeck_C  CabinDeck_D  CabinDeck_E  CabinDeck_F  CabinDeck_G  \\\n",
      "187          0.0          0.0          0.0          0.0          0.0   \n",
      "447          0.0          0.0          0.0          0.0          0.0   \n",
      "507          0.0          0.0          0.0          0.0          0.0   \n",
      "604          0.0          0.0          0.0          0.0          0.0   \n",
      "\n",
      "     CabinDeck_T  CabinDeck_unknown  TicketPrefix_A  TicketPrefix_AQ  \\\n",
      "187          0.0                1.0             0.0              0.0   \n",
      "447          0.0                1.0             0.0              0.0   \n",
      "507          0.0                1.0             0.0              0.0   \n",
      "604          0.0                1.0             0.0              0.0   \n",
      "\n",
      "     TicketPrefix_AS  TicketPrefix_C  TicketPrefix_CA  TicketPrefix_CASOTON  \\\n",
      "187              0.0             0.0              0.0                   0.0   \n",
      "447              0.0             0.0              0.0                   0.0   \n",
      "507              0.0             0.0              0.0                   0.0   \n",
      "604              0.0             0.0              0.0                   0.0   \n",
      "\n",
      "     TicketPrefix_FC  TicketPrefix_FCC  TicketPrefix_Fa  TicketPrefix_LINE  \\\n",
      "187              0.0               0.0              0.0                0.0   \n",
      "447              0.0               0.0              0.0                0.0   \n",
      "507              0.0               0.0              0.0                0.0   \n",
      "604              0.0               0.0              0.0                0.0   \n",
      "\n",
      "     TicketPrefix_LP  TicketPrefix_PC  TicketPrefix_PP  TicketPrefix_PPP  \\\n",
      "187              0.0              0.0              0.0               0.0   \n",
      "447              0.0              0.0              0.0               0.0   \n",
      "507              0.0              0.0              0.0               0.0   \n",
      "604              0.0              0.0              0.0               0.0   \n",
      "\n",
      "     TicketPrefix_SC  TicketPrefix_SCA  TicketPrefix_SCAH  \\\n",
      "187              0.0               0.0                0.0   \n",
      "447              0.0               0.0                0.0   \n",
      "507              0.0               0.0                0.0   \n",
      "604              0.0               0.0                0.0   \n",
      "\n",
      "     TicketPrefix_SCAH Basle  TicketPrefix_SCOW  TicketPrefix_SCPARIS  \\\n",
      "187                      0.0                0.0                   0.0   \n",
      "447                      0.0                0.0                   0.0   \n",
      "507                      0.0                0.0                   0.0   \n",
      "604                      0.0                0.0                   0.0   \n",
      "\n",
      "     TicketPrefix_SCParis  TicketPrefix_SOC  TicketPrefix_SOP  \\\n",
      "187                   0.0               0.0               0.0   \n",
      "447                   0.0               0.0               0.0   \n",
      "507                   0.0               0.0               0.0   \n",
      "604                   0.0               0.0               0.0   \n",
      "\n",
      "     TicketPrefix_SOPP  TicketPrefix_SOTONO  TicketPrefix_SOTONOQ  \\\n",
      "187                0.0                  0.0                   0.0   \n",
      "447                0.0                  0.0                   0.0   \n",
      "507                0.0                  0.0                   0.0   \n",
      "604                0.0                  0.0                   0.0   \n",
      "\n",
      "     TicketPrefix_SP  TicketPrefix_STONO  TicketPrefix_STONOQ  \\\n",
      "187              0.0                 0.0                  0.0   \n",
      "447              0.0                 0.0                  0.0   \n",
      "507              0.0                 0.0                  0.0   \n",
      "604              0.0                 0.0                  0.0   \n",
      "\n",
      "     TicketPrefix_SWPP  TicketPrefix_WC  TicketPrefix_WEP  \\\n",
      "187                0.0              0.0               0.0   \n",
      "447                0.0              0.0               0.0   \n",
      "507                0.0              0.0               0.0   \n",
      "604                0.0              0.0               0.0   \n",
      "\n",
      "     TicketPrefix_unknown  Age_pred  Frugal_First_Class_Single_Man  \n",
      "187                   1.0      45.0                              0  \n",
      "447                   1.0      34.0                              0  \n",
      "507                   1.0      45.0                              0  \n",
      "604                   1.0      35.0                              0  \n",
      "\n",
      "[4 rows x 111 columns])\n"
     ]
    }
   ],
   "source": [
    "# Frugal_First_Class_Single_Man\n",
    "# midle age first class single man with large discounted and unknown prefixed ticket and without cabin.\n",
    "print(\"died\", df[(df['Survived'] == 0) & (df['Sex'] == 'male') \n",
    "         & (df['Pclass'] == 1) \n",
    "         & (df['Age_pred'] <= 45) \n",
    "         & (df['Fare'] > 0)\n",
    "         & (df['Fare_standard_score_with_Pclass'] < -0.25)\n",
    "         & (df['TicketPrefix_unknown'] == 1)\n",
    "         & (df['TicketMembers_Simple'] == 0)\n",
    "         & (df['CabinCount'] == 0)\n",
    "        ])\n",
    "print(\"survived\", df[(df['Survived'] == 1) & (df['Sex'] == 'male') \n",
    "         & (df['Pclass'] == 1) \n",
    "         & (df['Age_pred'] <= 45) \n",
    "         & (df['Fare'] > 0)\n",
    "         & (df['Fare_standard_score_with_Pclass'] < -0.25)\n",
    "         & (df['TicketPrefix_unknown'] == 1)\n",
    "         & (df['TicketMembers_Simple'] == 0)\n",
    "         & (df['CabinCount'] == 0)\n",
    "        ])"
   ]
  },
  {
   "cell_type": "code",
   "execution_count": 747,
   "metadata": {
    "collapsed": false
   },
   "outputs": [
    {
     "name": "stdout",
     "output_type": "stream",
     "text": [
      "187     1\n",
      "447     1\n",
      "507     1\n",
      "604     1\n",
      "985     1\n",
      "1035    1\n",
      "Name: Frugal_First_Class_Single_Man, dtype: int64\n"
     ]
    }
   ],
   "source": [
    "df['Frugal_First_Class_Single_Man'] = 0\n",
    "df.loc[df[(df['Sex'] == 'male') \n",
    "         & (df['Pclass'] == 1) \n",
    "         & (df['Age_pred'] <= 45) \n",
    "         & (df['Fare'] > 0)\n",
    "         & (df['Fare_standard_score_with_Pclass'] < -0.25)\n",
    "         & (df['TicketPrefix_unknown'] == 1)\n",
    "         & (df['TicketMembers_Simple'] == 0)\n",
    "         & (df['CabinCount'] == 0)]['Frugal_First_Class_Single_Man'].index, 'Frugal_First_Class_Single_Man'] = 1\n",
    "print(df[(df['Sex'] == 'male') \n",
    "         & (df['Pclass'] == 1) \n",
    "         & (df['Age_pred'] <= 45) \n",
    "         & (df['Fare'] > 0)\n",
    "         & (df['Fare_standard_score_with_Pclass'] < -0.25)\n",
    "         & (df['TicketPrefix_unknown'] == 1)\n",
    "         & (df['TicketMembers_Simple'] == 0)\n",
    "         & (df['CabinCount'] == 0)]['Frugal_First_Class_Single_Man'])\n",
    "if 'Frugal_First_Class_Single_Man' not in numerical_columns:\n",
    "    numerical_columns.append('Frugal_First_Class_Single_Man')"
   ]
  },
  {
   "cell_type": "code",
   "execution_count": 733,
   "metadata": {
    "collapsed": false,
    "scrolled": true
   },
   "outputs": [
    {
     "name": "stdout",
     "output_type": "stream",
     "text": [
      "Features importance :\n",
      "nan Frugal_First_Class_Single_Man\n",
      "nan TicketPrefix_AQ\n",
      "nan TicketPrefix_STONOQ\n",
      "nan Name_title_Dona\n",
      "nan TicketPrefix_LP\n",
      "70.61 Name_title_Mr\n",
      "68.85 Sex_male\n",
      "68.85 Sex_female\n",
      "64.90 SexAdult_male_adult\n",
      "53.23 SexAdult_female_adult\n",
      "24.68 Name_title_Mrs\n",
      "24.60 Pclass\n",
      "23.69 NameLength\n",
      "23.35 Name_title_Miss\n",
      "21.51 CabinDeck_unknown\n",
      "21.46 CabinLocation_unknown\n",
      "17.23 CabinCount\n",
      "17.00 TicketGroup_include_surviving_men\n",
      "16.30 Ticket_surviving_men\n",
      "14.21 Fare\n",
      "13.54 TicketGroup_include_perishing_women\n",
      "13.22 CabinLocation_starboard\n",
      "13.04 SurnameGroup_include_surviving_men\n",
      "12.71 Surname_surviving_men\n",
      "10.83 Ticket_perishing_women\n",
      "10.36 SurnameGroup_include_perishing_women\n",
      "9.04 Surname_perishing_women\n",
      "6.84 CabinDeck_B\n",
      "6.73 CabinLocation_port\n",
      "6.36 Embarked_C\n",
      "5.52 Embarked_S\n",
      "5.21 CabinDeck_D\n",
      "4.98 TicketPrefix_PC\n",
      "4.88 CabinDeck_E\n",
      "3.59 SexAdult_child\n",
      "3.38 Fare_standard_score_with_Pclass\n",
      "3.27 TicketPrefix_A\n",
      "3.22 CabinDeck_C\n",
      "1.96 Name_title_Master\n",
      "1.83 Parch\n",
      "1.35 TicketPrefix_SOTONOQ\n",
      "1.28 Name_title_Rev\n",
      "1.28 TicketMembers\n",
      "1.26 TicketPrefix_FCC\n",
      "1.20 TicketPrefix_WC\n",
      "1.19 Age_pred\n",
      "1.14 Embarked_unknown\n",
      "1.14 Name_title_Mlle\n",
      "1.14 TicketPrefix_SWPP\n",
      "1.08 CabinDeck_F\n",
      "1.07 TicketId\n",
      "0.77 Fare_per_ticket_member_standard_score_with_Pclass\n",
      "0.77 TicketPrefix_SOPP\n",
      "0.69 Name_title_Mme\n",
      "0.69 TicketPrefix_SCAH Basle\n",
      "0.69 TicketPrefix_SC\n",
      "0.69 Name_title_Sir\n",
      "0.69 Name_title_Countess\n",
      "0.69 Name_title_Lady\n",
      "0.58 TicketPrefix_SOTONO\n",
      "0.56 TicketPrefix_SOC\n",
      "0.53 SibSp\n",
      "0.50 TicketPrefix_PP\n",
      "0.37 TicketPrefix_AS\n",
      "0.37 TicketPrefix_FC\n",
      "0.37 TicketPrefix_SCOW\n",
      "0.37 TicketPrefix_SP\n",
      "0.37 TicketPrefix_SCA\n",
      "0.37 TicketPrefix_SOP\n",
      "0.37 CabinDeck_T\n",
      "0.37 Name_title_Don\n",
      "0.37 TicketPrefix_Fa\n",
      "0.37 Name_title_Capt\n",
      "0.37 TicketPrefix_CASOTON\n",
      "0.37 Name_title_Jonkheer\n",
      "0.35 SurnameMembers\n",
      "0.30 CabinDeck_A\n",
      "0.25 TicketPrefix_CA\n",
      "0.24 TicketPrefix_LINE\n",
      "0.23 TicketPrefix_STONO\n",
      "0.21 FamilySize\n",
      "0.20 TicketPrefix_SCParis\n",
      "0.20 CabinDeck_G\n",
      "0.13 Name_title_Major\n",
      "0.13 TicketPrefix_SCAH\n",
      "0.13 TicketPrefix_PPP\n",
      "0.13 Name_title_Col\n",
      "0.12 Age\n",
      "0.09 Name_title_Dr\n",
      "0.09 TicketPrefix_SCPARIS\n",
      "0.08 SurnameId\n",
      "0.07 TicketPrefix_WEP\n",
      "0.04 Embarked_Q\n",
      "0.03 TicketPrefix_C\n",
      "0.02 TicketPrefix_unknown\n"
     ]
    }
   ],
   "source": [
    "# feature selection\n",
    "from sklearn.feature_selection import SelectKBest, f_classif\n",
    "\n",
    "train = df[0:891].fillna(0).copy()\n",
    "target = train[\"Survived\"].values\n",
    "\n",
    "selector = SelectKBest(f_classif, k=len(numerical_columns))\n",
    "selector.fit(train[numerical_columns], target)\n",
    "scores = -np.log10(selector.pvalues_)\n",
    "indices = np.argsort(scores)[::-1]\n",
    "print(\"Features importance :\")\n",
    "for f in range(len(scores)):\n",
    "    print(\"%0.2f %s\" % (scores[indices[f]],numerical_columns[indices[f]]))"
   ]
  },
  {
   "cell_type": "code",
   "execution_count": 734,
   "metadata": {
    "collapsed": false,
    "scrolled": true
   },
   "outputs": [
    {
     "name": "stdout",
     "output_type": "stream",
     "text": [
      "Accuracy: 89.787 (+/- 1.04) [Random Forest Cross Validation]\n",
      "Accuracy: 96.745             [Random Forest full test]\n",
      "1. feature 32 (5.661192) Name_title_Mr\n",
      "2. feature 23 (5.640016) Sex_male\n",
      "3. feature 19 (5.368416) NameLength\n",
      "4. feature 94 (5.003310) Age_pred\n",
      "5. feature 24 (4.938007) Sex_female\n",
      "6. feature 5 (4.851631) Fare\n",
      "7. feature 21 (4.358717) Fare_standard_score_with_Pclass\n",
      "8. feature 29 (4.291922) SexAdult_male_adult\n",
      "9. feature 6 (3.882210) Ticket_perishing_women\n",
      "10. feature 7 (3.846998) TicketGroup_include_perishing_women\n",
      "11. feature 2 (3.817447) Age\n",
      "12. feature 30 (3.792725) SexAdult_female_adult\n",
      "13. feature 22 (3.643060) Fare_per_ticket_member_standard_score_with_Pclass\n",
      "14. feature 12 (3.538373) Surname_perishing_women\n",
      "15. feature 13 (3.325617) SurnameGroup_include_perishing_women\n",
      "16. feature 1 (3.204634) Pclass\n",
      "17. feature 9 (2.624802) TicketGroup_include_surviving_men\n",
      "18. feature 8 (2.475938) Ticket_surviving_men\n",
      "19. feature 11 (2.203035) TicketMembers\n",
      "20. feature 33 (1.911008) Name_title_Mrs\n",
      "21. feature 34 (1.697670) Name_title_Miss\n",
      "22. feature 18 (1.666566) FamilySize\n",
      "23. feature 17 (1.590109) SurnameMembers\n",
      "24. feature 15 (1.237406) SurnameGroup_include_surviving_men\n",
      "25. feature 14 (1.212841) Surname_surviving_men\n",
      "26. feature 49 (1.168569) CabinLocation_unknown\n",
      "27. feature 52 (1.087024) CabinDeck_unknown\n",
      "28. feature 20 (1.039287) CabinCount\n",
      "29. feature 16 (0.971400) SurnameId\n",
      "30. feature 10 (0.803341) TicketId\n",
      "31. feature 3 (0.758480) SibSp\n",
      "32. feature 25 (0.682010) Embarked_S\n",
      "33. feature 31 (0.604753) SexAdult_child\n",
      "34. feature 4 (0.598091) Parch\n",
      "35. feature 35 (0.540780) Name_title_Master\n",
      "36. feature 50 (0.529342) CabinLocation_starboard\n",
      "37. feature 26 (0.522790) Embarked_C\n",
      "38. feature 80 (0.522176) TicketPrefix_SWPP\n",
      "39. feature 64 (0.506258) TicketPrefix_unknown\n",
      "40. feature 54 (0.462075) CabinDeck_E\n",
      "41. feature 27 (0.350469) Embarked_Q\n",
      "42. feature 51 (0.316870) CabinLocation_port\n",
      "43. feature 62 (0.279533) TicketPrefix_PC\n",
      "44. feature 63 (0.265096) TicketPrefix_STONO\n",
      "45. feature 53 (0.249149) CabinDeck_C\n",
      "46. feature 56 (0.207754) CabinDeck_D\n",
      "47. feature 58 (0.191575) CabinDeck_B\n",
      "48. feature 72 (0.142746) TicketPrefix_SOTONOQ\n",
      "49. feature 74 (0.140506) TicketPrefix_C\n",
      "50. feature 87 (0.137279) TicketPrefix_SOPP\n",
      "51. feature 37 (0.121111) Name_title_Rev\n",
      "52. feature 66 (0.114803) TicketPrefix_CA\n",
      "53. feature 57 (0.112660) CabinDeck_A\n",
      "54. feature 38 (0.092389) Name_title_Dr\n",
      "55. feature 75 (0.082748) TicketPrefix_SCPARIS\n",
      "56. feature 61 (0.076897) TicketPrefix_A\n",
      "57. feature 71 (0.074527) TicketPrefix_WC\n",
      "58. feature 59 (0.072682) CabinDeck_F\n",
      "59. feature 40 (0.063340) Name_title_Major\n",
      "60. feature 44 (0.061833) Name_title_Col\n",
      "61. feature 55 (0.048650) CabinDeck_G\n",
      "62. feature 79 (0.045293) TicketPrefix_FCC\n",
      "63. feature 78 (0.037224) TicketPrefix_LINE\n",
      "64. feature 70 (0.017786) TicketPrefix_SOC\n",
      "65. feature 73 (0.015370) TicketPrefix_WEP\n",
      "66. feature 83 (0.015122) TicketPrefix_SC\n",
      "67. feature 45 (0.012622) Name_title_Capt\n",
      "68. feature 42 (0.012199) Name_title_Sir\n",
      "69. feature 47 (0.007418) Name_title_Jonkheer\n",
      "70. feature 43 (0.007147) Name_title_Mlle\n",
      "71. feature 36 (0.006062) Name_title_Don\n",
      "72. feature 65 (0.005031) TicketPrefix_PP\n",
      "73. feature 28 (0.004551) Embarked_unknown\n",
      "74. feature 67 (0.004542) TicketPrefix_SCParis\n",
      "75. feature 86 (0.003745) TicketPrefix_SCAH Basle\n",
      "76. feature 39 (0.002960) Name_title_Mme\n",
      "77. feature 88 (0.002760) TicketPrefix_FC\n",
      "78. feature 60 (0.002644) CabinDeck_T\n",
      "79. feature 84 (0.002129) TicketPrefix_SCAH\n",
      "80. feature 68 (0.001987) TicketPrefix_SCA\n",
      "81. feature 41 (0.001810) Name_title_Lady\n",
      "82. feature 82 (0.001803) TicketPrefix_PPP\n",
      "83. feature 69 (0.001754) TicketPrefix_SP\n",
      "84. feature 46 (0.001510) Name_title_Countess\n",
      "85. feature 89 (0.001284) TicketPrefix_SOTONO\n",
      "86. feature 90 (0.000827) TicketPrefix_CASOTON\n",
      "87. feature 81 (0.000731) TicketPrefix_SCOW\n",
      "88. feature 85 (0.000687) TicketPrefix_AS\n",
      "89. feature 76 (0.000254) TicketPrefix_SOP\n",
      "90. feature 77 (0.000102) TicketPrefix_Fa\n",
      "91. feature 95 (0.000000) Frugal_First_Class_Single_Man\n",
      "92. feature 91 (0.000000) TicketPrefix_STONOQ\n",
      "93. feature 92 (0.000000) TicketPrefix_AQ\n",
      "94. feature 93 (0.000000) TicketPrefix_LP\n",
      "95. feature 48 (0.000000) Name_title_Dona\n"
     ]
    }
   ],
   "source": [
    "# Random Forest\n",
    "from sklearn.ensemble import RandomForestClassifier\n",
    "from sklearn import cross_validation\n",
    "\n",
    "random_forest = RandomForestClassifier(n_estimators=1000, min_samples_split=4, class_weight={0:0.745, 1:0.255})\n",
    "kfold = cross_validation.KFold(train.shape[0], n_folds=3, random_state=42)\n",
    "\n",
    "scores = cross_validation.cross_val_score(random_forest, train[numerical_columns], target, cv=kfold)\n",
    "print(\"Accuracy: %0.3f (+/- %0.2f) [%s]\" % (scores.mean() * 100, scores.std() * 100, 'Random Forest Cross Validation'))\n",
    "\n",
    "random_forest.fit(train[numerical_columns], target)\n",
    "score = random_forest.score(train[numerical_columns], target)\n",
    "print(\"Accuracy: %0.3f             [%s]\" % (score * 100, 'Random Forest full test'))\n",
    "\n",
    "importances = random_forest.feature_importances_\n",
    "indices = np.argsort(importances)[::-1]\n",
    "for f in range(len(numerical_columns)):\n",
    "    print(\"%d. feature %d (%f) %s\" % (f + 1, indices[f] + 1, importances[indices[f]] * 100, numerical_columns[indices[f]]))"
   ]
  },
  {
   "cell_type": "code",
   "execution_count": 749,
   "metadata": {
    "collapsed": false,
    "scrolled": true
   },
   "outputs": [
    {
     "name": "stdout",
     "output_type": "stream",
     "text": [
      "Accuracy: 89.562 (+/- 1.20) [Random Forest Cross Validation]\n",
      "Accuracy: 95.847             [Random Forest full test]\n",
      "1. feature 9 (7.203672) NameLength\n",
      "2. feature 3 (6.667151) Age_pred\n",
      "3. feature 23 (6.623675) TicketGroup_include_perishing_women\n",
      "4. feature 2 (6.145676) Sex_male\n",
      "5. feature 25 (6.037999) SurnameGroup_include_perishing_women\n",
      "6. feature 1 (5.475172) Sex_female\n",
      "7. feature 12 (5.444088) Fare_standard_score_with_Pclass\n",
      "8. feature 13 (5.228353) Fare_per_ticket_member_standard_score_with_Pclass\n",
      "9. feature 7 (4.968308) Pclass\n",
      "10. feature 31 (4.948110) Name_title_Mr\n",
      "11. feature 4 (4.578591) SexAdult_male_adult\n",
      "12. feature 24 (4.075973) TicketGroup_include_surviving_men\n",
      "13. feature 5 (3.446933) SexAdult_female_adult\n",
      "14. feature 26 (2.416197) SurnameGroup_include_surviving_men\n",
      "15. feature 16 (2.384774) TicketMembers\n",
      "16. feature 14 (1.954470) FamilySize\n",
      "17. feature 18 (1.922967) TicketMembers_Simple\n",
      "18. feature 15 (1.759402) SurnameMembers\n",
      "19. feature 32 (1.669698) Name_title_Mrs\n",
      "20. feature 33 (1.609136) Name_title_Miss\n",
      "21. feature 47 (1.550785) CabinLocation_unknown\n",
      "22. feature 50 (1.511933) CabinDeck_unknown\n",
      "23. feature 17 (1.305962) SurnameMembers_Simple\n",
      "24. feature 10 (1.030133) SibSp\n",
      "25. feature 8 (0.994517) TicketId\n",
      "26. feature 48 (0.886641) CabinLocation_starboard\n",
      "27. feature 27 (0.857996) Embarked_S\n",
      "28. feature 6 (0.657262) SexAdult_child\n",
      "29. feature 28 (0.640358) Embarked_C\n",
      "30. feature 11 (0.616091) Parch\n",
      "31. feature 19 (0.601037) TicketPrefix_unknown\n",
      "32. feature 20 (0.560744) TicketPrefix_SWPP\n",
      "33. feature 34 (0.555743) Name_title_Master\n",
      "34. feature 52 (0.536207) CabinDeck_E\n",
      "35. feature 29 (0.446697) Embarked_Q\n",
      "36. feature 49 (0.423125) CabinLocation_port\n",
      "37. feature 21 (0.317707) TicketPrefix_PC\n",
      "38. feature 22 (0.315812) TicketPrefix_PC\n",
      "39. feature 54 (0.304863) CabinDeck_D\n",
      "40. feature 56 (0.298789) CabinDeck_B\n",
      "41. feature 51 (0.281213) CabinDeck_C\n",
      "42. feature 55 (0.138566) CabinDeck_A\n",
      "43. feature 37 (0.108296) Name_title_Dr\n",
      "44. feature 36 (0.100467) Name_title_Rev\n",
      "45. feature 39 (0.085274) Name_title_Major\n",
      "46. feature 53 (0.083998) CabinDeck_G\n",
      "47. feature 57 (0.077768) CabinDeck_F\n",
      "48. feature 43 (0.075570) Name_title_Col\n",
      "49. feature 44 (0.025171) Name_title_Capt\n",
      "50. feature 41 (0.020866) Name_title_Sir\n",
      "51. feature 35 (0.006756) Name_title_Don\n",
      "52. feature 46 (0.006557) Name_title_Jonkheer\n",
      "53. feature 42 (0.005963) Name_title_Mlle\n",
      "54. feature 58 (0.003226) CabinDeck_T\n",
      "55. feature 30 (0.002652) Embarked_unknown\n",
      "56. feature 38 (0.002462) Name_title_Mme\n",
      "57. feature 40 (0.001834) Name_title_Lady\n",
      "58. feature 45 (0.000614) Name_title_Countess\n",
      "59. feature 59 (0.000000) Frugal_First_Class_Single_Man\n"
     ]
    }
   ],
   "source": [
    "# select specidic features\n",
    "features = ['Sex_female','Sex_male','Age_pred','SexAdult_male_adult','SexAdult_female_adult', 'SexAdult_child',\n",
    "            'Pclass', 'TicketId','NameLength', 'SibSp', 'Parch', \n",
    "            'Fare_standard_score_with_Pclass', 'Fare_per_ticket_member_standard_score_with_Pclass',\n",
    "            'FamilySize', 'SurnameMembers', 'TicketMembers', 'SurnameMembers_Simple', 'TicketMembers_Simple',\n",
    "            'TicketPrefix_unknown', 'TicketPrefix_SWPP', 'TicketPrefix_PC', 'TicketPrefix_PC',\n",
    "            'TicketGroup_include_perishing_women','TicketGroup_include_surviving_men',\n",
    "            'SurnameGroup_include_perishing_women','SurnameGroup_include_surviving_men',\n",
    "            'Embarked_S', 'Embarked_C', 'Embarked_Q', 'Embarked_unknown', \n",
    "            'Name_title_Mr', 'Name_title_Mrs', 'Name_title_Miss', 'Name_title_Master', \n",
    "            'Name_title_Don', 'Name_title_Rev', 'Name_title_Dr', 'Name_title_Mme', \n",
    "            'Name_title_Major', 'Name_title_Lady', 'Name_title_Sir', 'Name_title_Mlle', 'Name_title_Col', \n",
    "            'Name_title_Capt', 'Name_title_Countess', 'Name_title_Jonkheer', \n",
    "            'CabinLocation_unknown', 'CabinLocation_starboard', 'CabinLocation_port', 'CabinDeck_unknown', \n",
    "            'CabinDeck_C', 'CabinDeck_E', 'CabinDeck_G', 'CabinDeck_D', 'CabinDeck_A', 'CabinDeck_B', 'CabinDeck_F', 'CabinDeck_T',\n",
    "            'Frugal_First_Class_Single_Man'\n",
    "           ]\n",
    "\n",
    "random_forest = RandomForestClassifier(n_estimators=1000, min_samples_split=4, class_weight={0:0.745, 1:0.255})\n",
    "kfold = cross_validation.KFold(train.shape[0], n_folds=3, random_state=42)\n",
    "\n",
    "scores = cross_validation.cross_val_score(random_forest, train[features], target, cv=kfold)\n",
    "print(\"Accuracy: %0.3f (+/- %0.2f) [%s]\" % (scores.mean() * 100, scores.std() * 100, 'Random Forest Cross Validation'))\n",
    "\n",
    "random_forest.fit(train[features], target)\n",
    "score = random_forest.score(train[features], target)\n",
    "print(\"Accuracy: %0.3f             [%s]\" % (score * 100, 'Random Forest full test'))\n",
    "\n",
    "importances = random_forest.feature_importances_\n",
    "indices = np.argsort(importances)[::-1]\n",
    "for f in range(len(features)):\n",
    "    print(\"%d. feature %d (%f) %s\" % (f + 1, indices[f] + 1, importances[indices[f]] * 100, features[indices[f]]))"
   ]
  },
  {
   "cell_type": "code",
   "execution_count": 750,
   "metadata": {
    "collapsed": false,
    "scrolled": true
   },
   "outputs": [
    {
     "name": "stdout",
     "output_type": "stream",
     "text": [
      "Accuracy: 89.048 (+/- 1.55) [Random Forest Cross Validation]\n",
      "Accuracy: 91.061             [Random Forest full test]\n",
      "1. feature 3 (6.811368) Age_pred\n",
      "2. feature 9 (6.749230) NameLength\n",
      "3. feature 25 (5.884439) SurnameGroup_include_perishing_women\n",
      "4. feature 23 (5.772158) TicketGroup_include_perishing_women\n",
      "5. feature 2 (5.731434) Sex_male\n",
      "6. feature 12 (5.687839) Fare_standard_score_with_Pclass\n",
      "7. feature 1 (5.429627) Sex_female\n",
      "8. feature 31 (5.205856) Name_title_Mr\n",
      "9. feature 7 (5.175047) Pclass\n",
      "10. feature 13 (5.154363) Fare_per_ticket_member_standard_score_with_Pclass\n",
      "11. feature 4 (4.572953) SexAdult_male_adult\n",
      "12. feature 24 (3.778652) TicketGroup_include_surviving_men\n",
      "13. feature 5 (3.728851) SexAdult_female_adult\n",
      "14. feature 26 (2.500729) SurnameGroup_include_surviving_men\n",
      "15. feature 32 (2.493268) Name_title_Mrs\n",
      "16. feature 16 (2.467086) TicketMembers\n",
      "17. feature 18 (1.985242) TicketMembers_Simple\n",
      "18. feature 15 (1.952107) SurnameMembers\n",
      "19. feature 14 (1.923444) FamilySize\n",
      "20. feature 33 (1.492478) Name_title_Miss\n",
      "21. feature 17 (1.379504) SurnameMembers_Simple\n",
      "22. feature 47 (1.332709) CabinLocation_unknown\n",
      "23. feature 50 (1.304336) CabinDeck_unknown\n",
      "24. feature 8 (1.107096) TicketId\n",
      "25. feature 10 (0.977593) SibSp\n",
      "26. feature 48 (0.968511) CabinLocation_starboard\n",
      "27. feature 27 (0.778498) Embarked_S\n",
      "28. feature 6 (0.711810) SexAdult_child\n",
      "29. feature 20 (0.686818) TicketPrefix_SWPP\n",
      "30. feature 28 (0.672287) Embarked_C\n",
      "31. feature 19 (0.654872) TicketPrefix_unknown\n",
      "32. feature 11 (0.651230) Parch\n",
      "33. feature 34 (0.588800) Name_title_Master\n",
      "34. feature 52 (0.529888) CabinDeck_E\n",
      "35. feature 29 (0.418710) Embarked_Q\n",
      "36. feature 49 (0.389619) CabinLocation_port\n",
      "37. feature 56 (0.355419) CabinDeck_B\n",
      "38. feature 51 (0.324450) CabinDeck_C\n",
      "39. feature 54 (0.310435) CabinDeck_D\n",
      "40. feature 21 (0.290611) TicketPrefix_PC\n",
      "41. feature 22 (0.282021) TicketPrefix_PC\n",
      "42. feature 36 (0.146337) Name_title_Rev\n",
      "43. feature 37 (0.113205) Name_title_Dr\n",
      "44. feature 53 (0.105380) CabinDeck_G\n",
      "45. feature 55 (0.096770) CabinDeck_A\n",
      "46. feature 43 (0.095275) Name_title_Col\n",
      "47. feature 39 (0.095271) Name_title_Major\n",
      "48. feature 57 (0.080643) CabinDeck_F\n",
      "49. feature 44 (0.025701) Name_title_Capt\n",
      "50. feature 42 (0.012522) Name_title_Mlle\n",
      "51. feature 30 (0.005085) Embarked_unknown\n",
      "52. feature 40 (0.004026) Name_title_Lady\n",
      "53. feature 45 (0.003630) Name_title_Countess\n",
      "54. feature 58 (0.002558) CabinDeck_T\n",
      "55. feature 38 (0.002207) Name_title_Mme\n",
      "56. feature 35 (0.000000) Name_title_Don\n",
      "57. feature 41 (0.000000) Name_title_Sir\n",
      "58. feature 46 (0.000000) Name_title_Jonkheer\n",
      "59. feature 59 (0.000000) Frugal_First_Class_Single_Man\n"
     ]
    }
   ],
   "source": [
    "# analyze failed.\n",
    "X_train, X_test, y_train, y_test = cross_validation.train_test_split(train, target, test_size=0.2, random_state=42)\n",
    "random_forest = RandomForestClassifier(n_estimators=3000, min_samples_split=4, class_weight={0:0.745, 1:0.255})\n",
    "kfold = cross_validation.KFold(X_train.shape[0], n_folds=3, random_state=42)\n",
    "\n",
    "scores = cross_validation.cross_val_score(random_forest, X_train[features], y_train, cv=kfold)\n",
    "print(\"Accuracy: %0.3f (+/- %0.2f) [%s]\" % (scores.mean() * 100, scores.std() * 100, 'Random Forest Cross Validation'))\n",
    "\n",
    "random_forest.fit(X_train[features], y_train)\n",
    "score = random_forest.score(X_test[features], y_test)\n",
    "print(\"Accuracy: %0.3f             [%s]\" % (score * 100, 'Random Forest full test'))\n",
    "pred_test = random_forest.predict(X_test[features])\n",
    "\n",
    "importances = random_forest.feature_importances_\n",
    "indices = np.argsort(importances)[::-1]\n",
    "for f in range(len(features)):\n",
    "    print(\"%d. feature %d (%f) %s\" % (f + 1, indices[f] + 1, importances[indices[f]] * 100, features[indices[f]]))"
   ]
  },
  {
   "cell_type": "code",
   "execution_count": 751,
   "metadata": {
    "collapsed": false
   },
   "outputs": [],
   "source": [
    "test = df[891:].copy()\n",
    "random_forest.fit(train[features], target)\n",
    "predictions = random_forest.predict(test[features])"
   ]
  },
  {
   "cell_type": "code",
   "execution_count": 752,
   "metadata": {
    "collapsed": false
   },
   "outputs": [],
   "source": [
    "PassengerId = np.array(test[\"PassengerId\"]).astype(int)\n",
    "submit_df = pd.DataFrame(predictions, PassengerId, columns = ['Survived']).astype(int)\n",
    "submit_df.to_csv('titanic.csv', index_label=['PassengerId'])"
   ]
  },
  {
   "cell_type": "code",
   "execution_count": 753,
   "metadata": {
    "collapsed": false
   },
   "outputs": [
    {
     "name": "stdout",
     "output_type": "stream",
     "text": [
      "      Survived\n",
      "986          0\n",
      "1093         1\n",
      "1236         1\n",
      "1259         1\n",
      "       Age    Cabin Embarked      Fare  \\\n",
      "986   25.0      NaN        S    7.7958   \n",
      "1093  47.0  C62 C64        C  227.5250   \n",
      "1236  16.0      NaN        S    7.6500   \n",
      "1259  45.0      NaN        C   59.4000   \n",
      "\n",
      "                                         Name  Parch  PassengerId  Pclass  \\\n",
      "986                Tenglin, Mr. Gunnar Isidor      0          987       3   \n",
      "1093                   Astor, Col. John Jacob      0         1094       1   \n",
      "1236              Abelseth, Miss. Karen Marie      0         1237       3   \n",
      "1259  Gibson, Mrs. Leonard (Pauline C Boeson)      1         1260       1   \n",
      "\n",
      "         Sex  SibSp  Survived    Ticket      SexAdult  TicketMembers  \\\n",
      "986     male      0       NaN    350033    male_adult              1   \n",
      "1093    male      1       NaN  PC 17757    male_adult              5   \n",
      "1236  female      0       NaN    348125         child              1   \n",
      "1259  female      0       NaN    112378  female_adult              2   \n",
      "\n",
      "      Ticket_perishing_women  TicketGroup_include_perishing_women  \\\n",
      "986                      0.0                                    0   \n",
      "1093                     0.0                                    0   \n",
      "1236                     0.0                                    0   \n",
      "1259                     0.0                                    0   \n",
      "\n",
      "      Ticket_surviving_men  TicketGroup_include_surviving_men  TicketId  \\\n",
      "986                    0.0                                  0        -1   \n",
      "1093                   0.0                                  0       833   \n",
      "1236                   0.0                                  0        -1   \n",
      "1259                   0.0                                  0        -1   \n",
      "\n",
      "      TicketMembers_Simple   surname  SurnameMembers  Surname_perishing_women  \\\n",
      "986                      0   tenglin               1                      0.0   \n",
      "1093                     2     astor               2                      0.0   \n",
      "1236                     0  abelseth               2                      0.0   \n",
      "1259                     1    gibson               2                      0.0   \n",
      "\n",
      "      SurnameGroup_include_perishing_women  Surname_surviving_men  \\\n",
      "986                                      0                    0.0   \n",
      "1093                                     0                    0.0   \n",
      "1236                                     0                    0.0   \n",
      "1259                                     0                    0.0   \n",
      "\n",
      "      SurnameGroup_include_surviving_men  SurnameId  SurnameMembers_Simple  \\\n",
      "986                                    0         -1                      0   \n",
      "1093                                   0         -1                      1   \n",
      "1236                                   0         -1                      1   \n",
      "1259                                   0         -1                      1   \n",
      "\n",
      "     Name_title  FamilySize  NameLength CabinLocation CabinDeck  CabinCount  \\\n",
      "986          Mr           0          26       unknown   unknown           0   \n",
      "1093        Col           1          22          port         C           2   \n",
      "1236       Miss           0          27       unknown   unknown           0   \n",
      "1259        Mrs           1          39       unknown   unknown           0   \n",
      "\n",
      "      Fare_per_ticket_member  Fare_standard_score_with_Pclass  \\\n",
      "986                   7.7958                        -0.219292   \n",
      "1093                 45.5050                         0.217755   \n",
      "1236                  7.6500                        -0.227006   \n",
      "1259                 29.7000                        -0.088290   \n",
      "\n",
      "      Fare_per_ticket_member_standard_score_with_Pclass TicketPrefix  \\\n",
      "986                                            0.098823      unknown   \n",
      "1093                                           0.107580           PC   \n",
      "1236                                           0.065941      unknown   \n",
      "1259                                          -0.048494      unknown   \n",
      "\n",
      "      Sex_female  Sex_male  Embarked_C  Embarked_Q  Embarked_S  \\\n",
      "986          0.0       1.0         0.0         0.0         1.0   \n",
      "1093         0.0       1.0         1.0         0.0         0.0   \n",
      "1236         1.0       0.0         0.0         0.0         1.0   \n",
      "1259         1.0       0.0         1.0         0.0         0.0   \n",
      "\n",
      "      Embarked_unknown  SexAdult_child  SexAdult_female_adult  \\\n",
      "986                0.0             0.0                    0.0   \n",
      "1093               0.0             0.0                    0.0   \n",
      "1236               0.0             1.0                    0.0   \n",
      "1259               0.0             0.0                    1.0   \n",
      "\n",
      "      SexAdult_male_adult  Name_title_Capt  Name_title_Col  \\\n",
      "986                   1.0              0.0             0.0   \n",
      "1093                  1.0              0.0             1.0   \n",
      "1236                  0.0              0.0             0.0   \n",
      "1259                  0.0              0.0             0.0   \n",
      "\n",
      "      Name_title_Countess              ...                Name_title_Mrs  \\\n",
      "986                   0.0              ...                           0.0   \n",
      "1093                  0.0              ...                           0.0   \n",
      "1236                  0.0              ...                           0.0   \n",
      "1259                  0.0              ...                           1.0   \n",
      "\n",
      "      Name_title_Rev  Name_title_Sir  CabinLocation_port  \\\n",
      "986              0.0             0.0                 0.0   \n",
      "1093             0.0             0.0                 1.0   \n",
      "1236             0.0             0.0                 0.0   \n",
      "1259             0.0             0.0                 0.0   \n",
      "\n",
      "      CabinLocation_starboard  CabinLocation_unknown  CabinDeck_A  \\\n",
      "986                       0.0                    1.0          0.0   \n",
      "1093                      0.0                    0.0          0.0   \n",
      "1236                      0.0                    1.0          0.0   \n",
      "1259                      0.0                    1.0          0.0   \n",
      "\n",
      "      CabinDeck_B  CabinDeck_C  CabinDeck_D  CabinDeck_E  CabinDeck_F  \\\n",
      "986           0.0          0.0          0.0          0.0          0.0   \n",
      "1093          0.0          1.0          0.0          0.0          0.0   \n",
      "1236          0.0          0.0          0.0          0.0          0.0   \n",
      "1259          0.0          0.0          0.0          0.0          0.0   \n",
      "\n",
      "      CabinDeck_G  CabinDeck_T  CabinDeck_unknown  TicketPrefix_A  \\\n",
      "986           0.0          0.0                1.0             0.0   \n",
      "1093          0.0          0.0                0.0             0.0   \n",
      "1236          0.0          0.0                1.0             0.0   \n",
      "1259          0.0          0.0                1.0             0.0   \n",
      "\n",
      "      TicketPrefix_AQ  TicketPrefix_AS  TicketPrefix_C  TicketPrefix_CA  \\\n",
      "986               0.0              0.0             0.0              0.0   \n",
      "1093              0.0              0.0             0.0              0.0   \n",
      "1236              0.0              0.0             0.0              0.0   \n",
      "1259              0.0              0.0             0.0              0.0   \n",
      "\n",
      "      TicketPrefix_CASOTON  TicketPrefix_FC  TicketPrefix_FCC  \\\n",
      "986                    0.0              0.0               0.0   \n",
      "1093                   0.0              0.0               0.0   \n",
      "1236                   0.0              0.0               0.0   \n",
      "1259                   0.0              0.0               0.0   \n",
      "\n",
      "      TicketPrefix_Fa  TicketPrefix_LINE  TicketPrefix_LP  TicketPrefix_PC  \\\n",
      "986               0.0                0.0              0.0              0.0   \n",
      "1093              0.0                0.0              0.0              1.0   \n",
      "1236              0.0                0.0              0.0              0.0   \n",
      "1259              0.0                0.0              0.0              0.0   \n",
      "\n",
      "      TicketPrefix_PP  TicketPrefix_PPP  TicketPrefix_SC  TicketPrefix_SCA  \\\n",
      "986               0.0               0.0              0.0               0.0   \n",
      "1093              0.0               0.0              0.0               0.0   \n",
      "1236              0.0               0.0              0.0               0.0   \n",
      "1259              0.0               0.0              0.0               0.0   \n",
      "\n",
      "      TicketPrefix_SCAH  TicketPrefix_SCAH Basle  TicketPrefix_SCOW  \\\n",
      "986                 0.0                      0.0                0.0   \n",
      "1093                0.0                      0.0                0.0   \n",
      "1236                0.0                      0.0                0.0   \n",
      "1259                0.0                      0.0                0.0   \n",
      "\n",
      "      TicketPrefix_SCPARIS  TicketPrefix_SCParis  TicketPrefix_SOC  \\\n",
      "986                    0.0                   0.0               0.0   \n",
      "1093                   0.0                   0.0               0.0   \n",
      "1236                   0.0                   0.0               0.0   \n",
      "1259                   0.0                   0.0               0.0   \n",
      "\n",
      "      TicketPrefix_SOP  TicketPrefix_SOPP  TicketPrefix_SOTONO  \\\n",
      "986                0.0                0.0                  0.0   \n",
      "1093               0.0                0.0                  0.0   \n",
      "1236               0.0                0.0                  0.0   \n",
      "1259               0.0                0.0                  0.0   \n",
      "\n",
      "      TicketPrefix_SOTONOQ  TicketPrefix_SP  TicketPrefix_STONO  \\\n",
      "986                    0.0              0.0                 0.0   \n",
      "1093                   0.0              0.0                 0.0   \n",
      "1236                   0.0              0.0                 0.0   \n",
      "1259                   0.0              0.0                 0.0   \n",
      "\n",
      "      TicketPrefix_STONOQ  TicketPrefix_SWPP  TicketPrefix_WC  \\\n",
      "986                   0.0                0.0              0.0   \n",
      "1093                  0.0                0.0              0.0   \n",
      "1236                  0.0                0.0              0.0   \n",
      "1259                  0.0                0.0              0.0   \n",
      "\n",
      "      TicketPrefix_WEP  TicketPrefix_unknown  Age_pred  \\\n",
      "986                0.0                   1.0      24.0   \n",
      "1093               0.0                   0.0      47.0   \n",
      "1236               0.0                   1.0      16.0   \n",
      "1259               0.0                   1.0      45.0   \n",
      "\n",
      "      Frugal_First_Class_Single_Man  \n",
      "986                               0  \n",
      "1093                              0  \n",
      "1236                              0  \n",
      "1259                              0  \n",
      "\n",
      "[4 rows x 111 columns]\n"
     ]
    }
   ],
   "source": [
    "print(submit_df.loc[[986, 1093, 1236, 1259], :])\n",
    "print(test.loc[[986, 1093, 1236, 1259], :])"
   ]
  },
  {
   "cell_type": "code",
   "execution_count": 754,
   "metadata": {
    "collapsed": false
   },
   "outputs": [
    {
     "name": "stdout",
     "output_type": "stream",
     "text": [
      "      Age Cabin Embarked  Fare                                 Name  Parch  \\\n",
      "647  56.0   A26        C  35.5  Simonius-Blumer, Col. Oberst Alfons      0   \n",
      "\n",
      "     PassengerId  Pclass   Sex  SibSp  Survived Ticket    SexAdult  \\\n",
      "647          648       1  male      0       1.0  13213  male_adult   \n",
      "\n",
      "     TicketMembers  Ticket_perishing_women  \\\n",
      "647              1                     0.0   \n",
      "\n",
      "     TicketGroup_include_perishing_women  Ticket_surviving_men  \\\n",
      "647                                    0                   0.0   \n",
      "\n",
      "     TicketGroup_include_surviving_men  TicketId  TicketMembers_Simple  \\\n",
      "647                                  0        -1                     0   \n",
      "\n",
      "             surname  SurnameMembers  Surname_perishing_women  \\\n",
      "647  simonius-blumer               1                      0.0   \n",
      "\n",
      "     SurnameGroup_include_perishing_women  Surname_surviving_men  \\\n",
      "647                                     0                    0.0   \n",
      "\n",
      "     SurnameGroup_include_surviving_men  SurnameId  SurnameMembers_Simple  \\\n",
      "647                                   0         -1                      0   \n",
      "\n",
      "    Name_title  FamilySize  NameLength CabinLocation CabinDeck  CabinCount  \\\n",
      "647        Col           0          35          port         A           1   \n",
      "\n",
      "     Fare_per_ticket_member  Fare_standard_score_with_Pclass  \\\n",
      "647                    35.5                        -0.205583   \n",
      "\n",
      "     Fare_per_ticket_member_standard_score_with_Pclass TicketPrefix  \\\n",
      "647                                           0.016756      unknown   \n",
      "\n",
      "     Sex_female  Sex_male  Embarked_C  Embarked_Q  Embarked_S  \\\n",
      "647         0.0       1.0         1.0         0.0         0.0   \n",
      "\n",
      "     Embarked_unknown  SexAdult_child  SexAdult_female_adult  \\\n",
      "647               0.0             0.0                    0.0   \n",
      "\n",
      "     SexAdult_male_adult  Name_title_Capt  Name_title_Col  \\\n",
      "647                  1.0              0.0             1.0   \n",
      "\n",
      "     Name_title_Countess              ...                Name_title_Mrs  \\\n",
      "647                  0.0              ...                           0.0   \n",
      "\n",
      "     Name_title_Rev  Name_title_Sir  CabinLocation_port  \\\n",
      "647             0.0             0.0                 1.0   \n",
      "\n",
      "     CabinLocation_starboard  CabinLocation_unknown  CabinDeck_A  CabinDeck_B  \\\n",
      "647                      0.0                    0.0          1.0          0.0   \n",
      "\n",
      "     CabinDeck_C  CabinDeck_D  CabinDeck_E  CabinDeck_F  CabinDeck_G  \\\n",
      "647          0.0          0.0          0.0          0.0          0.0   \n",
      "\n",
      "     CabinDeck_T  CabinDeck_unknown  TicketPrefix_A  TicketPrefix_AQ  \\\n",
      "647          0.0                0.0             0.0              0.0   \n",
      "\n",
      "     TicketPrefix_AS  TicketPrefix_C  TicketPrefix_CA  TicketPrefix_CASOTON  \\\n",
      "647              0.0             0.0              0.0                   0.0   \n",
      "\n",
      "     TicketPrefix_FC  TicketPrefix_FCC  TicketPrefix_Fa  TicketPrefix_LINE  \\\n",
      "647              0.0               0.0              0.0                0.0   \n",
      "\n",
      "     TicketPrefix_LP  TicketPrefix_PC  TicketPrefix_PP  TicketPrefix_PPP  \\\n",
      "647              0.0              0.0              0.0               0.0   \n",
      "\n",
      "     TicketPrefix_SC  TicketPrefix_SCA  TicketPrefix_SCAH  \\\n",
      "647              0.0               0.0                0.0   \n",
      "\n",
      "     TicketPrefix_SCAH Basle  TicketPrefix_SCOW  TicketPrefix_SCPARIS  \\\n",
      "647                      0.0                0.0                   0.0   \n",
      "\n",
      "     TicketPrefix_SCParis  TicketPrefix_SOC  TicketPrefix_SOP  \\\n",
      "647                   0.0               0.0               0.0   \n",
      "\n",
      "     TicketPrefix_SOPP  TicketPrefix_SOTONO  TicketPrefix_SOTONOQ  \\\n",
      "647                0.0                  0.0                   0.0   \n",
      "\n",
      "     TicketPrefix_SP  TicketPrefix_STONO  TicketPrefix_STONOQ  \\\n",
      "647              0.0                 0.0                  0.0   \n",
      "\n",
      "     TicketPrefix_SWPP  TicketPrefix_WC  TicketPrefix_WEP  \\\n",
      "647                0.0              0.0               0.0   \n",
      "\n",
      "     TicketPrefix_unknown  Age_pred  Frugal_First_Class_Single_Man  \n",
      "647                   1.0      56.0                              0  \n",
      "\n",
      "[1 rows x 111 columns]\n"
     ]
    }
   ],
   "source": [
    "print(df[(df['Name_title_Col'] == 1) & (df['Survived'] == 1)])"
   ]
  },
  {
   "cell_type": "code",
   "execution_count": null,
   "metadata": {
    "collapsed": true
   },
   "outputs": [],
   "source": []
  }
 ],
 "metadata": {
  "kernelspec": {
   "display_name": "Python 2",
   "language": "python",
   "name": "python2"
  },
  "language_info": {
   "codemirror_mode": {
    "name": "ipython",
    "version": 2
   },
   "file_extension": ".py",
   "mimetype": "text/x-python",
   "name": "python",
   "nbconvert_exporter": "python",
   "pygments_lexer": "ipython2",
   "version": "2.7.12"
  }
 },
 "nbformat": 4,
 "nbformat_minor": 0
}

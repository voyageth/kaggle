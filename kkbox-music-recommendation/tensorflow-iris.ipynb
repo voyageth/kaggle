{
 "cells": [
  {
   "cell_type": "code",
   "execution_count": 1,
   "metadata": {},
   "outputs": [
    {
     "name": "stderr",
     "output_type": "stream",
     "text": [
      "/home/voyageth/develop/anaconda3/envs/kaggle/lib/python3.6/importlib/_bootstrap.py:205: RuntimeWarning: compiletime version 3.5 of module 'tensorflow.python.framework.fast_tensor_util' does not match runtime version 3.6\n",
      "  return f(*args, **kwds)\n"
     ]
    }
   ],
   "source": [
    "from __future__ import absolute_import\n",
    "from __future__ import division\n",
    "from __future__ import print_function\n",
    "\n",
    "import os\n",
    "from six.moves.urllib.request import urlopen\n",
    "\n",
    "import tensorflow as tf\n",
    "import numpy as np"
   ]
  },
  {
   "cell_type": "code",
   "execution_count": 4,
   "metadata": {
    "collapsed": true
   },
   "outputs": [],
   "source": [
    "IRIS_TRAINING = \"input/iris_training.csv\"\n",
    "IRIS_TRAINING_URL = \"http://download.tensorflow.org/data/iris_training.csv\"\n",
    "\n",
    "IRIS_TEST = \"input/iris_test.csv\"\n",
    "IRIS_TEST_URL = \"http://download.tensorflow.org/data/iris_test.csv\""
   ]
  },
  {
   "cell_type": "code",
   "execution_count": 6,
   "metadata": {
    "collapsed": true
   },
   "outputs": [],
   "source": [
    "if not os.path.exists(IRIS_TRAINING):\n",
    "    raw = urlopen(IRIS_TRAINING_URL).read()\n",
    "    with open(IRIS_TRAINING, 'wb') as f:\n",
    "        f.write(raw)\n",
    "\n",
    "if not os.path.exists(IRIS_TEST):\n",
    "    raw = urlopen(IRIS_TEST_URL).read()\n",
    "    with open(IRIS_TEST, 'wb') as f:\n",
    "        f.write(raw)"
   ]
  },
  {
   "cell_type": "code",
   "execution_count": 8,
   "metadata": {},
   "outputs": [],
   "source": [
    "training_set = tf.contrib.learn.datasets.base.load_csv_with_header(\n",
    "    filename=IRIS_TRAINING,\n",
    "    target_dtype=np.int,\n",
    "    features_dtype=np.float32\n",
    ")\n",
    "\n",
    "test_set = tf.contrib.learn.datasets.base.load_csv_with_header(\n",
    "    filename=IRIS_TEST,\n",
    "    target_dtype=np.int,\n",
    "    features_dtype=np.float32\n",
    ")"
   ]
  },
  {
   "cell_type": "code",
   "execution_count": 9,
   "metadata": {},
   "outputs": [
    {
     "name": "stdout",
     "output_type": "stream",
     "text": [
      "INFO:tensorflow:Using default config.\n",
      "INFO:tensorflow:Using config: {'_model_dir': 'output/iris_model', '_tf_random_seed': None, '_save_summary_steps': 100, '_save_checkpoints_steps': None, '_save_checkpoints_secs': 600, '_session_config': None, '_keep_checkpoint_max': 5, '_keep_checkpoint_every_n_hours': 10000, '_log_step_count_steps': 100, '_service': None, '_cluster_spec': <tensorflow.python.training.server_lib.ClusterSpec object at 0x7fd31edb3588>, '_task_type': 'worker', '_task_id': 0, '_master': '', '_is_chief': True, '_num_ps_replicas': 0, '_num_worker_replicas': 1}\n"
     ]
    }
   ],
   "source": [
    "feature_columns = [tf.feature_column.numeric_column('x', shape=[4])]\n",
    "\n",
    "classifier = tf.estimator.DNNClassifier(feature_columns=feature_columns,\n",
    "                                       hidden_units=[10,20,10],\n",
    "                                       n_classes=3,\n",
    "                                       model_dir='output/iris_model')"
   ]
  },
  {
   "cell_type": "code",
   "execution_count": 10,
   "metadata": {
    "collapsed": true
   },
   "outputs": [],
   "source": [
    "train_input_fn = tf.estimator.inputs.numpy_input_fn(\n",
    "    x={'x':np.array(training_set.data)},\n",
    "    y=np.array(training_set.target),\n",
    "    num_epochs=None,\n",
    "    shuffle=True\n",
    ")"
   ]
  },
  {
   "cell_type": "code",
   "execution_count": 11,
   "metadata": {},
   "outputs": [
    {
     "name": "stdout",
     "output_type": "stream",
     "text": [
      "INFO:tensorflow:Create CheckpointSaverHook.\n",
      "INFO:tensorflow:Saving checkpoints for 1 into output/iris_model/model.ckpt.\n",
      "INFO:tensorflow:loss = 201.708, step = 1\n",
      "INFO:tensorflow:global_step/sec: 568.342\n",
      "INFO:tensorflow:loss = 11.9646, step = 101 (0.177 sec)\n",
      "INFO:tensorflow:global_step/sec: 621.736\n",
      "INFO:tensorflow:loss = 11.1204, step = 201 (0.161 sec)\n",
      "INFO:tensorflow:global_step/sec: 626.392\n",
      "INFO:tensorflow:loss = 8.63682, step = 301 (0.160 sec)\n",
      "INFO:tensorflow:global_step/sec: 634.321\n",
      "INFO:tensorflow:loss = 13.6762, step = 401 (0.158 sec)\n",
      "INFO:tensorflow:global_step/sec: 636.269\n",
      "INFO:tensorflow:loss = 8.18977, step = 501 (0.157 sec)\n",
      "INFO:tensorflow:global_step/sec: 610.415\n",
      "INFO:tensorflow:loss = 6.46853, step = 601 (0.164 sec)\n",
      "INFO:tensorflow:global_step/sec: 636.763\n",
      "INFO:tensorflow:loss = 7.06398, step = 701 (0.157 sec)\n",
      "INFO:tensorflow:global_step/sec: 618.046\n",
      "INFO:tensorflow:loss = 8.74011, step = 801 (0.162 sec)\n",
      "INFO:tensorflow:global_step/sec: 638.735\n",
      "INFO:tensorflow:loss = 3.6415, step = 901 (0.157 sec)\n",
      "INFO:tensorflow:global_step/sec: 623.157\n",
      "INFO:tensorflow:loss = 4.38921, step = 1001 (0.161 sec)\n",
      "INFO:tensorflow:global_step/sec: 628.299\n",
      "INFO:tensorflow:loss = 14.8457, step = 1101 (0.159 sec)\n",
      "INFO:tensorflow:global_step/sec: 623.766\n",
      "INFO:tensorflow:loss = 8.31737, step = 1201 (0.160 sec)\n",
      "INFO:tensorflow:global_step/sec: 625.095\n",
      "INFO:tensorflow:loss = 6.52913, step = 1301 (0.160 sec)\n",
      "INFO:tensorflow:global_step/sec: 620.665\n",
      "INFO:tensorflow:loss = 7.56102, step = 1401 (0.162 sec)\n",
      "INFO:tensorflow:global_step/sec: 609.706\n",
      "INFO:tensorflow:loss = 8.57825, step = 1501 (0.164 sec)\n",
      "INFO:tensorflow:global_step/sec: 557.549\n",
      "INFO:tensorflow:loss = 11.8474, step = 1601 (0.180 sec)\n",
      "INFO:tensorflow:global_step/sec: 559.517\n",
      "INFO:tensorflow:loss = 4.58696, step = 1701 (0.178 sec)\n",
      "INFO:tensorflow:global_step/sec: 617.949\n",
      "INFO:tensorflow:loss = 9.0297, step = 1801 (0.162 sec)\n",
      "INFO:tensorflow:global_step/sec: 530.17\n",
      "INFO:tensorflow:loss = 5.77447, step = 1901 (0.189 sec)\n",
      "INFO:tensorflow:Saving checkpoints for 2000 into output/iris_model/model.ckpt.\n",
      "INFO:tensorflow:Loss for final step: 7.968.\n"
     ]
    },
    {
     "data": {
      "text/plain": [
       "<tensorflow.python.estimator.canned.dnn.DNNClassifier at 0x7fd31edb30b8>"
      ]
     },
     "execution_count": 11,
     "metadata": {},
     "output_type": "execute_result"
    }
   ],
   "source": [
    "classifier.train(input_fn=train_input_fn, steps=2000)"
   ]
  },
  {
   "cell_type": "code",
   "execution_count": 12,
   "metadata": {},
   "outputs": [
    {
     "name": "stdout",
     "output_type": "stream",
     "text": [
      "INFO:tensorflow:Create CheckpointSaverHook.\n",
      "INFO:tensorflow:Restoring parameters from output/iris_model/model.ckpt-2000\n",
      "INFO:tensorflow:Saving checkpoints for 2001 into output/iris_model/model.ckpt.\n",
      "INFO:tensorflow:loss = 8.34046, step = 2001\n",
      "INFO:tensorflow:global_step/sec: 552.061\n",
      "INFO:tensorflow:loss = 8.03179, step = 2101 (0.182 sec)\n",
      "INFO:tensorflow:global_step/sec: 609.044\n",
      "INFO:tensorflow:loss = 11.062, step = 2201 (0.164 sec)\n",
      "INFO:tensorflow:global_step/sec: 615.819\n",
      "INFO:tensorflow:loss = 6.59396, step = 2301 (0.162 sec)\n",
      "INFO:tensorflow:global_step/sec: 644.025\n",
      "INFO:tensorflow:loss = 2.78558, step = 2401 (0.155 sec)\n",
      "INFO:tensorflow:global_step/sec: 617.206\n",
      "INFO:tensorflow:loss = 2.65614, step = 2501 (0.162 sec)\n",
      "INFO:tensorflow:global_step/sec: 620.459\n",
      "INFO:tensorflow:loss = 3.418, step = 2601 (0.161 sec)\n",
      "INFO:tensorflow:global_step/sec: 627.872\n",
      "INFO:tensorflow:loss = 7.83943, step = 2701 (0.159 sec)\n",
      "INFO:tensorflow:global_step/sec: 629.243\n",
      "INFO:tensorflow:loss = 6.91227, step = 2801 (0.159 sec)\n",
      "INFO:tensorflow:global_step/sec: 621.866\n",
      "INFO:tensorflow:loss = 3.2543, step = 2901 (0.161 sec)\n",
      "INFO:tensorflow:global_step/sec: 619.796\n",
      "INFO:tensorflow:loss = 4.81046, step = 3001 (0.161 sec)\n",
      "INFO:tensorflow:global_step/sec: 650.664\n",
      "INFO:tensorflow:loss = 4.82611, step = 3101 (0.154 sec)\n",
      "INFO:tensorflow:global_step/sec: 625.555\n",
      "INFO:tensorflow:loss = 3.31075, step = 3201 (0.161 sec)\n",
      "INFO:tensorflow:global_step/sec: 587.385\n",
      "INFO:tensorflow:loss = 10.0266, step = 3301 (0.169 sec)\n",
      "INFO:tensorflow:global_step/sec: 559.29\n",
      "INFO:tensorflow:loss = 3.61362, step = 3401 (0.179 sec)\n",
      "INFO:tensorflow:global_step/sec: 515.513\n",
      "INFO:tensorflow:loss = 5.09372, step = 3501 (0.194 sec)\n",
      "INFO:tensorflow:global_step/sec: 609.356\n",
      "INFO:tensorflow:loss = 2.56542, step = 3601 (0.164 sec)\n",
      "INFO:tensorflow:global_step/sec: 525.503\n",
      "INFO:tensorflow:loss = 1.28138, step = 3701 (0.190 sec)\n",
      "INFO:tensorflow:global_step/sec: 539.107\n",
      "INFO:tensorflow:loss = 5.40264, step = 3801 (0.185 sec)\n",
      "INFO:tensorflow:global_step/sec: 629.157\n",
      "INFO:tensorflow:loss = 1.95086, step = 3901 (0.159 sec)\n",
      "INFO:tensorflow:Saving checkpoints for 4000 into output/iris_model/model.ckpt.\n",
      "INFO:tensorflow:Loss for final step: 8.0068.\n",
      "INFO:tensorflow:Create CheckpointSaverHook.\n",
      "INFO:tensorflow:Restoring parameters from output/iris_model/model.ckpt-4000\n",
      "INFO:tensorflow:Saving checkpoints for 4001 into output/iris_model/model.ckpt.\n",
      "INFO:tensorflow:loss = 7.27892, step = 4001\n",
      "INFO:tensorflow:global_step/sec: 556.975\n",
      "INFO:tensorflow:loss = 6.98265, step = 4101 (0.180 sec)\n",
      "INFO:tensorflow:global_step/sec: 552.373\n",
      "INFO:tensorflow:loss = 4.3331, step = 4201 (0.181 sec)\n",
      "INFO:tensorflow:global_step/sec: 553.78\n",
      "INFO:tensorflow:loss = 1.88018, step = 4301 (0.182 sec)\n",
      "INFO:tensorflow:global_step/sec: 593.38\n",
      "INFO:tensorflow:loss = 3.79877, step = 4401 (0.168 sec)\n",
      "INFO:tensorflow:global_step/sec: 521.186\n",
      "INFO:tensorflow:loss = 5.238, step = 4501 (0.191 sec)\n",
      "INFO:tensorflow:global_step/sec: 601.941\n",
      "INFO:tensorflow:loss = 9.00912, step = 4601 (0.166 sec)\n",
      "INFO:tensorflow:global_step/sec: 636.198\n",
      "INFO:tensorflow:loss = 5.76758, step = 4701 (0.157 sec)\n",
      "INFO:tensorflow:global_step/sec: 621.157\n",
      "INFO:tensorflow:loss = 6.4509, step = 4801 (0.161 sec)\n",
      "INFO:tensorflow:global_step/sec: 579.305\n",
      "INFO:tensorflow:loss = 6.2815, step = 4901 (0.172 sec)\n",
      "INFO:tensorflow:global_step/sec: 622.907\n",
      "INFO:tensorflow:loss = 1.33945, step = 5001 (0.161 sec)\n",
      "INFO:tensorflow:global_step/sec: 624.599\n",
      "INFO:tensorflow:loss = 4.28276, step = 5101 (0.160 sec)\n",
      "INFO:tensorflow:global_step/sec: 617.218\n",
      "INFO:tensorflow:loss = 5.48439, step = 5201 (0.162 sec)\n",
      "INFO:tensorflow:global_step/sec: 618.853\n",
      "INFO:tensorflow:loss = 4.71123, step = 5301 (0.161 sec)\n",
      "INFO:tensorflow:global_step/sec: 638.958\n",
      "INFO:tensorflow:loss = 5.31638, step = 5401 (0.157 sec)\n",
      "INFO:tensorflow:global_step/sec: 626.513\n",
      "INFO:tensorflow:loss = 9.75672, step = 5501 (0.160 sec)\n",
      "INFO:tensorflow:global_step/sec: 622.932\n",
      "INFO:tensorflow:loss = 5.307, step = 5601 (0.162 sec)\n",
      "INFO:tensorflow:global_step/sec: 622.562\n",
      "INFO:tensorflow:loss = 3.47727, step = 5701 (0.160 sec)\n",
      "INFO:tensorflow:global_step/sec: 629.161\n",
      "INFO:tensorflow:loss = 5.15855, step = 5801 (0.159 sec)\n",
      "INFO:tensorflow:global_step/sec: 603.692\n",
      "INFO:tensorflow:loss = 4.77999, step = 5901 (0.166 sec)\n",
      "INFO:tensorflow:Saving checkpoints for 6000 into output/iris_model/model.ckpt.\n",
      "INFO:tensorflow:Loss for final step: 5.07634.\n"
     ]
    },
    {
     "data": {
      "text/plain": [
       "<tensorflow.python.estimator.canned.dnn.DNNClassifier at 0x7fd31edb30b8>"
      ]
     },
     "execution_count": 12,
     "metadata": {},
     "output_type": "execute_result"
    }
   ],
   "source": [
    "classifier.train(input_fn=train_input_fn, steps=2000)\n",
    "classifier.train(input_fn=train_input_fn, steps=2000)"
   ]
  },
  {
   "cell_type": "code",
   "execution_count": 14,
   "metadata": {},
   "outputs": [
    {
     "name": "stdout",
     "output_type": "stream",
     "text": [
      "INFO:tensorflow:Starting evaluation at 2017-11-08-23:35:25\n",
      "INFO:tensorflow:Restoring parameters from output/iris_model/model.ckpt-6000\n",
      "INFO:tensorflow:Finished evaluation at 2017-11-08-23:35:25\n",
      "INFO:tensorflow:Saving dict for global step 6000: accuracy = 0.966667, average_loss = 0.0655332, global_step = 6000, loss = 1.966\n",
      "\n",
      "Test Accuracy: 0.966667\n",
      "\n"
     ]
    }
   ],
   "source": [
    "test_input_fn = tf.estimator.inputs.numpy_input_fn(\n",
    "    x={'x':np.array(test_set.data)},\n",
    "    y=np.array(test_set.target),\n",
    "    num_epochs=1,\n",
    "    shuffle=False\n",
    ")\n",
    "\n",
    "accuracy_score = classifier.evaluate(input_fn=test_input_fn)['accuracy']\n",
    "print('\\nTest Accuracy: {0:f}\\n'.format(accuracy_score))"
   ]
  },
  {
   "cell_type": "code",
   "execution_count": 18,
   "metadata": {},
   "outputs": [
    {
     "name": "stdout",
     "output_type": "stream",
     "text": [
      "INFO:tensorflow:Restoring parameters from output/iris_model/model.ckpt-6000\n",
      "New Samples, Class Predictions: [\"[b'1']\", \"[b'2']\"]\n",
      "\n"
     ]
    }
   ],
   "source": [
    "new_samples = np.array(\n",
    "    [[6.4,3.2,4.5,1.5],\n",
    "    [5.8,3.1,5.0,1.7]], \n",
    "    dtype=np.float32\n",
    ")\n",
    "predict_input_fn = tf.estimator.inputs.numpy_input_fn(\n",
    "    x={'x':new_samples},\n",
    "    num_epochs=1,\n",
    "    shuffle=False\n",
    ")\n",
    "\n",
    "predictions = list(classifier.predict(input_fn=predict_input_fn))\n",
    "predicted_classes = [str(p['classes']) for p in predictions]\n",
    "\n",
    "print('New Samples, Class Predictions: {}\\n'.format(predicted_classes))"
   ]
  },
  {
   "cell_type": "code",
   "execution_count": null,
   "metadata": {
    "collapsed": true
   },
   "outputs": [],
   "source": []
  }
 ],
 "metadata": {
  "kernelspec": {
   "display_name": "Python 3",
   "language": "python",
   "name": "python3"
  },
  "language_info": {
   "codemirror_mode": {
    "name": "ipython",
    "version": 3
   },
   "file_extension": ".py",
   "mimetype": "text/x-python",
   "name": "python",
   "nbconvert_exporter": "python",
   "pygments_lexer": "ipython3",
   "version": "3.6.2"
  }
 },
 "nbformat": 4,
 "nbformat_minor": 2
}

{
 "cells": [
  {
   "cell_type": "markdown",
   "metadata": {},
   "source": [
    "# This code based on these codes.\n",
    "https://www.kaggle.com/francksylla/titanic/titanic-machine-learning-from-disaster/code\n"
   ]
  },
  {
   "cell_type": "code",
   "execution_count": 2,
   "metadata": {
    "collapsed": false
   },
   "outputs": [
    {
     "data": {
      "text/html": [
       "<div>\n",
       "<table border=\"1\" class=\"dataframe\">\n",
       "  <thead>\n",
       "    <tr style=\"text-align: right;\">\n",
       "      <th></th>\n",
       "      <th>Age</th>\n",
       "      <th>Cabin</th>\n",
       "      <th>Embarked</th>\n",
       "      <th>Fare</th>\n",
       "      <th>Name</th>\n",
       "      <th>Parch</th>\n",
       "      <th>PassengerId</th>\n",
       "      <th>Pclass</th>\n",
       "      <th>Sex</th>\n",
       "      <th>SibSp</th>\n",
       "      <th>Survived</th>\n",
       "      <th>Ticket</th>\n",
       "    </tr>\n",
       "  </thead>\n",
       "  <tbody>\n",
       "    <tr>\n",
       "      <th>0</th>\n",
       "      <td>22.0</td>\n",
       "      <td>NaN</td>\n",
       "      <td>S</td>\n",
       "      <td>7.2500</td>\n",
       "      <td>Braund, Mr. Owen Harris</td>\n",
       "      <td>0</td>\n",
       "      <td>1</td>\n",
       "      <td>3</td>\n",
       "      <td>male</td>\n",
       "      <td>1</td>\n",
       "      <td>0.0</td>\n",
       "      <td>A/5 21171</td>\n",
       "    </tr>\n",
       "    <tr>\n",
       "      <th>1</th>\n",
       "      <td>38.0</td>\n",
       "      <td>C85</td>\n",
       "      <td>C</td>\n",
       "      <td>71.2833</td>\n",
       "      <td>Cumings, Mrs. John Bradley (Florence Briggs Th...</td>\n",
       "      <td>0</td>\n",
       "      <td>2</td>\n",
       "      <td>1</td>\n",
       "      <td>female</td>\n",
       "      <td>1</td>\n",
       "      <td>1.0</td>\n",
       "      <td>PC 17599</td>\n",
       "    </tr>\n",
       "    <tr>\n",
       "      <th>2</th>\n",
       "      <td>26.0</td>\n",
       "      <td>NaN</td>\n",
       "      <td>S</td>\n",
       "      <td>7.9250</td>\n",
       "      <td>Heikkinen, Miss. Laina</td>\n",
       "      <td>0</td>\n",
       "      <td>3</td>\n",
       "      <td>3</td>\n",
       "      <td>female</td>\n",
       "      <td>0</td>\n",
       "      <td>1.0</td>\n",
       "      <td>STON/O2. 3101282</td>\n",
       "    </tr>\n",
       "    <tr>\n",
       "      <th>3</th>\n",
       "      <td>35.0</td>\n",
       "      <td>C123</td>\n",
       "      <td>S</td>\n",
       "      <td>53.1000</td>\n",
       "      <td>Futrelle, Mrs. Jacques Heath (Lily May Peel)</td>\n",
       "      <td>0</td>\n",
       "      <td>4</td>\n",
       "      <td>1</td>\n",
       "      <td>female</td>\n",
       "      <td>1</td>\n",
       "      <td>1.0</td>\n",
       "      <td>113803</td>\n",
       "    </tr>\n",
       "    <tr>\n",
       "      <th>4</th>\n",
       "      <td>35.0</td>\n",
       "      <td>NaN</td>\n",
       "      <td>S</td>\n",
       "      <td>8.0500</td>\n",
       "      <td>Allen, Mr. William Henry</td>\n",
       "      <td>0</td>\n",
       "      <td>5</td>\n",
       "      <td>3</td>\n",
       "      <td>male</td>\n",
       "      <td>0</td>\n",
       "      <td>0.0</td>\n",
       "      <td>373450</td>\n",
       "    </tr>\n",
       "  </tbody>\n",
       "</table>\n",
       "</div>"
      ],
      "text/plain": [
       "    Age Cabin Embarked     Fare  \\\n",
       "0  22.0   NaN        S   7.2500   \n",
       "1  38.0   C85        C  71.2833   \n",
       "2  26.0   NaN        S   7.9250   \n",
       "3  35.0  C123        S  53.1000   \n",
       "4  35.0   NaN        S   8.0500   \n",
       "\n",
       "                                                Name  Parch  PassengerId  \\\n",
       "0                            Braund, Mr. Owen Harris      0            1   \n",
       "1  Cumings, Mrs. John Bradley (Florence Briggs Th...      0            2   \n",
       "2                             Heikkinen, Miss. Laina      0            3   \n",
       "3       Futrelle, Mrs. Jacques Heath (Lily May Peel)      0            4   \n",
       "4                           Allen, Mr. William Henry      0            5   \n",
       "\n",
       "   Pclass     Sex  SibSp  Survived            Ticket  \n",
       "0       3    male      1       0.0         A/5 21171  \n",
       "1       1  female      1       1.0          PC 17599  \n",
       "2       3  female      0       1.0  STON/O2. 3101282  \n",
       "3       1  female      1       1.0            113803  \n",
       "4       3    male      0       0.0            373450  "
      ]
     },
     "execution_count": 2,
     "metadata": {},
     "output_type": "execute_result"
    }
   ],
   "source": [
    "import pandas as pd\n",
    "import numpy as np\n",
    "import matplotlib.pyplot as plt\n",
    "%matplotlib inline\n",
    "\n",
    "train_input = pd.read_csv(\"../input/train.csv\", dtype={\"Age\": np.float64})\n",
    "test_input = pd.read_csv(\"../input/test.csv\", dtype={\"Age\": np.float64})\n",
    "\n",
    "df = pd.concat([train_input, test_input])\n",
    "df.head()"
   ]
  },
  {
   "cell_type": "code",
   "execution_count": 3,
   "metadata": {
    "collapsed": false
   },
   "outputs": [
    {
     "name": "stdout",
     "output_type": "stream",
     "text": [
      "[[<matplotlib.axes._subplots.AxesSubplot object at 0x05309450>\n",
      "  <matplotlib.axes._subplots.AxesSubplot object at 0x09458BD0>\n",
      "  <matplotlib.axes._subplots.AxesSubplot object at 0x09432530>]\n",
      " [<matplotlib.axes._subplots.AxesSubplot object at 0x094D6890>\n",
      "  <matplotlib.axes._subplots.AxesSubplot object at 0x095DCF10>\n",
      "  <matplotlib.axes._subplots.AxesSubplot object at 0x09614DD0>]\n",
      " [<matplotlib.axes._subplots.AxesSubplot object at 0x096A4470>\n",
      "  <matplotlib.axes._subplots.AxesSubplot object at 0x09623ED0>\n",
      "  <matplotlib.axes._subplots.AxesSubplot object at 0x09767290>]]\n"
     ]
    },
    {
     "data": {
      "image/png": "[encoded data removed]",
      "text/plain": [
       "<matplotlib.figure.Figure at 0x5309090>"
      ]
     },
     "metadata": {},
     "output_type": "display_data"
    }
   ],
   "source": [
    "print(df.hist())"
   ]
  },
  {
   "cell_type": "code",
   "execution_count": 4,
   "metadata": {
    "collapsed": true
   },
   "outputs": [],
   "source": [
    "categorical_columns = ['Sex', 'Embarked']\n",
    "numerical_columns = ['Pclass', 'Age', 'SibSp', 'Parch', 'Fare']\n",
    "text_columns = ['Name', 'Ticket']\n",
    "\n",
    "def category_to_numeric(df, column_name):\n",
    "    for category in df[column_name].unique():\n",
    "        category_column = column_name + '_' + str(category)\n",
    "        if category_column in df.columns:\n",
    "            df = df.drop(category_column, axis=1)\n",
    "        if category_column not in numerical_columns:\n",
    "            numerical_columns.append(category_column)\n",
    "    df= pd.concat([df,pd.get_dummies(df[column_name], prefix=column_name)],axis=1)\n",
    "    return df"
   ]
  },
  {
   "cell_type": "code",
   "execution_count": 5,
   "metadata": {
    "collapsed": false
   },
   "outputs": [
    {
     "name": "stdout",
     "output_type": "stream",
     "text": [
      "[[<matplotlib.axes._subplots.AxesSubplot object at 0x09F6EDB0>\n",
      "  <matplotlib.axes._subplots.AxesSubplot object at 0x0A0750F0>\n",
      "  <matplotlib.axes._subplots.AxesSubplot object at 0x0A1D4850>]\n",
      " [<matplotlib.axes._subplots.AxesSubplot object at 0x0A208AD0>\n",
      "  <matplotlib.axes._subplots.AxesSubplot object at 0x0A255250>\n",
      "  <matplotlib.axes._subplots.AxesSubplot object at 0x0A2176B0>]\n",
      " [<matplotlib.axes._subplots.AxesSubplot object at 0x0A3550F0>\n",
      "  <matplotlib.axes._subplots.AxesSubplot object at 0x0A3D4770>\n",
      "  <matplotlib.axes._subplots.AxesSubplot object at 0x0A408A50>]]\n"
     ]
    },
    {
     "data": {
      "image/png": "[encoded data removed]",
      "text/plain": [
       "<matplotlib.figure.Figure at 0x9f75890>"
      ]
     },
     "metadata": {},
     "output_type": "display_data"
    }
   ],
   "source": [
    "print(df.hist())"
   ]
  },
  {
   "cell_type": "code",
   "execution_count": 6,
   "metadata": {
    "collapsed": false
   },
   "outputs": [
    {
     "data": {
      "text/plain": [
       "<seaborn.axisgrid.FacetGrid at 0xa8eb990>"
      ]
     },
     "execution_count": 6,
     "metadata": {},
     "output_type": "execute_result"
    },
    {
     "data": {
      "image/png": "[encoded data removed]",
      "text/plain": [
       "<matplotlib.figure.Figure at 0xa8f9d90>"
      ]
     },
     "metadata": {},
     "output_type": "display_data"
    }
   ],
   "source": [
    "# Sex\n",
    "import seaborn as sns\n",
    "sns.set(style=\"whitegrid\")\n",
    "\n",
    "g = sns.factorplot(x=\"Sex\", y=\"Survived\", data=df, size=4, kind=\"bar\", palette=\"muted\")\n",
    "g.despine(left=True)\n",
    "g.set_ylabels(\"survival probability\")"
   ]
  },
  {
   "cell_type": "code",
   "execution_count": 7,
   "metadata": {
    "collapsed": false
   },
   "outputs": [
    {
     "data": {
      "image/png": "[encoded data removed]",
      "text/plain": [
       "<matplotlib.figure.Figure at 0xa4f9470>"
      ]
     },
     "metadata": {},
     "output_type": "display_data"
    }
   ],
   "source": [
    "# Embarked\n",
    "df['Embarked'] = df['Embarked'].fillna('unknown')\n",
    "g = sns.factorplot(x=\"Embarked\", y=\"Survived\", data=df, size=4, kind=\"bar\", palette=\"muted\")\n",
    "g.despine(left=True)\n",
    "g.set_ylabels(\"survival probability\")\n",
    "\n",
    "if 'Embarked' not in categorical_columns:\n",
    "    categorical_columns.append('Embarked')"
   ]
  },
  {
   "cell_type": "code",
   "execution_count": 8,
   "metadata": {
    "collapsed": false
   },
   "outputs": [
    {
     "name": "stdout",
     "output_type": "stream",
     "text": [
      "['Mr' 'Mrs' 'Miss' 'Master' 'Don' 'Rev' 'Dr' 'Mme' 'Ms' 'Major' 'Lady'\n",
      " 'Sir' 'Mlle' 'Col' 'Capt' 'Countess' 'Jonkheer' 'Dona']\n"
     ]
    }
   ],
   "source": [
    "# title\n",
    "import re\n",
    "df['Name_title'] = df['Name'].apply(lambda x: re.search(' ([A-Za-z]+)\\.', x).group(1))\n",
    "print(df['Name_title'].unique())\n",
    "if 'Name_title' not in categorical_columns:\n",
    "    categorical_columns.append('Name_title')"
   ]
  },
  {
   "cell_type": "code",
   "execution_count": 9,
   "metadata": {
    "collapsed": false
   },
   "outputs": [
    {
     "name": "stdout",
     "output_type": "stream",
     "text": [
      "[[<matplotlib.axes._subplots.AxesSubplot object at 0x0AC2D910>\n",
      "  <matplotlib.axes._subplots.AxesSubplot object at 0x0ACAE8B0>]\n",
      " [<matplotlib.axes._subplots.AxesSubplot object at 0x13A73390>\n",
      "  <matplotlib.axes._subplots.AxesSubplot object at 0x13AA5430>]]\n"
     ]
    },
    {
     "data": {
      "image/png": "[encoded data removed]",
      "text/plain": [
       "<matplotlib.figure.Figure at 0xac2d5f0>"
      ]
     },
     "metadata": {},
     "output_type": "display_data"
    }
   ],
   "source": [
    "# FamilySize\n",
    "df['FamilySize'] = df['SibSp'] + df['Parch']\n",
    "if 'FamilySize' not in numerical_columns:\n",
    "    numerical_columns.append('FamilySize')\n",
    "print(df[['SibSp', 'Parch', 'FamilySize']].hist())"
   ]
  },
  {
   "cell_type": "code",
   "execution_count": 10,
   "metadata": {
    "collapsed": false
   },
   "outputs": [
    {
     "data": {
      "text/plain": [
       "<seaborn.axisgrid.FacetGrid at 0x13b173f0>"
      ]
     },
     "execution_count": 10,
     "metadata": {},
     "output_type": "execute_result"
    },
    {
     "data": {
      "image/png": "[encoded data removed]",
      "text/plain": [
       "<matplotlib.figure.Figure at 0x13b179f0>"
      ]
     },
     "metadata": {},
     "output_type": "display_data"
    }
   ],
   "source": [
    "# Name Length?\n",
    "df['NameLength'] = df[\"Name\"].apply(lambda x: len(x))\n",
    "if 'NameLength' not in numerical_columns:\n",
    "    numerical_columns.append('NameLength')\n",
    "g = sns.factorplot(x=\"NameLength\", y=\"Survived\", data=df, size=4, kind=\"bar\", palette=\"muted\")\n",
    "g.despine(left=True)\n",
    "g.set_ylabels(\"survival probability\")"
   ]
  },
  {
   "cell_type": "code",
   "execution_count": 11,
   "metadata": {
    "collapsed": false
   },
   "outputs": [
    {
     "data": {
      "image/png": "[encoded data removed]",
      "text/plain": [
       "<matplotlib.figure.Figure at 0xacbaf90>"
      ]
     },
     "metadata": {},
     "output_type": "display_data"
    }
   ],
   "source": [
    "g = sns.factorplot(x=\"Pclass\", y=\"Survived\", data=df, size=4, kind=\"bar\", palette=\"muted\")"
   ]
  },
  {
   "cell_type": "code",
   "execution_count": 12,
   "metadata": {
    "collapsed": false
   },
   "outputs": [
    {
     "name": "stdout",
     "output_type": "stream",
     "text": [
      "count    1309.000000\n",
      "mean       33.295479\n",
      "std        51.738879\n",
      "min         0.000000\n",
      "25%         7.895800\n",
      "50%        14.454200\n",
      "75%        31.275000\n",
      "max       512.329200\n",
      "Name: Fare, dtype: float64\n",
      "Axes(0.125,0.125;0.775x0.775)\n"
     ]
    },
    {
     "data": {
      "image/png": "[encoded data removed]",
      "text/plain": [
       "<matplotlib.figure.Figure at 0x95f6990>"
      ]
     },
     "metadata": {},
     "output_type": "display_data"
    }
   ],
   "source": [
    "# Fare\n",
    "df['Fare'] = df['Fare'].fillna(df['Fare'].mean())\n",
    "print(df['Fare'].describe())\n",
    "print(df['Fare'].hist())"
   ]
  },
  {
   "cell_type": "code",
   "execution_count": 13,
   "metadata": {
    "collapsed": false
   },
   "outputs": [
    {
     "name": "stdout",
     "output_type": "stream",
     "text": [
      "[nan 'C85' 'C123' 'E46' 'G6' 'C103' 'D56' 'A6' 'C23 C25 C27' 'B78' 'D33'\n",
      " 'B30' 'C52' 'B28' 'C83' 'F33' 'F G73' 'E31' 'A5' 'D10 D12' 'D26' 'C110'\n",
      " 'B58 B60' 'E101' 'F E69' 'D47' 'B86' 'F2' 'C2' 'E33' 'B19' 'A7' 'C49' 'F4'\n",
      " 'A32' 'B4' 'B80' 'A31' 'D36' 'D15' 'C93' 'C78' 'D35' 'C87' 'B77' 'E67'\n",
      " 'B94' 'C125' 'C99' 'C118' 'D7' 'A19' 'B49' 'D' 'C22 C26' 'C106' 'C65'\n",
      " 'E36' 'C54' 'B57 B59 B63 B66' 'C7' 'E34' 'C32' 'B18' 'C124' 'C91' 'E40'\n",
      " 'T' 'C128' 'D37' 'B35' 'E50' 'C82' 'B96 B98' 'E10' 'E44' 'A34' 'C104'\n",
      " 'C111' 'C92' 'E38' 'D21' 'E12' 'E63' 'A14' 'B37' 'C30' 'D20' 'B79' 'E25'\n",
      " 'D46' 'B73' 'C95' 'B38' 'B39' 'B22' 'C86' 'C70' 'A16' 'C101' 'C68' 'A10'\n",
      " 'E68' 'B41' 'A20' 'D19' 'D50' 'D9' 'A23' 'B50' 'A26' 'D48' 'E58' 'C126'\n",
      " 'B71' 'B51 B53 B55' 'D49' 'B5' 'B20' 'F G63' 'C62 C64' 'E24' 'C90' 'C45'\n",
      " 'E8' 'B101' 'D45' 'C46' 'D30' 'E121' 'D11' 'E77' 'F38' 'B3' 'D6' 'B82 B84'\n",
      " 'D17' 'A36' 'B102' 'B69' 'E49' 'C47' 'D28' 'E17' 'A24' 'C50' 'B42' 'C148'\n",
      " 'B45' 'B36' 'A21' 'D34' 'A9' 'C31' 'B61' 'C53' 'D43' 'C130' 'C132'\n",
      " 'C55 C57' 'C116' 'F' 'A29' 'C6' 'C28' 'C51' 'C97' 'D22' 'B10' 'E45' 'E52'\n",
      " 'A11' 'B11' 'C80' 'C89' 'F E46' 'B26' 'F E57' 'A18' 'E60' 'E39 E41'\n",
      " 'B52 B54 B56' 'C39' 'B24' 'D40' 'D38' 'C105']\n"
     ]
    },
    {
     "data": {
      "image/png": "[encoded data removed]",
      "text/plain": [
       "<matplotlib.figure.Figure at 0x98a0970>"
      ]
     },
     "metadata": {},
     "output_type": "display_data"
    }
   ],
   "source": [
    "# cabin\n",
    "print(df['Cabin'].unique())\n",
    "\n",
    "# https://www.kaggle.com/c/titanic/prospector#1326\n",
    "def get_cabin_location(cabin):\n",
    "    # The cabin info consists of a letter (corresponding to a deck) \n",
    "    # and a cabin number, which is odd for cabins on the starboard side and even for the port.\n",
    "    cabin_search_result = re.search('\\d+', cabin)\n",
    "    if cabin_search_result:\n",
    "        type_code = np.int64(cabin_search_result.group(0))\n",
    "        if type_code % 2 == 0:\n",
    "            return 'port'\n",
    "        else:\n",
    "            return 'starboard'\n",
    "    return 'unknown'\n",
    "\n",
    "def get_cabin_deck(cabin):\n",
    "    # The cabin info consists of a letter (corresponding to a deck) \n",
    "    # and a cabin number, which is odd for cabins on the starboard side and even for the port.\n",
    "    cabin_search_result = re.search('[A-z]+', cabin)\n",
    "    if cabin_search_result:\n",
    "        return cabin_search_result.group(0)\n",
    "    return 'unknown'\n",
    "\n",
    "def get_cabin_count(cabin):\n",
    "    cabin_search_result = re.findall('([A-z]\\d+)', cabin)\n",
    "    if cabin_search_result:\n",
    "        return len(cabin_search_result)\n",
    "    return 0\n",
    "\n",
    "df['CabinLocation'] = df['Cabin'].fillna(' ').apply(get_cabin_location)\n",
    "df['CabinDeck'] = df['Cabin'].fillna(' ').apply(get_cabin_deck)\n",
    "df['CabinCount'] = df['Cabin'].fillna(' ').apply(get_cabin_count)\n",
    "\n",
    "g = sns.factorplot(x=\"CabinCount\", y=\"Survived\", data=df, size=4, kind=\"bar\", palette=\"muted\")\n",
    "\n",
    "if 'CabinLocation' not in categorical_columns:\n",
    "    categorical_columns.append('CabinLocation')\n",
    "if 'CabinDeck' not in categorical_columns:\n",
    "    categorical_columns.append('CabinDeck')\n",
    "if 'CabinCount' not in numerical_columns:\n",
    "    numerical_columns.append('CabinCount')"
   ]
  },
  {
   "cell_type": "code",
   "execution_count": 41,
   "metadata": {
    "collapsed": false
   },
   "outputs": [
    {
     "data": {
      "image/png": "[encoded data removed]",
      "text/plain": [
       "<matplotlib.figure.Figure at 0x16b6c690>"
      ]
     },
     "metadata": {},
     "output_type": "display_data"
    }
   ],
   "source": [
    "g = sns.countplot(y=\"Age\", hue=\"Survived\", data=df[(df['Sex'] == 'male') & (df['Survived'] == 1)])"
   ]
  },
  {
   "cell_type": "code",
   "execution_count": 46,
   "metadata": {
    "collapsed": false
   },
   "outputs": [
    {
     "name": "stdout",
     "output_type": "stream",
     "text": [
      "('< 10 : ', 19)\n",
      "('< 20 : ', 7)\n",
      "('< 30 : ', 25)\n",
      "('< 40 : ', 23)\n",
      "('< 50 : ', 12)\n",
      "('< 60 : ', 4)\n",
      "('< 70 : ', 2)\n",
      "('< 80 : ', 0)\n",
      "('> 80 : ', 1)\n"
     ]
    }
   ],
   "source": [
    "print(\"< 10 : \", len(df[(df['Sex'] == 'male') & (df['Age'] < 10) & (df['Survived'] == 1)]))\n",
    "print(\"< 20 : \", len(df[(df['Sex'] == 'male') & (df['Age'] >= 10) & (df['Age'] < 20) & (df['Survived'] == 1)]))\n",
    "print(\"< 30 : \", len(df[(df['Sex'] == 'male') & (df['Age'] >= 20) & (df['Age'] < 30) & (df['Survived'] == 1)]))\n",
    "print(\"< 40 : \", len(df[(df['Sex'] == 'male') & (df['Age'] >= 30) & (df['Age'] < 40) & (df['Survived'] == 1)]))\n",
    "print(\"< 50 : \", len(df[(df['Sex'] == 'male') & (df['Age'] >= 40) & (df['Age'] < 50) & (df['Survived'] == 1)]))\n",
    "print(\"< 60 : \", len(df[(df['Sex'] == 'male') & (df['Age'] >= 50) & (df['Age'] < 60) & (df['Survived'] == 1)]))\n",
    "print(\"< 70 : \", len(df[(df['Sex'] == 'male') & (df['Age'] >= 60) & (df['Age'] < 70) & (df['Survived'] == 1)]))\n",
    "print(\"< 80 : \", len(df[(df['Sex'] == 'male') & (df['Age'] >= 70) & (df['Age'] < 80) & (df['Survived'] == 1)]))\n",
    "print(\"> 80 : \", len(df[(df['Sex'] == 'male') & (df['Age'] >= 80) & (df['Survived'] == 1)]))"
   ]
  },
  {
   "cell_type": "code",
   "execution_count": 47,
   "metadata": {
    "collapsed": false
   },
   "outputs": [
    {
     "name": "stdout",
     "output_type": "stream",
     "text": [
      "('< 10 : ', 13)\n",
      "('< 20 : ', 50)\n",
      "('< 30 : ', 123)\n",
      "('< 40 : ', 84)\n",
      "('< 50 : ', 45)\n",
      "('< 60 : ', 26)\n",
      "('< 70 : ', 13)\n",
      "('< 80 : ', 6)\n",
      "('> 80 : ', 0)\n"
     ]
    }
   ],
   "source": [
    "print(\"< 10 : \", len(df[(df['Sex'] == 'male') & (df['Age'] < 10) & (df['Survived'] == 0)]))\n",
    "print(\"< 20 : \", len(df[(df['Sex'] == 'male') & (df['Age'] >= 10) & (df['Age'] < 20) & (df['Survived'] == 0)]))\n",
    "print(\"< 30 : \", len(df[(df['Sex'] == 'male') & (df['Age'] >= 20) & (df['Age'] < 30) & (df['Survived'] == 0)]))\n",
    "print(\"< 40 : \", len(df[(df['Sex'] == 'male') & (df['Age'] >= 30) & (df['Age'] < 40) & (df['Survived'] == 0)]))\n",
    "print(\"< 50 : \", len(df[(df['Sex'] == 'male') & (df['Age'] >= 40) & (df['Age'] < 50) & (df['Survived'] == 0)]))\n",
    "print(\"< 60 : \", len(df[(df['Sex'] == 'male') & (df['Age'] >= 50) & (df['Age'] < 60) & (df['Survived'] == 0)]))\n",
    "print(\"< 70 : \", len(df[(df['Sex'] == 'male') & (df['Age'] >= 60) & (df['Age'] < 70) & (df['Survived'] == 0)]))\n",
    "print(\"< 80 : \", len(df[(df['Sex'] == 'male') & (df['Age'] >= 70) & (df['Age'] < 80) & (df['Survived'] == 0)]))\n",
    "print(\"> 80 : \", len(df[(df['Sex'] == 'male') & (df['Age'] >= 80) & (df['Survived'] == 0)]))"
   ]
  },
  {
   "cell_type": "code",
   "execution_count": 42,
   "metadata": {
    "collapsed": false
   },
   "outputs": [
    {
     "data": {
      "image/png": "[encoded data removed]",
      "text/plain": [
       "<matplotlib.figure.Figure at 0xa1fdcd0>"
      ]
     },
     "metadata": {},
     "output_type": "display_data"
    }
   ],
   "source": [
    "g = sns.countplot(y=\"Age\", hue=\"Survived\", data=df[(df['Sex'] == 'female') & (df['Survived'] == 1)])"
   ]
  },
  {
   "cell_type": "code",
   "execution_count": 15,
   "metadata": {
    "collapsed": false
   },
   "outputs": [
    {
     "data": {
      "image/png": "[encoded data removed]",
      "text/plain": [
       "<matplotlib.figure.Figure at 0xa450350>"
      ]
     },
     "metadata": {},
     "output_type": "display_data"
    }
   ],
   "source": [
    "def get_sex_adult(row):\n",
    "    age, sex = row\n",
    "    if age < 18:\n",
    "        return 'child'\n",
    "    elif sex == 'female':\n",
    "        return 'female_adult'\n",
    "    else:\n",
    "        return 'male_adult'\n",
    "\n",
    "df['SexAdult'] = df[['Age', 'Sex']].apply(get_sex_adult, axis=1)\n",
    "g = sns.factorplot(x=\"SexAdult\", y=\"Survived\", data=df, size=8, palette=\"muted\")\n",
    "\n",
    "if 'SexAdult' not in categorical_columns:\n",
    "    categorical_columns.append('SexAdult')"
   ]
  },
  {
   "cell_type": "code",
   "execution_count": 16,
   "metadata": {
    "collapsed": false
   },
   "outputs": [
    {
     "data": {
      "image/png": "[encoded data removed]",
      "text/plain": [
       "<matplotlib.figure.Figure at 0xabea2b0>"
      ]
     },
     "metadata": {},
     "output_type": "display_data"
    }
   ],
   "source": [
    "# https://www.kaggle.com/c/titanic/forums/t/11127/do-ticket-numbers-mean-anything\n",
    "#print(df[\"Ticket\"])\n",
    "#print(df[\"Ticket\"].value_counts())\n",
    "\n",
    "def get_ticket_prefix(cabin):\n",
    "    # The cabin info consists of a letter (corresponding to a deck) \n",
    "    # and a cabin number, which is odd for cabins on the starboard side and even for the port.\n",
    "    cabin_search_result = re.search('[^\\d]+', cabin)\n",
    "    if cabin_search_result:\n",
    "        return cabin_search_result.group(0).replace('/', '').replace('.', '')\n",
    "    return 'unknown'\n",
    "\n",
    "df['TicketPrefix'] = df['Ticket'].apply(get_ticket_prefix)\n",
    "g = sns.factorplot(x=\"TicketPrefix\", y=\"Survived\", data=df, size=4, palette=\"muted\")\n",
    "\n",
    "if 'TicketPrefix' not in categorical_columns:\n",
    "    categorical_columns.append('TicketPrefix')"
   ]
  },
  {
   "cell_type": "code",
   "execution_count": 17,
   "metadata": {
    "collapsed": false
   },
   "outputs": [
    {
     "name": "stderr",
     "output_type": "stream",
     "text": [
      "c:\\develop\\python27\\lib\\site-packages\\ipykernel\\__main__.py:27: SettingWithCopyWarning: \n",
      "A value is trying to be set on a copy of a slice from a DataFrame\n",
      "\n",
      "See the caveats in the documentation: http://pandas.pydata.org/pandas-docs/stable/indexing.html#indexing-view-versus-copy\n"
     ]
    }
   ],
   "source": [
    "df_ticket = pd.DataFrame(df['Ticket'].value_counts())\n",
    "df_ticket.rename(columns={'Ticket':'TicketMembers'}, inplace=True)\n",
    "\n",
    "df_ticket['Ticket_perishing_women'] = df.Ticket[(df.SexAdult == 'female_adult')\n",
    "                                               & (df.Survived == 0.0)\n",
    "                                               & ((df.Parch > 0) | (df.SibSp > 0))].value_counts()\n",
    "df_ticket['Ticket_perishing_women'] = df_ticket['Ticket_perishing_women'].fillna(0)\n",
    "if 'Ticket_perishing_women' not in numerical_columns:\n",
    "    numerical_columns.append('Ticket_perishing_women')\n",
    "df_ticket['TicketGroup_include_perishing_women'] = df_ticket['Ticket_perishing_women'] > 0\n",
    "df_ticket['TicketGroup_include_perishing_women'] = df_ticket['TicketGroup_include_perishing_women'].astype(int)\n",
    "if 'TicketGroup_include_perishing_women' not in numerical_columns:\n",
    "    numerical_columns.append('TicketGroup_include_perishing_women')\n",
    "\n",
    "df_ticket['Ticket_surviving_men'] = df.Ticket[(df.SexAdult == 'male_adult')\n",
    "                                              & (df.Survived == 1.0)\n",
    "                                              & ((df.Parch > 0) | (df.SibSp > 0))].value_counts()\n",
    "df_ticket['Ticket_surviving_men'] = df_ticket['Ticket_surviving_men'].fillna(0)\n",
    "if 'Ticket_surviving_men' not in numerical_columns:\n",
    "    numerical_columns.append('Ticket_surviving_men')\n",
    "df_ticket['TicketGroup_include_surviving_men'] = df_ticket['Ticket_surviving_men'] > 0\n",
    "df_ticket['TicketGroup_include_surviving_men'] = df_ticket['TicketGroup_include_surviving_men'].astype(int)\n",
    "if 'TicketGroup_include_surviving_men' not in numerical_columns:\n",
    "    numerical_columns.append('TicketGroup_include_surviving_men')\n",
    "\n",
    "df_ticket[\"TicketId\"] = pd.Categorical.from_array(df_ticket.index).codes\n",
    "df_ticket[\"TicketId\"][df_ticket['TicketMembers'] < 3] = -1\n",
    "if 'TicketId' not in numerical_columns:\n",
    "    numerical_columns.append('TicketId')\n",
    "df_ticket[\"TicketMembers\"] = pd.cut(df_ticket['TicketMembers'], bins=[0,1,4,20], labels=[0,1,2])\n",
    "if 'TicketMembers' not in numerical_columns:\n",
    "    numerical_columns.append('TicketMembers')\n",
    "df = pd.merge(df, df_ticket, left_on=\"Ticket\", right_index=True, how='left', sort=False)"
   ]
  },
  {
   "cell_type": "code",
   "execution_count": 18,
   "metadata": {
    "collapsed": false
   },
   "outputs": [
    {
     "data": {
      "image/png": "[encoded data removed]",
      "text/plain": [
       "<matplotlib.figure.Figure at 0x13f43e30>"
      ]
     },
     "metadata": {},
     "output_type": "display_data"
    }
   ],
   "source": [
    "g = sns.factorplot(x=\"TicketGroup_include_perishing_women\", y=\"Survived\", data=df, size=4, palette=\"muted\")"
   ]
  },
  {
   "cell_type": "code",
   "execution_count": 19,
   "metadata": {
    "collapsed": false
   },
   "outputs": [
    {
     "data": {
      "image/png": "[encoded data removed]",
      "text/plain": [
       "<matplotlib.figure.Figure at 0xa5c0c70>"
      ]
     },
     "metadata": {},
     "output_type": "display_data"
    }
   ],
   "source": [
    "g = sns.factorplot(x=\"Ticket_surviving_men\", y=\"Survived\", data=df, size=4, palette=\"muted\")"
   ]
  },
  {
   "cell_type": "code",
   "execution_count": 20,
   "metadata": {
    "collapsed": false
   },
   "outputs": [
    {
     "name": "stderr",
     "output_type": "stream",
     "text": [
      "c:\\develop\\python27\\lib\\site-packages\\ipykernel\\__main__.py:21: SettingWithCopyWarning: \n",
      "A value is trying to be set on a copy of a slice from a DataFrame\n",
      "\n",
      "See the caveats in the documentation: http://pandas.pydata.org/pandas-docs/stable/indexing.html#indexing-view-versus-copy\n"
     ]
    }
   ],
   "source": [
    "# surname\n",
    "df['surname'] = df['Name'].apply(lambda x: x.split(',')[0].lower())\n",
    "df_surname = pd.DataFrame(df['surname'].value_counts())\n",
    "df_surname.rename(columns={'surname':'SurnameMembers'}, inplace=True)\n",
    "\n",
    "df_surname['Surname_perishing_women'] = df.surname[(df.SexAdult == 'female_adult')\n",
    "                                               & (df.Survived == 0.0)\n",
    "                                               & ((df.Parch > 0) | (df.SibSp > 0))].value_counts()\n",
    "df_surname['Surname_perishing_women'] = df_surname['Surname_perishing_women'].fillna(0)\n",
    "df_surname['SurnameGroup_include_perishing_women'] = df_surname['Surname_perishing_women'] > 0\n",
    "df_surname['SurnameGroup_include_perishing_women'] = df_surname['SurnameGroup_include_perishing_women'].astype(int)\n",
    "\n",
    "df_surname['Surname_surviving_men'] = df.surname[(df.SexAdult == 'male_adult')\n",
    "                                              & (df.Survived == 1.0)\n",
    "                                              & ((df.Parch > 0) | (df.SibSp > 0))].value_counts()\n",
    "df_surname['Surname_surviving_men'] = df_surname['Surname_surviving_men'].fillna(0)\n",
    "df_surname['SurnameGroup_include_surviving_men'] = df_surname['Surname_surviving_men'] > 0\n",
    "df_surname['SurnameGroup_include_surviving_men'] = df_surname['SurnameGroup_include_surviving_men'].astype(int)\n",
    "\n",
    "df_surname[\"SurnameId\"] = pd.Categorical.from_array(df_surname.index).codes\n",
    "df_surname[\"SurnameId\"][df_surname['SurnameMembers'] < 3] = -1\n",
    "df_surname[\"SurnameMembers\"] = pd.cut(df_surname['SurnameMembers'], bins=[0,1,4,20], labels=[0,1,2])\n",
    "df = pd.merge(df, df_surname, left_on=\"surname\", right_index=True, how='left', sort=False)\n",
    "\n",
    "\n",
    "if 'Surname_perishing_women' not in numerical_columns:\n",
    "    numerical_columns.append('Surname_perishing_women')\n",
    "if 'SurnameGroup_include_perishing_women' not in numerical_columns:\n",
    "    numerical_columns.append('SurnameGroup_include_perishing_women')\n",
    "if 'Surname_surviving_men' not in numerical_columns:\n",
    "    numerical_columns.append('Surname_surviving_men')\n",
    "if 'SurnameGroup_include_surviving_men' not in numerical_columns:\n",
    "    numerical_columns.append('SurnameGroup_include_surviving_men')\n",
    "if 'SurnameId' not in numerical_columns:\n",
    "    numerical_columns.append('SurnameId')\n",
    "if 'SurnameMembers' not in numerical_columns:\n",
    "    numerical_columns.append('SurnameMembers')"
   ]
  },
  {
   "cell_type": "code",
   "execution_count": 21,
   "metadata": {
    "collapsed": false
   },
   "outputs": [
    {
     "data": {
      "image/png": "[encoded data removed]",
      "text/plain": [
       "<matplotlib.figure.Figure at 0xa4f9e90>"
      ]
     },
     "metadata": {},
     "output_type": "display_data"
    }
   ],
   "source": [
    "g = sns.factorplot(x=\"SurnameGroup_include_perishing_women\", y=\"Survived\", data=df, size=4, palette=\"muted\")"
   ]
  },
  {
   "cell_type": "code",
   "execution_count": 22,
   "metadata": {
    "collapsed": false
   },
   "outputs": [
    {
     "data": {
      "image/png": "[encoded data removed]",
      "text/plain": [
       "<matplotlib.figure.Figure at 0x13abd770>"
      ]
     },
     "metadata": {},
     "output_type": "display_data"
    }
   ],
   "source": [
    "g = sns.factorplot(x=\"SurnameGroup_include_surviving_men\", y=\"Survived\", data=df, size=4, palette=\"muted\")"
   ]
  },
  {
   "cell_type": "code",
   "execution_count": 23,
   "metadata": {
    "collapsed": true
   },
   "outputs": [],
   "source": [
    "for col in categorical_columns:\n",
    "    df = category_to_numeric(df, col)"
   ]
  },
  {
   "cell_type": "code",
   "execution_count": 24,
   "metadata": {
    "collapsed": false
   },
   "outputs": [],
   "source": [
    "# age prediction\n",
    "from sklearn.ensemble import ExtraTreesRegressor\n",
    "\n",
    "age_prediction_features = ['Fare', 'Parch', 'Pclass', 'SibSp', 'Sex_female', 'Sex_male', 'FamilySize',\n",
    "                           'NameLength', 'TicketMembers', 'TicketId', \n",
    "                           'Embarked_S', 'Embarked_C', 'Embarked_Q', 'Embarked_unknown', \n",
    "                           'Name_title_Mr', 'Name_title_Mrs', 'Name_title_Miss', 'Name_title_Master', \n",
    "                           'Name_title_Don', 'Name_title_Rev', 'Name_title_Dr', 'Name_title_Mme', 'Name_title_Ms', \n",
    "                           'Name_title_Major', 'Name_title_Lady', 'Name_title_Sir', 'Name_title_Mlle', 'Name_title_Col', \n",
    "                           'Name_title_Capt', 'Name_title_Countess', 'Name_title_Jonkheer', \n",
    "                           'CabinLocation_unknown', 'CabinLocation_starboard', 'CabinLocation_port', 'CabinDeck_unknown', \n",
    "                           'CabinDeck_C', 'CabinDeck_E', 'CabinDeck_G', 'CabinDeck_D', 'CabinDeck_A', 'CabinDeck_B', 'CabinDeck_F', 'CabinDeck_T']\n",
    "age_prediction_tree_regressor = ExtraTreesRegressor(n_estimators=200)\n",
    "age_X_train = df[age_prediction_features][df['Age'].notnull()]\n",
    "age_Y_train = df['Age'][df['Age'].notnull()]\n",
    "age_prediction_tree_regressor.fit(age_X_train, np.ravel(age_Y_train))\n",
    "\n",
    "df['Age_pred'] = age_prediction_tree_regressor.predict(df[age_prediction_features])\n",
    "if 'Age_pred' not in numerical_columns:\n",
    "    numerical_columns.append('Age_pred')"
   ]
  },
  {
   "cell_type": "code",
   "execution_count": 25,
   "metadata": {
    "collapsed": false,
    "scrolled": true
   },
   "outputs": [
    {
     "name": "stdout",
     "output_type": "stream",
     "text": [
      "Features importance :\n",
      "nan TicketPrefix_A \n",
      "nan TicketPrefix_AQ\n",
      "nan TicketPrefix_STONOQ \n",
      "nan Name_title_Dona\n",
      "nan TicketPrefix_LP \n",
      "70.61 Name_title_Mr\n",
      "68.85 Sex_male\n",
      "68.85 Sex_female\n",
      "64.90 SexAdult_male_adult\n",
      "53.23 SexAdult_female_adult\n",
      "24.68 Name_title_Mrs\n",
      "24.60 Pclass\n",
      "23.69 NameLength\n",
      "22.94 Name_title_Miss\n",
      "21.51 CabinDeck_unknown\n",
      "21.46 CabinLocation_unknown\n",
      "17.23 CabinCount\n",
      "17.00 TicketGroup_include_surviving_men\n",
      "16.30 Ticket_surviving_men\n",
      "14.21 Fare\n",
      "13.54 TicketGroup_include_perishing_women\n",
      "13.22 CabinLocation_starboard\n",
      "13.04 SurnameGroup_include_surviving_men\n",
      "12.71 Surname_surviving_men\n",
      "10.83 Ticket_perishing_women\n",
      "10.36 SurnameGroup_include_perishing_women\n",
      "9.04 Surname_perishing_women\n",
      "6.84 CabinDeck_B\n",
      "6.73 CabinLocation_port\n",
      "6.36 Embarked_C\n",
      "5.52 Embarked_S\n",
      "5.27 TicketMembers\n",
      "5.21 CabinDeck_D\n",
      "4.98 TicketPrefix_PC \n",
      "4.88 CabinDeck_E\n",
      "3.59 SexAdult_child\n",
      "3.27 TicketPrefix_A\n",
      "3.22 CabinDeck_C\n",
      "1.96 Name_title_Master\n",
      "1.83 Parch\n",
      "1.35 TicketPrefix_SOTONOQ \n",
      "1.31 Age_pred\n",
      "1.28 Name_title_Rev\n",
      "1.26 TicketPrefix_FCC \n",
      "1.20 TicketPrefix_WC \n",
      "1.14 Name_title_Mlle\n",
      "1.14 Embarked_unknown\n",
      "1.14 TicketPrefix_SWPP \n",
      "1.08 CabinDeck_F\n",
      "1.07 TicketId\n",
      "0.77 TicketPrefix_SOPP \n",
      "0.73 SurnameMembers\n",
      "0.69 TicketPrefix_SC \n",
      "0.69 Name_title_Ms\n",
      "0.69 Name_title_Countess\n",
      "0.69 TicketPrefix_SCAH Basle \n",
      "0.69 Name_title_Sir\n",
      "0.69 Name_title_Lady\n",
      "0.69 Name_title_Mme\n",
      "0.58 TicketPrefix_SOTONO\n",
      "0.56 TicketPrefix_SOC \n",
      "0.53 SibSp\n",
      "0.50 TicketPrefix_PP \n",
      "0.37 TicketPrefix_SCOW \n",
      "0.37 TicketPrefix_SOP \n",
      "0.37 TicketPrefix_SP \n",
      "0.37 Name_title_Don\n",
      "0.37 CabinDeck_T\n",
      "0.37 TicketPrefix_AS \n",
      "0.37 Name_title_Capt\n",
      "0.37 Name_title_Jonkheer\n",
      "0.37 TicketPrefix_SCA\n",
      "0.37 TicketPrefix_CASOTON \n",
      "0.37 TicketPrefix_Fa \n",
      "0.37 TicketPrefix_FC \n",
      "0.30 CabinDeck_A\n",
      "0.25 TicketPrefix_STONO\n",
      "0.25 TicketPrefix_CA \n",
      "0.24 TicketPrefix_LINE\n",
      "0.21 FamilySize\n",
      "0.20 TicketPrefix_SCParis \n",
      "0.20 CabinDeck_G\n",
      "0.13 Name_title_Col\n",
      "0.13 TicketPrefix_PPP \n",
      "0.13 Name_title_Major\n",
      "0.13 TicketPrefix_SCAH \n",
      "0.12 Age\n",
      "0.09 TicketPrefix_SCPARIS \n",
      "0.09 Name_title_Dr\n",
      "0.09 TicketPrefix_STONO \n",
      "0.08 SurnameId\n",
      "0.07 TicketPrefix_WEP \n",
      "0.04 Embarked_Q\n",
      "0.03 TicketPrefix_C \n",
      "0.02 TicketPrefix_unknown\n"
     ]
    },
    {
     "name": "stderr",
     "output_type": "stream",
     "text": [
      "c:\\develop\\python27\\lib\\site-packages\\sklearn\\feature_selection\\univariate_selection.py:113: UserWarning: Features [43 90 91 92 93] are constant.\n",
      "  UserWarning)\n"
     ]
    }
   ],
   "source": [
    "# feature selection\n",
    "from sklearn.feature_selection import SelectKBest, f_classif\n",
    "\n",
    "train = df[0:891].fillna(0).copy()\n",
    "target = train[\"Survived\"].values\n",
    "\n",
    "selector = SelectKBest(f_classif, k=len(numerical_columns))\n",
    "selector.fit(train[numerical_columns], target)\n",
    "scores = -np.log10(selector.pvalues_)\n",
    "indices = np.argsort(scores)[::-1]\n",
    "print(\"Features importance :\")\n",
    "for f in range(len(scores)):\n",
    "    print(\"%0.2f %s\" % (scores[indices[f]],numerical_columns[indices[f]]))"
   ]
  },
  {
   "cell_type": "code",
   "execution_count": 26,
   "metadata": {
    "collapsed": false,
    "scrolled": true
   },
   "outputs": [
    {
     "name": "stdout",
     "output_type": "stream",
     "text": [
      "Accuracy: 89.562 (+/- 1.20) [Random Forest Cross Validation]\n",
      "Accuracy: 96.409             [Random Forest full test]\n",
      "1. feature 5 (6.578495) Fare\n",
      "2. feature 7 (6.572739) NameLength\n",
      "3. feature 95 (6.011925) Age_pred\n",
      "4. feature 21 (5.596466) Sex_male\n",
      "5. feature 22 (5.438139) Sex_female\n",
      "6. feature 27 (5.175430) Name_title_Mr\n",
      "7. feature 57 (4.516515) SexAdult_male_adult\n",
      "8. feature 2 (4.430184) Age\n",
      "9. feature 9 (3.918993) Ticket_perishing_women\n",
      "10. feature 10 (3.882417) TicketGroup_include_perishing_women\n",
      "11. feature 15 (3.782196) Surname_perishing_women\n",
      "12. feature 58 (3.695500) SexAdult_female_adult\n",
      "13. feature 16 (3.670579) SurnameGroup_include_perishing_women\n",
      "14. feature 1 (3.345550) Pclass\n",
      "15. feature 11 (2.448583) Ticket_surviving_men\n",
      "16. feature 12 (2.331743) TicketGroup_include_surviving_men\n",
      "17. feature 14 (2.272133) TicketMembers\n",
      "18. feature 6 (1.922403) FamilySize\n",
      "19. feature 29 (1.887787) Name_title_Miss\n",
      "20. feature 28 (1.860728) Name_title_Mrs\n",
      "21. feature 20 (1.445329) SurnameMembers\n",
      "22. feature 17 (1.399704) Surname_surviving_men\n",
      "23. feature 18 (1.280103) SurnameGroup_include_surviving_men\n",
      "24. feature 8 (1.187234) CabinCount\n",
      "25. feature 48 (1.171724) CabinDeck_unknown\n",
      "26. feature 19 (1.169590) SurnameId\n",
      "27. feature 45 (1.104976) CabinLocation_unknown\n",
      "28. feature 13 (1.095604) TicketId\n",
      "29. feature 3 (0.998768) SibSp\n",
      "30. feature 23 (0.789060) Embarked_S\n",
      "31. feature 4 (0.712221) Parch\n",
      "32. feature 59 (0.680538) SexAdult_child\n",
      "33. feature 63 (0.656252) TicketPrefix_unknown\n",
      "34. feature 46 (0.643368) CabinLocation_starboard\n",
      "35. feature 24 (0.624169) Embarked_C\n",
      "36. feature 30 (0.584730) Name_title_Master\n",
      "37. feature 80 (0.523945) TicketPrefix_SWPP \n",
      "38. feature 50 (0.499738) CabinDeck_E\n",
      "39. feature 25 (0.404923) Embarked_Q\n",
      "40. feature 47 (0.364772) CabinLocation_port\n",
      "41. feature 61 (0.319348) TicketPrefix_PC \n",
      "42. feature 52 (0.262835) CabinDeck_D\n",
      "43. feature 49 (0.262032) CabinDeck_C\n",
      "44. feature 54 (0.256452) CabinDeck_B\n",
      "45. feature 73 (0.252268) TicketPrefix_STONO \n",
      "46. feature 74 (0.190945) TicketPrefix_C \n",
      "47. feature 71 (0.175703) TicketPrefix_SOTONOQ \n",
      "48. feature 65 (0.163714) TicketPrefix_CA \n",
      "49. feature 87 (0.146144) TicketPrefix_SOPP \n",
      "50. feature 53 (0.125015) CabinDeck_A\n",
      "51. feature 62 (0.102951) TicketPrefix_STONO\n",
      "52. feature 33 (0.095407) Name_title_Dr\n",
      "53. feature 32 (0.091773) Name_title_Rev\n",
      "54. feature 70 (0.090631) TicketPrefix_WC \n",
      "55. feature 55 (0.090259) CabinDeck_F\n",
      "56. feature 60 (0.086492) TicketPrefix_A\n",
      "57. feature 75 (0.084685) TicketPrefix_SCPARIS \n",
      "58. feature 78 (0.074086) TicketPrefix_LINE\n",
      "59. feature 40 (0.071998) Name_title_Col\n",
      "60. feature 36 (0.071062) Name_title_Major\n",
      "61. feature 79 (0.055331) TicketPrefix_FCC \n",
      "62. feature 51 (0.048233) CabinDeck_G\n",
      "63. feature 69 (0.034559) TicketPrefix_SOC \n",
      "64. feature 35 (0.026932) Name_title_Ms\n",
      "65. feature 41 (0.020045) Name_title_Capt\n",
      "66. feature 72 (0.018107) TicketPrefix_WEP \n",
      "67. feature 83 (0.016152) TicketPrefix_SC \n",
      "68. feature 38 (0.009193) Name_title_Sir\n",
      "69. feature 56 (0.008430) CabinDeck_T\n",
      "70. feature 39 (0.007860) Name_title_Mlle\n",
      "71. feature 64 (0.007630) TicketPrefix_PP \n",
      "72. feature 66 (0.007567) TicketPrefix_SCParis \n",
      "73. feature 31 (0.007153) Name_title_Don\n",
      "74. feature 26 (0.006199) Embarked_unknown\n",
      "75. feature 86 (0.006188) TicketPrefix_SCAH Basle \n",
      "76. feature 43 (0.006008) Name_title_Jonkheer\n",
      "77. feature 88 (0.003750) TicketPrefix_FC \n",
      "78. feature 82 (0.002585) TicketPrefix_PPP \n",
      "79. feature 34 (0.002505) Name_title_Mme\n",
      "80. feature 68 (0.002375) TicketPrefix_SP \n",
      "81. feature 37 (0.002268) Name_title_Lady\n",
      "82. feature 42 (0.002187) Name_title_Countess\n",
      "83. feature 76 (0.001828) TicketPrefix_SOP \n",
      "84. feature 89 (0.001778) TicketPrefix_SOTONO\n",
      "85. feature 85 (0.001281) TicketPrefix_AS \n",
      "86. feature 81 (0.001238) TicketPrefix_SCOW \n",
      "87. feature 84 (0.001124) TicketPrefix_SCAH \n",
      "88. feature 90 (0.001102) TicketPrefix_CASOTON \n",
      "89. feature 67 (0.001075) TicketPrefix_SCA\n",
      "90. feature 77 (0.000262) TicketPrefix_Fa \n",
      "91. feature 91 (0.000000) TicketPrefix_STONOQ \n",
      "92. feature 44 (0.000000) Name_title_Dona\n",
      "93. feature 92 (0.000000) TicketPrefix_AQ\n",
      "94. feature 93 (0.000000) TicketPrefix_A \n",
      "95. feature 94 (0.000000) TicketPrefix_LP \n"
     ]
    }
   ],
   "source": [
    "# Random Forest\n",
    "from sklearn.ensemble import RandomForestClassifier\n",
    "from sklearn import cross_validation\n",
    "\n",
    "random_forest = RandomForestClassifier(n_estimators=3000, min_samples_split=4, class_weight={0:0.745, 1:0.255})\n",
    "kfold = cross_validation.KFold(train.shape[0], n_folds=3, random_state=42)\n",
    "\n",
    "scores = cross_validation.cross_val_score(random_forest, train[numerical_columns], target, cv=kfold)\n",
    "print(\"Accuracy: %0.3f (+/- %0.2f) [%s]\" % (scores.mean() * 100, scores.std() * 100, 'Random Forest Cross Validation'))\n",
    "\n",
    "random_forest.fit(train[numerical_columns], target)\n",
    "score = random_forest.score(train[numerical_columns], target)\n",
    "print(\"Accuracy: %0.3f             [%s]\" % (score * 100, 'Random Forest full test'))\n",
    "\n",
    "importances = random_forest.feature_importances_\n",
    "indices = np.argsort(importances)[::-1]\n",
    "for f in range(len(numerical_columns)):\n",
    "    print(\"%d. feature %d (%f) %s\" % (f + 1, indices[f] + 1, importances[indices[f]] * 100, numerical_columns[indices[f]]))"
   ]
  },
  {
   "cell_type": "code",
   "execution_count": 27,
   "metadata": {
    "collapsed": false,
    "scrolled": true
   },
   "outputs": [
    {
     "name": "stdout",
     "output_type": "stream",
     "text": [
      "Accuracy: 89.787 (+/- 0.84) [Random Forest Cross Validation]\n",
      "Accuracy: 96.184             [Random Forest full test]\n",
      "1. feature 12 (8.766979) Fare\n",
      "2. feature 9 (8.439142) NameLength\n",
      "3. feature 3 (8.184386) Age_pred\n",
      "4. feature 16 (7.382709) TicketGroup_include_perishing_women\n",
      "5. feature 18 (6.627499) SurnameGroup_include_perishing_women\n",
      "6. feature 2 (6.308788) Sex_male\n",
      "7. feature 24 (5.486266) Name_title_Mr\n",
      "8. feature 1 (5.059514) Sex_female\n",
      "9. feature 7 (5.019466) Pclass\n",
      "10. feature 4 (4.309755) SexAdult_male_adult\n",
      "11. feature 17 (4.303996) TicketGroup_include_surviving_men\n",
      "12. feature 5 (3.575601) SexAdult_female_adult\n",
      "13. feature 15 (2.741983) TicketMembers\n",
      "14. feature 13 (2.459715) FamilySize\n",
      "15. feature 19 (2.360931) SurnameGroup_include_surviving_men\n",
      "16. feature 14 (2.066773) SurnameMembers\n",
      "17. feature 25 (1.631994) Name_title_Mrs\n",
      "18. feature 26 (1.625980) Name_title_Miss\n",
      "19. feature 44 (1.558712) CabinDeck_unknown\n",
      "20. feature 8 (1.427579) TicketId\n",
      "21. feature 41 (1.385426) CabinLocation_unknown\n",
      "22. feature 10 (1.303996) SibSp\n",
      "23. feature 20 (0.953675) Embarked_S\n",
      "24. feature 11 (0.800488) Parch\n",
      "25. feature 42 (0.788113) CabinLocation_starboard\n",
      "26. feature 21 (0.707223) Embarked_C\n",
      "27. feature 6 (0.679102) SexAdult_child\n",
      "28. feature 46 (0.670280) CabinDeck_E\n",
      "29. feature 27 (0.626064) Name_title_Master\n",
      "30. feature 22 (0.504055) Embarked_Q\n",
      "31. feature 43 (0.461351) CabinLocation_port\n",
      "32. feature 45 (0.355549) CabinDeck_C\n",
      "33. feature 50 (0.317716) CabinDeck_B\n",
      "34. feature 48 (0.303520) CabinDeck_D\n",
      "35. feature 49 (0.136185) CabinDeck_A\n",
      "36. feature 29 (0.127619) Name_title_Rev\n",
      "37. feature 30 (0.112565) Name_title_Dr\n",
      "38. feature 51 (0.089749) CabinDeck_F\n",
      "39. feature 33 (0.088224) Name_title_Major\n",
      "40. feature 37 (0.075983) Name_title_Col\n",
      "41. feature 47 (0.070178) CabinDeck_G\n",
      "42. feature 38 (0.028631) Name_title_Capt\n",
      "43. feature 32 (0.023084) Name_title_Ms\n",
      "44. feature 35 (0.017019) Name_title_Sir\n",
      "45. feature 52 (0.009450) CabinDeck_T\n",
      "46. feature 28 (0.009278) Name_title_Don\n",
      "47. feature 40 (0.006649) Name_title_Jonkheer\n",
      "48. feature 36 (0.004199) Name_title_Mlle\n",
      "49. feature 31 (0.002671) Name_title_Mme\n",
      "50. feature 23 (0.002167) Embarked_unknown\n",
      "51. feature 39 (0.001264) Name_title_Countess\n",
      "52. feature 34 (0.000758) Name_title_Lady\n"
     ]
    }
   ],
   "source": [
    "# select specidic features\n",
    "features = ['Sex_female','Sex_male','Age_pred','SexAdult_male_adult','SexAdult_female_adult', 'SexAdult_child',\n",
    "            'Pclass', 'TicketId','NameLength', 'SibSp', 'Parch', 'Fare', 'FamilySize', 'SurnameMembers', 'TicketMembers',\n",
    "            'TicketGroup_include_perishing_women','TicketGroup_include_surviving_men',\n",
    "            'SurnameGroup_include_perishing_women','SurnameGroup_include_surviving_men',\n",
    "            'Embarked_S', 'Embarked_C', 'Embarked_Q', 'Embarked_unknown', \n",
    "            'Name_title_Mr', 'Name_title_Mrs', 'Name_title_Miss', 'Name_title_Master', \n",
    "            'Name_title_Don', 'Name_title_Rev', 'Name_title_Dr', 'Name_title_Mme', 'Name_title_Ms', \n",
    "            'Name_title_Major', 'Name_title_Lady', 'Name_title_Sir', 'Name_title_Mlle', 'Name_title_Col', \n",
    "            'Name_title_Capt', 'Name_title_Countess', 'Name_title_Jonkheer', \n",
    "            'CabinLocation_unknown', 'CabinLocation_starboard', 'CabinLocation_port', 'CabinDeck_unknown', \n",
    "            'CabinDeck_C', 'CabinDeck_E', 'CabinDeck_G', 'CabinDeck_D', 'CabinDeck_A', 'CabinDeck_B', 'CabinDeck_F', 'CabinDeck_T']\n",
    "\n",
    "random_forest = RandomForestClassifier(n_estimators=3000, min_samples_split=4, class_weight={0:0.745, 1:0.255})\n",
    "kfold = cross_validation.KFold(train.shape[0], n_folds=3, random_state=42)\n",
    "\n",
    "scores = cross_validation.cross_val_score(random_forest, train[features], target, cv=kfold)\n",
    "print(\"Accuracy: %0.3f (+/- %0.2f) [%s]\" % (scores.mean() * 100, scores.std() * 100, 'Random Forest Cross Validation'))\n",
    "\n",
    "random_forest.fit(train[features], target)\n",
    "score = random_forest.score(train[features], target)\n",
    "print(\"Accuracy: %0.3f             [%s]\" % (score * 100, 'Random Forest full test'))\n",
    "\n",
    "importances = random_forest.feature_importances_\n",
    "indices = np.argsort(importances)[::-1]\n",
    "for f in range(len(features)):\n",
    "    print(\"%d. feature %d (%f) %s\" % (f + 1, indices[f] + 1, importances[indices[f]] * 100, features[indices[f]]))"
   ]
  },
  {
   "cell_type": "code",
   "execution_count": 28,
   "metadata": {
    "collapsed": false,
    "scrolled": true
   },
   "outputs": [
    {
     "name": "stdout",
     "output_type": "stream",
     "text": [
      "Accuracy: 88.907 (+/- 1.53) [Random Forest Cross Validation]\n",
      "Accuracy: 92.179             [Random Forest full test]\n",
      "1. feature 12 (8.603726) Fare\n",
      "2. feature 3 (8.073160) Age_pred\n",
      "3. feature 9 (7.814268) NameLength\n",
      "4. feature 16 (6.691682) TicketGroup_include_perishing_women\n",
      "5. feature 18 (6.346775) SurnameGroup_include_perishing_women\n",
      "6. feature 2 (6.220492) Sex_male\n",
      "7. feature 7 (5.495419) Pclass\n",
      "8. feature 24 (5.348071) Name_title_Mr\n",
      "9. feature 1 (4.997784) Sex_female\n",
      "10. feature 4 (4.702065) SexAdult_male_adult\n",
      "11. feature 5 (4.197552) SexAdult_female_adult\n",
      "12. feature 17 (4.026796) TicketGroup_include_surviving_men\n",
      "13. feature 15 (2.870908) TicketMembers\n",
      "14. feature 19 (2.601923) SurnameGroup_include_surviving_men\n",
      "15. feature 13 (2.484205) FamilySize\n",
      "16. feature 14 (2.175967) SurnameMembers\n",
      "17. feature 25 (2.144181) Name_title_Mrs\n",
      "18. feature 8 (1.563971) TicketId\n",
      "19. feature 26 (1.513487) Name_title_Miss\n",
      "20. feature 41 (1.324439) CabinLocation_unknown\n",
      "21. feature 10 (1.298217) SibSp\n",
      "22. feature 44 (1.259017) CabinDeck_unknown\n",
      "23. feature 11 (0.933805) Parch\n",
      "24. feature 42 (0.924513) CabinLocation_starboard\n",
      "25. feature 20 (0.885766) Embarked_S\n",
      "26. feature 21 (0.793946) Embarked_C\n",
      "27. feature 6 (0.706921) SexAdult_child\n",
      "28. feature 27 (0.634272) Name_title_Master\n",
      "29. feature 46 (0.586257) CabinDeck_E\n",
      "30. feature 22 (0.460498) Embarked_Q\n",
      "31. feature 43 (0.428777) CabinLocation_port\n",
      "32. feature 45 (0.399894) CabinDeck_C\n",
      "33. feature 48 (0.317972) CabinDeck_D\n",
      "34. feature 50 (0.313872) CabinDeck_B\n",
      "35. feature 29 (0.146197) Name_title_Rev\n",
      "36. feature 30 (0.129587) Name_title_Dr\n",
      "37. feature 33 (0.109895) Name_title_Major\n",
      "38. feature 49 (0.106502) CabinDeck_A\n",
      "39. feature 51 (0.103186) CabinDeck_F\n",
      "40. feature 37 (0.102246) Name_title_Col\n",
      "41. feature 47 (0.088051) CabinDeck_G\n",
      "42. feature 38 (0.024682) Name_title_Capt\n",
      "43. feature 32 (0.023212) Name_title_Ms\n",
      "44. feature 36 (0.008958) Name_title_Mlle\n",
      "45. feature 23 (0.005939) Embarked_unknown\n",
      "46. feature 52 (0.005089) CabinDeck_T\n",
      "47. feature 31 (0.003131) Name_title_Mme\n",
      "48. feature 34 (0.001842) Name_title_Lady\n",
      "49. feature 39 (0.000888) Name_title_Countess\n",
      "50. feature 40 (0.000000) Name_title_Jonkheer\n",
      "51. feature 35 (0.000000) Name_title_Sir\n",
      "52. feature 28 (0.000000) Name_title_Don\n"
     ]
    }
   ],
   "source": [
    "# analyze failed.\n",
    "features = ['Sex_female','Sex_male','Age_pred','SexAdult_male_adult','SexAdult_female_adult', 'SexAdult_child',\n",
    "            'Pclass', 'TicketId','NameLength', 'SibSp', 'Parch', 'Fare', 'FamilySize', 'SurnameMembers', 'TicketMembers',\n",
    "            'TicketGroup_include_perishing_women','TicketGroup_include_surviving_men',\n",
    "            'SurnameGroup_include_perishing_women','SurnameGroup_include_surviving_men',\n",
    "            'Embarked_S', 'Embarked_C', 'Embarked_Q', 'Embarked_unknown', \n",
    "            'Name_title_Mr', 'Name_title_Mrs', 'Name_title_Miss', 'Name_title_Master', \n",
    "            'Name_title_Don', 'Name_title_Rev', 'Name_title_Dr', 'Name_title_Mme', 'Name_title_Ms', \n",
    "            'Name_title_Major', 'Name_title_Lady', 'Name_title_Sir', 'Name_title_Mlle', 'Name_title_Col', \n",
    "            'Name_title_Capt', 'Name_title_Countess', 'Name_title_Jonkheer', \n",
    "            'CabinLocation_unknown', 'CabinLocation_starboard', 'CabinLocation_port', 'CabinDeck_unknown', \n",
    "            'CabinDeck_C', 'CabinDeck_E', 'CabinDeck_G', 'CabinDeck_D', 'CabinDeck_A', 'CabinDeck_B', 'CabinDeck_F', 'CabinDeck_T']\n",
    "\n",
    "X_train, X_test, y_train, y_test = cross_validation.train_test_split(train, target, test_size=0.2, random_state=42)\n",
    "random_forest = RandomForestClassifier(n_estimators=3000, min_samples_split=4, class_weight={0:0.745, 1:0.255})\n",
    "kfold = cross_validation.KFold(X_train.shape[0], n_folds=3, random_state=42)\n",
    "\n",
    "scores = cross_validation.cross_val_score(random_forest, X_train[features], y_train, cv=kfold)\n",
    "print(\"Accuracy: %0.3f (+/- %0.2f) [%s]\" % (scores.mean() * 100, scores.std() * 100, 'Random Forest Cross Validation'))\n",
    "\n",
    "random_forest.fit(X_train[features], y_train)\n",
    "score = random_forest.score(X_test[features], y_test)\n",
    "print(\"Accuracy: %0.3f             [%s]\" % (score * 100, 'Random Forest full test'))\n",
    "pred_test = random_forest.predict(X_test[features])\n",
    "\n",
    "importances = random_forest.feature_importances_\n",
    "indices = np.argsort(importances)[::-1]\n",
    "for f in range(len(features)):\n",
    "    print(\"%d. feature %d (%f) %s\" % (f + 1, indices[f] + 1, importances[indices[f]] * 100, features[indices[f]]))"
   ]
  },
  {
   "cell_type": "code",
   "execution_count": 29,
   "metadata": {
    "collapsed": false
   },
   "outputs": [
    {
     "name": "stdout",
     "output_type": "stream",
     "text": [
      "     index   Age Cabin Embarked   Fare  \\\n",
      "21     447  34.0     0        S  26.55   \n",
      "125    604  35.0     0        C  26.55   \n",
      "161    507   0.0     0        S  26.55   \n",
      "\n",
      "                                              Name  Parch  PassengerId  \\\n",
      "21                     Seward, Mr. Frederic Kimber      0          448   \n",
      "125                Homer, Mr. Harry (\"Mr E Haven\")      0          605   \n",
      "161  Bradley, Mr. George (\"George Arthur Brayton\")      0          508   \n",
      "\n",
      "     Pclass   Sex  SibSp  Survived  Ticket Name_title  FamilySize  NameLength  \\\n",
      "21        1  male      0       1.0  113794         Mr           0          27   \n",
      "125       1  male      0       1.0  111426         Mr           0          31   \n",
      "161       1  male      0       1.0  111427         Mr           0          45   \n",
      "\n",
      "    CabinLocation CabinDeck  CabinCount    SexAdult TicketPrefix  \\\n",
      "21        unknown   unknown           0  male_adult      unknown   \n",
      "125       unknown   unknown           0  male_adult      unknown   \n",
      "161       unknown   unknown           0  male_adult      unknown   \n",
      "\n",
      "     TicketMembers  Ticket_perishing_women  \\\n",
      "21               0                     0.0   \n",
      "125              0                     0.0   \n",
      "161              0                     0.0   \n",
      "\n",
      "     TicketGroup_include_perishing_women  Ticket_surviving_men  \\\n",
      "21                                     0                   0.0   \n",
      "125                                    0                   0.0   \n",
      "161                                    0                   0.0   \n",
      "\n",
      "     TicketGroup_include_surviving_men  TicketId  surname  SurnameMembers  \\\n",
      "21                                   0        -1   seward               0   \n",
      "125                                  0        -1    homer               0   \n",
      "161                                  0        -1  bradley               1   \n",
      "\n",
      "     Surname_perishing_women  SurnameGroup_include_perishing_women  \\\n",
      "21                       0.0                                     0   \n",
      "125                      0.0                                     0   \n",
      "161                      0.0                                     0   \n",
      "\n",
      "     Surname_surviving_men  SurnameGroup_include_surviving_men  SurnameId  \\\n",
      "21                     0.0                                   0         -1   \n",
      "125                    0.0                                   0         -1   \n",
      "161                    0.0                                   0         -1   \n",
      "\n",
      "     Sex_female  Sex_male  Embarked_C  Embarked_Q  Embarked_S  \\\n",
      "21          0.0       1.0         0.0         0.0         1.0   \n",
      "125         0.0       1.0         1.0         0.0         0.0   \n",
      "161         0.0       1.0         0.0         0.0         1.0   \n",
      "\n",
      "     Embarked_unknown  Name_title_Capt  Name_title_Col  Name_title_Countess  \\\n",
      "21                0.0              0.0             0.0                  0.0   \n",
      "125               0.0              0.0             0.0                  0.0   \n",
      "161               0.0              0.0             0.0                  0.0   \n",
      "\n",
      "     Name_title_Don  Name_title_Dona  Name_title_Dr  Name_title_Jonkheer  \\\n",
      "21              0.0              0.0            0.0                  0.0   \n",
      "125             0.0              0.0            0.0                  0.0   \n",
      "161             0.0              0.0            0.0                  0.0   \n",
      "\n",
      "     Name_title_Lady  Name_title_Major  Name_title_Master     ...       \\\n",
      "21               0.0               0.0                0.0     ...        \n",
      "125              0.0               0.0                0.0     ...        \n",
      "161              0.0               0.0                0.0     ...        \n",
      "\n",
      "     CabinDeck_A  CabinDeck_B  CabinDeck_C  CabinDeck_D  CabinDeck_E  \\\n",
      "21           0.0          0.0          0.0          0.0          0.0   \n",
      "125          0.0          0.0          0.0          0.0          0.0   \n",
      "161          0.0          0.0          0.0          0.0          0.0   \n",
      "\n",
      "     CabinDeck_F  CabinDeck_G  CabinDeck_T  CabinDeck_unknown  SexAdult_child  \\\n",
      "21           0.0          0.0          0.0                1.0             0.0   \n",
      "125          0.0          0.0          0.0                1.0             0.0   \n",
      "161          0.0          0.0          0.0                1.0             0.0   \n",
      "\n",
      "     SexAdult_female_adult  SexAdult_male_adult  TicketPrefix_A  \\\n",
      "21                     0.0                  1.0             0.0   \n",
      "125                    0.0                  1.0             0.0   \n",
      "161                    0.0                  1.0             0.0   \n",
      "\n",
      "     TicketPrefix_A   TicketPrefix_AQ  TicketPrefix_AS   TicketPrefix_C   \\\n",
      "21               0.0              0.0               0.0              0.0   \n",
      "125              0.0              0.0               0.0              0.0   \n",
      "161              0.0              0.0               0.0              0.0   \n",
      "\n",
      "     TicketPrefix_CA   TicketPrefix_CASOTON   TicketPrefix_FC   \\\n",
      "21                0.0                    0.0               0.0   \n",
      "125               0.0                    0.0               0.0   \n",
      "161               0.0                    0.0               0.0   \n",
      "\n",
      "     TicketPrefix_FCC   TicketPrefix_Fa   TicketPrefix_LINE  TicketPrefix_LP   \\\n",
      "21                 0.0               0.0                0.0               0.0   \n",
      "125                0.0               0.0                0.0               0.0   \n",
      "161                0.0               0.0                0.0               0.0   \n",
      "\n",
      "     TicketPrefix_PC   TicketPrefix_PP   TicketPrefix_PPP   TicketPrefix_SC   \\\n",
      "21                0.0               0.0                0.0               0.0   \n",
      "125               0.0               0.0                0.0               0.0   \n",
      "161               0.0               0.0                0.0               0.0   \n",
      "\n",
      "     TicketPrefix_SCA  TicketPrefix_SCAH   TicketPrefix_SCAH Basle   \\\n",
      "21                0.0                 0.0                       0.0   \n",
      "125               0.0                 0.0                       0.0   \n",
      "161               0.0                 0.0                       0.0   \n",
      "\n",
      "     TicketPrefix_SCOW   TicketPrefix_SCPARIS   TicketPrefix_SCParis   \\\n",
      "21                  0.0                    0.0                    0.0   \n",
      "125                 0.0                    0.0                    0.0   \n",
      "161                 0.0                    0.0                    0.0   \n",
      "\n",
      "     TicketPrefix_SOC   TicketPrefix_SOP   TicketPrefix_SOPP   \\\n",
      "21                 0.0                0.0                 0.0   \n",
      "125                0.0                0.0                 0.0   \n",
      "161                0.0                0.0                 0.0   \n",
      "\n",
      "     TicketPrefix_SOTONO  TicketPrefix_SOTONOQ   TicketPrefix_SP   \\\n",
      "21                   0.0                    0.0               0.0   \n",
      "125                  0.0                    0.0               0.0   \n",
      "161                  0.0                    0.0               0.0   \n",
      "\n",
      "     TicketPrefix_STONO  TicketPrefix_STONO   TicketPrefix_STONOQ   \\\n",
      "21                  0.0                  0.0                   0.0   \n",
      "125                 0.0                  0.0                   0.0   \n",
      "161                 0.0                  0.0                   0.0   \n",
      "\n",
      "     TicketPrefix_SWPP   TicketPrefix_WC   TicketPrefix_WEP   \\\n",
      "21                  0.0               0.0                0.0   \n",
      "125                 0.0               0.0                0.0   \n",
      "161                 0.0               0.0                0.0   \n",
      "\n",
      "     TicketPrefix_unknown  Age_pred  Prediction  pred_result  \n",
      "21                    1.0      34.0         0.0        False  \n",
      "125                   1.0      35.0         0.0        False  \n",
      "161                   1.0      45.0         0.0        False  \n",
      "\n",
      "[3 rows x 111 columns]\n"
     ]
    }
   ],
   "source": [
    "pd.set_option(\"display.max_columns\",101)\n",
    "X_test_reseted = X_test.reset_index()\n",
    "X_test_reseted['Survived'] = y_test\n",
    "X_test_reseted['Prediction'] = pred_test\n",
    "X_test_reseted['pred_result'] = pred_test == y_test\n",
    "#print(X_test_reseted[X_test_reseted['pred_result'] == False])\n",
    "print(X_test_reseted[(X_test_reseted['pred_result'] == False) & (X_test_reseted['Sex'] == 'male') \n",
    "                     & (X_test_reseted['Pclass'] == 1) \n",
    "                     & (20 <= X_test_reseted['Age_pred']) & (X_test_reseted['Age_pred'] <= 45) \n",
    "                     & (X_test_reseted['Fare'] <= 35) & (X_test_reseted['Fare'] >= 10)\n",
    "                     & (X_test_reseted['TicketPrefix_unknown'] == 1)\n",
    "                     & (X_test_reseted['TicketMembers'] == 0)\n",
    "                     & (X_test_reseted['CabinCount'] == 0)\n",
    "                    ])"
   ]
  },
  {
   "cell_type": "code",
   "execution_count": 30,
   "metadata": {
    "collapsed": false
   },
   "outputs": [
    {
     "name": "stdout",
     "output_type": "stream",
     "text": [
      "Empty DataFrame\n",
      "Columns: [Age, Cabin, Embarked, Fare, Name, Parch, PassengerId, Pclass, Sex, SibSp, Survived, Ticket, Name_title, FamilySize, NameLength, CabinLocation, CabinDeck, CabinCount, SexAdult, TicketPrefix, TicketMembers, Ticket_perishing_women, TicketGroup_include_perishing_women, Ticket_surviving_men, TicketGroup_include_surviving_men, TicketId, surname, SurnameMembers, Surname_perishing_women, SurnameGroup_include_perishing_women, Surname_surviving_men, SurnameGroup_include_surviving_men, SurnameId, Sex_female, Sex_male, Embarked_C, Embarked_Q, Embarked_S, Embarked_unknown, Name_title_Capt, Name_title_Col, Name_title_Countess, Name_title_Don, Name_title_Dona, Name_title_Dr, Name_title_Jonkheer, Name_title_Lady, Name_title_Major, Name_title_Master, Name_title_Miss, Name_title_Mlle, Name_title_Mme, Name_title_Mr, Name_title_Mrs, Name_title_Ms, Name_title_Rev, Name_title_Sir, CabinLocation_port, CabinLocation_starboard, CabinLocation_unknown, CabinDeck_A, CabinDeck_B, CabinDeck_C, CabinDeck_D, CabinDeck_E, CabinDeck_F, CabinDeck_G, CabinDeck_T, CabinDeck_unknown, SexAdult_child, SexAdult_female_adult, SexAdult_male_adult, TicketPrefix_A, TicketPrefix_A , TicketPrefix_AQ, TicketPrefix_AS , TicketPrefix_C , TicketPrefix_CA , TicketPrefix_CASOTON , TicketPrefix_FC , TicketPrefix_FCC , TicketPrefix_Fa , TicketPrefix_LINE, TicketPrefix_LP , TicketPrefix_PC , TicketPrefix_PP , TicketPrefix_PPP , TicketPrefix_SC , TicketPrefix_SCA, TicketPrefix_SCAH , TicketPrefix_SCAH Basle , TicketPrefix_SCOW , TicketPrefix_SCPARIS , TicketPrefix_SCParis , TicketPrefix_SOC , TicketPrefix_SOP , TicketPrefix_SOPP , TicketPrefix_SOTONO, TicketPrefix_SOTONOQ , TicketPrefix_SP , ...]\n",
      "Index: []\n",
      "\n",
      "[0 rows x 108 columns]\n"
     ]
    }
   ],
   "source": [
    "print(df[(df['Survived'] == 0) & (df['Sex'] == 'male') \n",
    "         & (df['Pclass'] == 1) \n",
    "         & (20 <= df['Age_pred']) & (df['Age_pred'] <= 45) \n",
    "         & (df['Fare'] <= 35) & (df['Fare'] >= 10) \n",
    "         & (df['TicketPrefix_unknown'] == 1)\n",
    "         & (df['TicketMembers'] == 0)\n",
    "         & (df['CabinCount'] == 0)])"
   ]
  },
  {
   "cell_type": "code",
   "execution_count": 31,
   "metadata": {
    "collapsed": false
   },
   "outputs": [],
   "source": [
    "test = df[891:].copy()\n",
    "random_forest.fit(train[features], target)\n",
    "predictions = random_forest.predict(test[features])"
   ]
  },
  {
   "cell_type": "code",
   "execution_count": 32,
   "metadata": {
    "collapsed": false
   },
   "outputs": [],
   "source": [
    "PassengerId = np.array(test[\"PassengerId\"]).astype(int)\n",
    "submit_df = pd.DataFrame(predictions, PassengerId, columns = ['Survived']).astype(int)\n",
    "submit_df.to_csv('titanic.csv', index_label=['PassengerId'])"
   ]
  },
  {
   "cell_type": "code",
   "execution_count": null,
   "metadata": {
    "collapsed": true
   },
   "outputs": [],
   "source": []
  }
 ],
 "metadata": {
  "kernelspec": {
   "display_name": "Python 2",
   "language": "python",
   "name": "python2"
  },
  "language_info": {
   "codemirror_mode": {
    "name": "ipython",
    "version": 2
   },
   "file_extension": ".py",
   "mimetype": "text/x-python",
   "name": "python",
   "nbconvert_exporter": "python",
   "pygments_lexer": "ipython2",
   "version": "2.7.12"
  }
 },
 "nbformat": 4,
 "nbformat_minor": 0
}

{
 "cells": [
  {
   "cell_type": "markdown",
   "metadata": {},
   "source": [
    "code from https://www.kaggle.com/kamilkk/simple-fast-lgbm-0-66683\n",
    "\n",
    "submit history\n",
    "0.66683 : initial"
   ]
  },
  {
   "cell_type": "code",
   "execution_count": 2,
   "metadata": {},
   "outputs": [
    {
     "name": "stdout",
     "output_type": "stream",
     "text": [
      "Loading data...\n",
      "Data preprocessing...\n"
     ]
    },
    {
     "name": "stderr",
     "output_type": "stream",
     "text": [
      "100%|██████████| 19/19 [04:22<00:00, 13.81s/it]\n"
     ]
    },
    {
     "name": "stdout",
     "output_type": "stream",
     "text": [
      "Training LGBM model...\n",
      "Training until validation scores don't improve for 10 rounds.\n",
      "[10]\ttraining's auc: 0.711448\tvalid_1's auc: 0.710435\n",
      "[20]\ttraining's auc: 0.728443\tvalid_1's auc: 0.726761\n",
      "[30]\ttraining's auc: 0.739859\tvalid_1's auc: 0.737437\n",
      "[40]\ttraining's auc: 0.749608\tvalid_1's auc: 0.746279\n",
      "[50]\ttraining's auc: 0.75565\tvalid_1's auc: 0.75172\n",
      "[60]\ttraining's auc: 0.76264\tvalid_1's auc: 0.758014\n",
      "[70]\ttraining's auc: 0.767917\tvalid_1's auc: 0.762533\n",
      "[80]\ttraining's auc: 0.772212\tvalid_1's auc: 0.766092\n",
      "[90]\ttraining's auc: 0.776372\tvalid_1's auc: 0.769649\n",
      "[100]\ttraining's auc: 0.780174\tvalid_1's auc: 0.772931\n",
      "[110]\ttraining's auc: 0.783211\tvalid_1's auc: 0.775386\n",
      "[120]\ttraining's auc: 0.78603\tvalid_1's auc: 0.777629\n",
      "[130]\ttraining's auc: 0.788615\tvalid_1's auc: 0.779748\n",
      "[140]\ttraining's auc: 0.790999\tvalid_1's auc: 0.781422\n",
      "[150]\ttraining's auc: 0.793478\tvalid_1's auc: 0.783347\n",
      "[160]\ttraining's auc: 0.795818\tvalid_1's auc: 0.785116\n",
      "[170]\ttraining's auc: 0.797215\tvalid_1's auc: 0.785613\n",
      "[180]\ttraining's auc: 0.799265\tvalid_1's auc: 0.787058\n",
      "[190]\ttraining's auc: 0.801127\tvalid_1's auc: 0.788348\n",
      "[200]\ttraining's auc: 0.80268\tvalid_1's auc: 0.789168\n",
      "Making predictions and saving them...\n",
      "Done!\n"
     ]
    }
   ],
   "source": [
    "import numpy as np\n",
    "import pandas as pd\n",
    "\n",
    "from sklearn.model_selection import train_test_split\n",
    "from sklearn.preprocessing import LabelEncoder\n",
    "import lightgbm as lgb\n",
    "from tqdm import tqdm\n",
    "\n",
    "print('Loading data...')\n",
    "data_path = 'input/'\n",
    "train = pd.read_csv(data_path + 'train.csv')\n",
    "test = pd.read_csv(data_path + 'test.csv')\n",
    "songs = pd.read_csv(data_path + 'songs.csv')\n",
    "members = pd.read_csv(data_path + 'members.csv')\n",
    "\n",
    "print('Data preprocessing...')\n",
    "song_cols = ['song_id', 'artist_name', 'genre_ids', 'song_length', 'language']\n",
    "train = train.merge(songs[song_cols], on='song_id', how='left')\n",
    "test = test.merge(songs[song_cols], on='song_id', how='left')\n",
    "\n",
    "members['registration_year'] = members['registration_init_time'].apply(lambda x: int(str(x)[0:4]))\n",
    "members['registration_month'] = members['registration_init_time'].apply(lambda x: int(str(x)[4:6]))\n",
    "members['registration_date'] = members['registration_init_time'].apply(lambda x: int(str(x)[6:8]))\n",
    "\n",
    "members['expiration_year'] = members['expiration_date'].apply(lambda x: int(str(x)[0:4]))\n",
    "members['expiration_month'] = members['expiration_date'].apply(lambda x: int(str(x)[4:6]))\n",
    "members['expiration_date'] = members['expiration_date'].apply(lambda x: int(str(x)[6:8]))\n",
    "members = members.drop(['registration_init_time'], axis=1)\n",
    "\n",
    "members_cols = members.columns\n",
    "train = train.merge(members[members_cols], on='msno', how='left')\n",
    "test = test.merge(members[members_cols], on='msno', how='left')\n",
    "\n",
    "train = train.fillna(-1)\n",
    "test = test.fillna(-1)\n",
    "\n",
    "import gc\n",
    "del members, songs; gc.collect();\n",
    "\n",
    "cols = list(train.columns)\n",
    "cols.remove('target')\n",
    "\n",
    "for col in tqdm(cols):\n",
    "    if train[col].dtype == 'object':\n",
    "        train[col] = train[col].apply(str)\n",
    "        test[col] = test[col].apply(str)\n",
    "\n",
    "        le = LabelEncoder()\n",
    "        train_vals = list(train[col].unique())\n",
    "        test_vals = list(test[col].unique())\n",
    "        le.fit(train_vals + test_vals)\n",
    "        train[col] = le.transform(train[col])\n",
    "        test[col] = le.transform(test[col])\n",
    "\n",
    "X = np.array(train.drop(['target'], axis=1))\n",
    "y = train['target'].values\n",
    "\n",
    "X_test = np.array(test.drop(['id'], axis=1))\n",
    "ids = test['id'].values\n",
    "\n",
    "del train, test; gc.collect();\n",
    "\n",
    "X_train, X_valid, y_train, y_valid = train_test_split(X, y, \\\n",
    "    test_size=0.1, random_state = 12)\n",
    "    \n",
    "del X, y; gc.collect();\n",
    "\n",
    "\n",
    "d_train = lgb.Dataset(X_train, label=y_train)\n",
    "d_valid = lgb.Dataset(X_valid, label=y_valid) \n",
    "\n",
    "watchlist = [d_train, d_valid]\n",
    "\n",
    "\n",
    "print('Training LGBM model...')\n",
    "params = {}\n",
    "params['learning_rate'] = 0.4\n",
    "params['application'] = 'binary'\n",
    "params['max_depth'] = 15\n",
    "params['num_leaves'] = 2**8\n",
    "params['verbosity'] = 0\n",
    "params['metric'] = 'auc'\n",
    "\n",
    "model = lgb.train(params, train_set=d_train, num_boost_round=200, valid_sets=watchlist, \\\n",
    "early_stopping_rounds=10, verbose_eval=10)\n",
    "\n",
    "print('Making predictions and saving them...')\n",
    "p_test = model.predict(X_test)\n",
    "\n",
    "subm = pd.DataFrame()\n",
    "subm['id'] = ids\n",
    "subm['target'] = p_test\n",
    "subm.to_csv('lgbm-66683/submission.csv.gz', compression = 'gzip', index=False, float_format = '%.5f')\n",
    "print('Done!')"
   ]
  },
  {
   "cell_type": "code",
   "execution_count": null,
   "metadata": {
    "collapsed": true
   },
   "outputs": [],
   "source": []
  }
 ],
 "metadata": {
  "kernelspec": {
   "display_name": "Python 3",
   "language": "python",
   "name": "python3"
  },
  "language_info": {
   "codemirror_mode": {
    "name": "ipython",
    "version": 3
   },
   "file_extension": ".py",
   "mimetype": "text/x-python",
   "name": "python",
   "nbconvert_exporter": "python",
   "pygments_lexer": "ipython3",
   "version": "3.6.2"
  }
 },
 "nbformat": 4,
 "nbformat_minor": 2
}
